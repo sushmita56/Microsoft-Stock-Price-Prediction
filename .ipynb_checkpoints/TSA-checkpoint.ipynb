{
 "cells": [
  {
   "cell_type": "code",
   "execution_count": 1,
   "metadata": {
    "id": "LlF5KMWfaIHg"
   },
   "outputs": [],
   "source": [
    "import pandas_datareader as pdr\n",
    "key=\"a013a01247e6476f7b93bd452bb4d6fc5756788f\""
   ]
  },
  {
   "cell_type": "code",
   "execution_count": 2,
   "metadata": {
    "colab": {
     "base_uri": "https://localhost:8080/"
    },
    "id": "K6pfVxNpaUor",
    "outputId": "9e924e07-ef5f-4906-8f95-27ab80214fb8"
   },
   "outputs": [
    {
     "name": "stderr",
     "output_type": "stream",
     "text": [
      "/home/sushmita/anaconda3/envs/tfEnv/lib/python3.10/site-packages/pandas_datareader/tiingo.py:234: FutureWarning: In a future version of pandas all arguments of concat except for the argument 'objs' will be keyword-only.\n",
      "  return pd.concat(dfs, self._concat_axis)\n"
     ]
    }
   ],
   "source": [
    "df = pdr.get_data_tiingo('AAPL', api_key=key)"
   ]
  },
  {
   "cell_type": "code",
   "execution_count": 3,
   "metadata": {
    "colab": {
     "base_uri": "https://localhost:8080/"
    },
    "id": "lR9BuAGob6o5",
    "outputId": "30796a16-0da0-4e91-a9d8-83cfb67b1263"
   },
   "outputs": [
    {
     "name": "stdout",
     "output_type": "stream",
     "text": [
      "                                   close    high     low    open    volume  \\\n",
      "symbol date                                                                  \n",
      "AAPL   2018-01-22 00:00:00+00:00  177.00  177.78  176.60  177.30  26023683   \n",
      "       2018-01-23 00:00:00+00:00  177.04  179.44  176.82  177.30  31702531   \n",
      "       2018-01-24 00:00:00+00:00  174.22  177.30  173.20  177.25  50562257   \n",
      "       2018-01-25 00:00:00+00:00  171.11  174.95  170.53  174.51  39661804   \n",
      "       2018-01-26 00:00:00+00:00  171.51  172.00  170.06  172.00  37121805   \n",
      "\n",
      "                                   adjClose    adjHigh     adjLow    adjOpen  \\\n",
      "symbol date                                                                    \n",
      "AAPL   2018-01-22 00:00:00+00:00  42.022247  42.207430  41.927281  42.093471   \n",
      "       2018-01-23 00:00:00+00:00  42.031743  42.601536  41.979512  42.093471   \n",
      "       2018-01-24 00:00:00+00:00  41.362236  42.093471  41.120074  42.081600   \n",
      "       2018-01-25 00:00:00+00:00  40.623879  41.535548  40.486179  41.431086   \n",
      "       2018-01-26 00:00:00+00:00  40.718845  40.835178  40.374595  40.835178   \n",
      "\n",
      "                                  adjVolume  divCash  splitFactor  \n",
      "symbol date                                                        \n",
      "AAPL   2018-01-22 00:00:00+00:00  104094732      0.0          1.0  \n",
      "       2018-01-23 00:00:00+00:00  126810124      0.0          1.0  \n",
      "       2018-01-24 00:00:00+00:00  202249028      0.0          1.0  \n",
      "       2018-01-25 00:00:00+00:00  158647216      0.0          1.0  \n",
      "       2018-01-26 00:00:00+00:00  148487220      0.0          1.0  \n"
     ]
    }
   ],
   "source": [
    "print(df.head())"
   ]
  },
  {
   "cell_type": "code",
   "execution_count": 4,
   "metadata": {
    "id": "qht88CF8cFbo"
   },
   "outputs": [],
   "source": [
    "import pandas as pd\n",
    "df1=df['close']"
   ]
  },
  {
   "cell_type": "code",
   "execution_count": 5,
   "metadata": {
    "colab": {
     "base_uri": "https://localhost:8080/"
    },
    "id": "qYt6fjB7cknY",
    "outputId": "6eb68bd3-e165-44dc-8541-f744a701b593"
   },
   "outputs": [
    {
     "data": {
      "text/plain": [
       "[Timestamp('2018-01-22 00:00:00+0000', tz='UTC'),\n",
       " Timestamp('2018-01-23 00:00:00+0000', tz='UTC'),\n",
       " Timestamp('2018-01-24 00:00:00+0000', tz='UTC'),\n",
       " Timestamp('2018-01-25 00:00:00+0000', tz='UTC'),\n",
       " Timestamp('2018-01-26 00:00:00+0000', tz='UTC'),\n",
       " Timestamp('2018-01-29 00:00:00+0000', tz='UTC'),\n",
       " Timestamp('2018-01-30 00:00:00+0000', tz='UTC'),\n",
       " Timestamp('2018-01-31 00:00:00+0000', tz='UTC'),\n",
       " Timestamp('2018-02-01 00:00:00+0000', tz='UTC'),\n",
       " Timestamp('2018-02-02 00:00:00+0000', tz='UTC'),\n",
       " Timestamp('2018-02-05 00:00:00+0000', tz='UTC'),\n",
       " Timestamp('2018-02-06 00:00:00+0000', tz='UTC'),\n",
       " Timestamp('2018-02-07 00:00:00+0000', tz='UTC'),\n",
       " Timestamp('2018-02-08 00:00:00+0000', tz='UTC'),\n",
       " Timestamp('2018-02-09 00:00:00+0000', tz='UTC'),\n",
       " Timestamp('2018-02-12 00:00:00+0000', tz='UTC'),\n",
       " Timestamp('2018-02-13 00:00:00+0000', tz='UTC'),\n",
       " Timestamp('2018-02-14 00:00:00+0000', tz='UTC'),\n",
       " Timestamp('2018-02-15 00:00:00+0000', tz='UTC'),\n",
       " Timestamp('2018-02-16 00:00:00+0000', tz='UTC'),\n",
       " Timestamp('2018-02-20 00:00:00+0000', tz='UTC'),\n",
       " Timestamp('2018-02-21 00:00:00+0000', tz='UTC'),\n",
       " Timestamp('2018-02-22 00:00:00+0000', tz='UTC'),\n",
       " Timestamp('2018-02-23 00:00:00+0000', tz='UTC'),\n",
       " Timestamp('2018-02-26 00:00:00+0000', tz='UTC'),\n",
       " Timestamp('2018-02-27 00:00:00+0000', tz='UTC'),\n",
       " Timestamp('2018-02-28 00:00:00+0000', tz='UTC'),\n",
       " Timestamp('2018-03-01 00:00:00+0000', tz='UTC'),\n",
       " Timestamp('2018-03-02 00:00:00+0000', tz='UTC'),\n",
       " Timestamp('2018-03-05 00:00:00+0000', tz='UTC'),\n",
       " Timestamp('2018-03-06 00:00:00+0000', tz='UTC'),\n",
       " Timestamp('2018-03-07 00:00:00+0000', tz='UTC'),\n",
       " Timestamp('2018-03-08 00:00:00+0000', tz='UTC'),\n",
       " Timestamp('2018-03-09 00:00:00+0000', tz='UTC'),\n",
       " Timestamp('2018-03-12 00:00:00+0000', tz='UTC'),\n",
       " Timestamp('2018-03-13 00:00:00+0000', tz='UTC'),\n",
       " Timestamp('2018-03-14 00:00:00+0000', tz='UTC'),\n",
       " Timestamp('2018-03-15 00:00:00+0000', tz='UTC'),\n",
       " Timestamp('2018-03-16 00:00:00+0000', tz='UTC'),\n",
       " Timestamp('2018-03-19 00:00:00+0000', tz='UTC'),\n",
       " Timestamp('2018-03-20 00:00:00+0000', tz='UTC'),\n",
       " Timestamp('2018-03-21 00:00:00+0000', tz='UTC'),\n",
       " Timestamp('2018-03-22 00:00:00+0000', tz='UTC'),\n",
       " Timestamp('2018-03-23 00:00:00+0000', tz='UTC'),\n",
       " Timestamp('2018-03-26 00:00:00+0000', tz='UTC'),\n",
       " Timestamp('2018-03-27 00:00:00+0000', tz='UTC'),\n",
       " Timestamp('2018-03-28 00:00:00+0000', tz='UTC'),\n",
       " Timestamp('2018-03-29 00:00:00+0000', tz='UTC'),\n",
       " Timestamp('2018-04-02 00:00:00+0000', tz='UTC'),\n",
       " Timestamp('2018-04-03 00:00:00+0000', tz='UTC'),\n",
       " Timestamp('2018-04-04 00:00:00+0000', tz='UTC'),\n",
       " Timestamp('2018-04-05 00:00:00+0000', tz='UTC'),\n",
       " Timestamp('2018-04-06 00:00:00+0000', tz='UTC'),\n",
       " Timestamp('2018-04-09 00:00:00+0000', tz='UTC'),\n",
       " Timestamp('2018-04-10 00:00:00+0000', tz='UTC'),\n",
       " Timestamp('2018-04-11 00:00:00+0000', tz='UTC'),\n",
       " Timestamp('2018-04-12 00:00:00+0000', tz='UTC'),\n",
       " Timestamp('2018-04-13 00:00:00+0000', tz='UTC'),\n",
       " Timestamp('2018-04-16 00:00:00+0000', tz='UTC'),\n",
       " Timestamp('2018-04-17 00:00:00+0000', tz='UTC'),\n",
       " Timestamp('2018-04-18 00:00:00+0000', tz='UTC'),\n",
       " Timestamp('2018-04-19 00:00:00+0000', tz='UTC'),\n",
       " Timestamp('2018-04-20 00:00:00+0000', tz='UTC'),\n",
       " Timestamp('2018-04-23 00:00:00+0000', tz='UTC'),\n",
       " Timestamp('2018-04-24 00:00:00+0000', tz='UTC'),\n",
       " Timestamp('2018-04-25 00:00:00+0000', tz='UTC'),\n",
       " Timestamp('2018-04-26 00:00:00+0000', tz='UTC'),\n",
       " Timestamp('2018-04-27 00:00:00+0000', tz='UTC'),\n",
       " Timestamp('2018-04-30 00:00:00+0000', tz='UTC'),\n",
       " Timestamp('2018-05-01 00:00:00+0000', tz='UTC'),\n",
       " Timestamp('2018-05-02 00:00:00+0000', tz='UTC'),\n",
       " Timestamp('2018-05-03 00:00:00+0000', tz='UTC'),\n",
       " Timestamp('2018-05-04 00:00:00+0000', tz='UTC'),\n",
       " Timestamp('2018-05-07 00:00:00+0000', tz='UTC'),\n",
       " Timestamp('2018-05-08 00:00:00+0000', tz='UTC'),\n",
       " Timestamp('2018-05-09 00:00:00+0000', tz='UTC'),\n",
       " Timestamp('2018-05-10 00:00:00+0000', tz='UTC'),\n",
       " Timestamp('2018-05-11 00:00:00+0000', tz='UTC'),\n",
       " Timestamp('2018-05-14 00:00:00+0000', tz='UTC'),\n",
       " Timestamp('2018-05-15 00:00:00+0000', tz='UTC'),\n",
       " Timestamp('2018-05-16 00:00:00+0000', tz='UTC'),\n",
       " Timestamp('2018-05-17 00:00:00+0000', tz='UTC'),\n",
       " Timestamp('2018-05-18 00:00:00+0000', tz='UTC'),\n",
       " Timestamp('2018-05-21 00:00:00+0000', tz='UTC'),\n",
       " Timestamp('2018-05-22 00:00:00+0000', tz='UTC'),\n",
       " Timestamp('2018-05-23 00:00:00+0000', tz='UTC'),\n",
       " Timestamp('2018-05-24 00:00:00+0000', tz='UTC'),\n",
       " Timestamp('2018-05-25 00:00:00+0000', tz='UTC'),\n",
       " Timestamp('2018-05-29 00:00:00+0000', tz='UTC'),\n",
       " Timestamp('2018-05-30 00:00:00+0000', tz='UTC'),\n",
       " Timestamp('2018-05-31 00:00:00+0000', tz='UTC'),\n",
       " Timestamp('2018-06-01 00:00:00+0000', tz='UTC'),\n",
       " Timestamp('2018-06-04 00:00:00+0000', tz='UTC'),\n",
       " Timestamp('2018-06-05 00:00:00+0000', tz='UTC'),\n",
       " Timestamp('2018-06-06 00:00:00+0000', tz='UTC'),\n",
       " Timestamp('2018-06-07 00:00:00+0000', tz='UTC'),\n",
       " Timestamp('2018-06-08 00:00:00+0000', tz='UTC'),\n",
       " Timestamp('2018-06-11 00:00:00+0000', tz='UTC'),\n",
       " Timestamp('2018-06-12 00:00:00+0000', tz='UTC'),\n",
       " Timestamp('2018-06-13 00:00:00+0000', tz='UTC'),\n",
       " Timestamp('2018-06-14 00:00:00+0000', tz='UTC'),\n",
       " Timestamp('2018-06-15 00:00:00+0000', tz='UTC'),\n",
       " Timestamp('2018-06-18 00:00:00+0000', tz='UTC'),\n",
       " Timestamp('2018-06-19 00:00:00+0000', tz='UTC'),\n",
       " Timestamp('2018-06-20 00:00:00+0000', tz='UTC'),\n",
       " Timestamp('2018-06-21 00:00:00+0000', tz='UTC'),\n",
       " Timestamp('2018-06-22 00:00:00+0000', tz='UTC'),\n",
       " Timestamp('2018-06-25 00:00:00+0000', tz='UTC'),\n",
       " Timestamp('2018-06-26 00:00:00+0000', tz='UTC'),\n",
       " Timestamp('2018-06-27 00:00:00+0000', tz='UTC'),\n",
       " Timestamp('2018-06-28 00:00:00+0000', tz='UTC'),\n",
       " Timestamp('2018-06-29 00:00:00+0000', tz='UTC'),\n",
       " Timestamp('2018-07-02 00:00:00+0000', tz='UTC'),\n",
       " Timestamp('2018-07-03 00:00:00+0000', tz='UTC'),\n",
       " Timestamp('2018-07-05 00:00:00+0000', tz='UTC'),\n",
       " Timestamp('2018-07-06 00:00:00+0000', tz='UTC'),\n",
       " Timestamp('2018-07-09 00:00:00+0000', tz='UTC'),\n",
       " Timestamp('2018-07-10 00:00:00+0000', tz='UTC'),\n",
       " Timestamp('2018-07-11 00:00:00+0000', tz='UTC'),\n",
       " Timestamp('2018-07-12 00:00:00+0000', tz='UTC'),\n",
       " Timestamp('2018-07-13 00:00:00+0000', tz='UTC'),\n",
       " Timestamp('2018-07-16 00:00:00+0000', tz='UTC'),\n",
       " Timestamp('2018-07-17 00:00:00+0000', tz='UTC'),\n",
       " Timestamp('2018-07-18 00:00:00+0000', tz='UTC'),\n",
       " Timestamp('2018-07-19 00:00:00+0000', tz='UTC'),\n",
       " Timestamp('2018-07-20 00:00:00+0000', tz='UTC'),\n",
       " Timestamp('2018-07-23 00:00:00+0000', tz='UTC'),\n",
       " Timestamp('2018-07-24 00:00:00+0000', tz='UTC'),\n",
       " Timestamp('2018-07-25 00:00:00+0000', tz='UTC'),\n",
       " Timestamp('2018-07-26 00:00:00+0000', tz='UTC'),\n",
       " Timestamp('2018-07-27 00:00:00+0000', tz='UTC'),\n",
       " Timestamp('2018-07-30 00:00:00+0000', tz='UTC'),\n",
       " Timestamp('2018-07-31 00:00:00+0000', tz='UTC'),\n",
       " Timestamp('2018-08-01 00:00:00+0000', tz='UTC'),\n",
       " Timestamp('2018-08-02 00:00:00+0000', tz='UTC'),\n",
       " Timestamp('2018-08-03 00:00:00+0000', tz='UTC'),\n",
       " Timestamp('2018-08-06 00:00:00+0000', tz='UTC'),\n",
       " Timestamp('2018-08-07 00:00:00+0000', tz='UTC'),\n",
       " Timestamp('2018-08-08 00:00:00+0000', tz='UTC'),\n",
       " Timestamp('2018-08-09 00:00:00+0000', tz='UTC'),\n",
       " Timestamp('2018-08-10 00:00:00+0000', tz='UTC'),\n",
       " Timestamp('2018-08-13 00:00:00+0000', tz='UTC'),\n",
       " Timestamp('2018-08-14 00:00:00+0000', tz='UTC'),\n",
       " Timestamp('2018-08-15 00:00:00+0000', tz='UTC'),\n",
       " Timestamp('2018-08-16 00:00:00+0000', tz='UTC'),\n",
       " Timestamp('2018-08-17 00:00:00+0000', tz='UTC'),\n",
       " Timestamp('2018-08-20 00:00:00+0000', tz='UTC'),\n",
       " Timestamp('2018-08-21 00:00:00+0000', tz='UTC'),\n",
       " Timestamp('2018-08-22 00:00:00+0000', tz='UTC'),\n",
       " Timestamp('2018-08-23 00:00:00+0000', tz='UTC'),\n",
       " Timestamp('2018-08-24 00:00:00+0000', tz='UTC'),\n",
       " Timestamp('2018-08-27 00:00:00+0000', tz='UTC'),\n",
       " Timestamp('2018-08-28 00:00:00+0000', tz='UTC'),\n",
       " Timestamp('2018-08-29 00:00:00+0000', tz='UTC'),\n",
       " Timestamp('2018-08-30 00:00:00+0000', tz='UTC'),\n",
       " Timestamp('2018-08-31 00:00:00+0000', tz='UTC'),\n",
       " Timestamp('2018-09-04 00:00:00+0000', tz='UTC'),\n",
       " Timestamp('2018-09-05 00:00:00+0000', tz='UTC'),\n",
       " Timestamp('2018-09-06 00:00:00+0000', tz='UTC'),\n",
       " Timestamp('2018-09-07 00:00:00+0000', tz='UTC'),\n",
       " Timestamp('2018-09-10 00:00:00+0000', tz='UTC'),\n",
       " Timestamp('2018-09-11 00:00:00+0000', tz='UTC'),\n",
       " Timestamp('2018-09-12 00:00:00+0000', tz='UTC'),\n",
       " Timestamp('2018-09-13 00:00:00+0000', tz='UTC'),\n",
       " Timestamp('2018-09-14 00:00:00+0000', tz='UTC'),\n",
       " Timestamp('2018-09-17 00:00:00+0000', tz='UTC'),\n",
       " Timestamp('2018-09-18 00:00:00+0000', tz='UTC'),\n",
       " Timestamp('2018-09-19 00:00:00+0000', tz='UTC'),\n",
       " Timestamp('2018-09-20 00:00:00+0000', tz='UTC'),\n",
       " Timestamp('2018-09-21 00:00:00+0000', tz='UTC'),\n",
       " Timestamp('2018-09-24 00:00:00+0000', tz='UTC'),\n",
       " Timestamp('2018-09-25 00:00:00+0000', tz='UTC'),\n",
       " Timestamp('2018-09-26 00:00:00+0000', tz='UTC'),\n",
       " Timestamp('2018-09-27 00:00:00+0000', tz='UTC'),\n",
       " Timestamp('2018-09-28 00:00:00+0000', tz='UTC'),\n",
       " Timestamp('2018-10-01 00:00:00+0000', tz='UTC'),\n",
       " Timestamp('2018-10-02 00:00:00+0000', tz='UTC'),\n",
       " Timestamp('2018-10-03 00:00:00+0000', tz='UTC'),\n",
       " Timestamp('2018-10-04 00:00:00+0000', tz='UTC'),\n",
       " Timestamp('2018-10-05 00:00:00+0000', tz='UTC'),\n",
       " Timestamp('2018-10-08 00:00:00+0000', tz='UTC'),\n",
       " Timestamp('2018-10-09 00:00:00+0000', tz='UTC'),\n",
       " Timestamp('2018-10-10 00:00:00+0000', tz='UTC'),\n",
       " Timestamp('2018-10-11 00:00:00+0000', tz='UTC'),\n",
       " Timestamp('2018-10-12 00:00:00+0000', tz='UTC'),\n",
       " Timestamp('2018-10-15 00:00:00+0000', tz='UTC'),\n",
       " Timestamp('2018-10-16 00:00:00+0000', tz='UTC'),\n",
       " Timestamp('2018-10-17 00:00:00+0000', tz='UTC'),\n",
       " Timestamp('2018-10-18 00:00:00+0000', tz='UTC'),\n",
       " Timestamp('2018-10-19 00:00:00+0000', tz='UTC'),\n",
       " Timestamp('2018-10-22 00:00:00+0000', tz='UTC'),\n",
       " Timestamp('2018-10-23 00:00:00+0000', tz='UTC'),\n",
       " Timestamp('2018-10-24 00:00:00+0000', tz='UTC'),\n",
       " Timestamp('2018-10-25 00:00:00+0000', tz='UTC'),\n",
       " Timestamp('2018-10-26 00:00:00+0000', tz='UTC'),\n",
       " Timestamp('2018-10-29 00:00:00+0000', tz='UTC'),\n",
       " Timestamp('2018-10-30 00:00:00+0000', tz='UTC'),\n",
       " Timestamp('2018-10-31 00:00:00+0000', tz='UTC'),\n",
       " Timestamp('2018-11-01 00:00:00+0000', tz='UTC'),\n",
       " Timestamp('2018-11-02 00:00:00+0000', tz='UTC'),\n",
       " Timestamp('2018-11-05 00:00:00+0000', tz='UTC'),\n",
       " Timestamp('2018-11-06 00:00:00+0000', tz='UTC'),\n",
       " Timestamp('2018-11-07 00:00:00+0000', tz='UTC'),\n",
       " Timestamp('2018-11-08 00:00:00+0000', tz='UTC'),\n",
       " Timestamp('2018-11-09 00:00:00+0000', tz='UTC'),\n",
       " Timestamp('2018-11-12 00:00:00+0000', tz='UTC'),\n",
       " Timestamp('2018-11-13 00:00:00+0000', tz='UTC'),\n",
       " Timestamp('2018-11-14 00:00:00+0000', tz='UTC'),\n",
       " Timestamp('2018-11-15 00:00:00+0000', tz='UTC'),\n",
       " Timestamp('2018-11-16 00:00:00+0000', tz='UTC'),\n",
       " Timestamp('2018-11-19 00:00:00+0000', tz='UTC'),\n",
       " Timestamp('2018-11-20 00:00:00+0000', tz='UTC'),\n",
       " Timestamp('2018-11-21 00:00:00+0000', tz='UTC'),\n",
       " Timestamp('2018-11-23 00:00:00+0000', tz='UTC'),\n",
       " Timestamp('2018-11-26 00:00:00+0000', tz='UTC'),\n",
       " Timestamp('2018-11-27 00:00:00+0000', tz='UTC'),\n",
       " Timestamp('2018-11-28 00:00:00+0000', tz='UTC'),\n",
       " Timestamp('2018-11-29 00:00:00+0000', tz='UTC'),\n",
       " Timestamp('2018-11-30 00:00:00+0000', tz='UTC'),\n",
       " Timestamp('2018-12-03 00:00:00+0000', tz='UTC'),\n",
       " Timestamp('2018-12-04 00:00:00+0000', tz='UTC'),\n",
       " Timestamp('2018-12-06 00:00:00+0000', tz='UTC'),\n",
       " Timestamp('2018-12-07 00:00:00+0000', tz='UTC'),\n",
       " Timestamp('2018-12-10 00:00:00+0000', tz='UTC'),\n",
       " Timestamp('2018-12-11 00:00:00+0000', tz='UTC'),\n",
       " Timestamp('2018-12-12 00:00:00+0000', tz='UTC'),\n",
       " Timestamp('2018-12-13 00:00:00+0000', tz='UTC'),\n",
       " Timestamp('2018-12-14 00:00:00+0000', tz='UTC'),\n",
       " Timestamp('2018-12-17 00:00:00+0000', tz='UTC'),\n",
       " Timestamp('2018-12-18 00:00:00+0000', tz='UTC'),\n",
       " Timestamp('2018-12-19 00:00:00+0000', tz='UTC'),\n",
       " Timestamp('2018-12-20 00:00:00+0000', tz='UTC'),\n",
       " Timestamp('2018-12-21 00:00:00+0000', tz='UTC'),\n",
       " Timestamp('2018-12-24 00:00:00+0000', tz='UTC'),\n",
       " Timestamp('2018-12-26 00:00:00+0000', tz='UTC'),\n",
       " Timestamp('2018-12-27 00:00:00+0000', tz='UTC'),\n",
       " Timestamp('2018-12-28 00:00:00+0000', tz='UTC'),\n",
       " Timestamp('2018-12-31 00:00:00+0000', tz='UTC'),\n",
       " Timestamp('2019-01-02 00:00:00+0000', tz='UTC'),\n",
       " Timestamp('2019-01-03 00:00:00+0000', tz='UTC'),\n",
       " Timestamp('2019-01-04 00:00:00+0000', tz='UTC'),\n",
       " Timestamp('2019-01-07 00:00:00+0000', tz='UTC'),\n",
       " Timestamp('2019-01-08 00:00:00+0000', tz='UTC'),\n",
       " Timestamp('2019-01-09 00:00:00+0000', tz='UTC'),\n",
       " Timestamp('2019-01-10 00:00:00+0000', tz='UTC'),\n",
       " Timestamp('2019-01-11 00:00:00+0000', tz='UTC'),\n",
       " Timestamp('2019-01-14 00:00:00+0000', tz='UTC'),\n",
       " Timestamp('2019-01-15 00:00:00+0000', tz='UTC'),\n",
       " Timestamp('2019-01-16 00:00:00+0000', tz='UTC'),\n",
       " Timestamp('2019-01-17 00:00:00+0000', tz='UTC'),\n",
       " Timestamp('2019-01-18 00:00:00+0000', tz='UTC'),\n",
       " Timestamp('2019-01-22 00:00:00+0000', tz='UTC'),\n",
       " Timestamp('2019-01-23 00:00:00+0000', tz='UTC'),\n",
       " Timestamp('2019-01-24 00:00:00+0000', tz='UTC'),\n",
       " Timestamp('2019-01-25 00:00:00+0000', tz='UTC'),\n",
       " Timestamp('2019-01-28 00:00:00+0000', tz='UTC'),\n",
       " Timestamp('2019-01-29 00:00:00+0000', tz='UTC'),\n",
       " Timestamp('2019-01-30 00:00:00+0000', tz='UTC'),\n",
       " Timestamp('2019-01-31 00:00:00+0000', tz='UTC'),\n",
       " Timestamp('2019-02-01 00:00:00+0000', tz='UTC'),\n",
       " Timestamp('2019-02-04 00:00:00+0000', tz='UTC'),\n",
       " Timestamp('2019-02-05 00:00:00+0000', tz='UTC'),\n",
       " Timestamp('2019-02-06 00:00:00+0000', tz='UTC'),\n",
       " Timestamp('2019-02-07 00:00:00+0000', tz='UTC'),\n",
       " Timestamp('2019-02-08 00:00:00+0000', tz='UTC'),\n",
       " Timestamp('2019-02-11 00:00:00+0000', tz='UTC'),\n",
       " Timestamp('2019-02-12 00:00:00+0000', tz='UTC'),\n",
       " Timestamp('2019-02-13 00:00:00+0000', tz='UTC'),\n",
       " Timestamp('2019-02-14 00:00:00+0000', tz='UTC'),\n",
       " Timestamp('2019-02-15 00:00:00+0000', tz='UTC'),\n",
       " Timestamp('2019-02-19 00:00:00+0000', tz='UTC'),\n",
       " Timestamp('2019-02-20 00:00:00+0000', tz='UTC'),\n",
       " Timestamp('2019-02-21 00:00:00+0000', tz='UTC'),\n",
       " Timestamp('2019-02-22 00:00:00+0000', tz='UTC'),\n",
       " Timestamp('2019-02-25 00:00:00+0000', tz='UTC'),\n",
       " Timestamp('2019-02-26 00:00:00+0000', tz='UTC'),\n",
       " Timestamp('2019-02-27 00:00:00+0000', tz='UTC'),\n",
       " Timestamp('2019-02-28 00:00:00+0000', tz='UTC'),\n",
       " Timestamp('2019-03-01 00:00:00+0000', tz='UTC'),\n",
       " Timestamp('2019-03-04 00:00:00+0000', tz='UTC'),\n",
       " Timestamp('2019-03-05 00:00:00+0000', tz='UTC'),\n",
       " Timestamp('2019-03-06 00:00:00+0000', tz='UTC'),\n",
       " Timestamp('2019-03-07 00:00:00+0000', tz='UTC'),\n",
       " Timestamp('2019-03-08 00:00:00+0000', tz='UTC'),\n",
       " Timestamp('2019-03-11 00:00:00+0000', tz='UTC'),\n",
       " Timestamp('2019-03-12 00:00:00+0000', tz='UTC'),\n",
       " Timestamp('2019-03-13 00:00:00+0000', tz='UTC'),\n",
       " Timestamp('2019-03-14 00:00:00+0000', tz='UTC'),\n",
       " Timestamp('2019-03-15 00:00:00+0000', tz='UTC'),\n",
       " Timestamp('2019-03-18 00:00:00+0000', tz='UTC'),\n",
       " Timestamp('2019-03-19 00:00:00+0000', tz='UTC'),\n",
       " Timestamp('2019-03-20 00:00:00+0000', tz='UTC'),\n",
       " Timestamp('2019-03-21 00:00:00+0000', tz='UTC'),\n",
       " Timestamp('2019-03-22 00:00:00+0000', tz='UTC'),\n",
       " Timestamp('2019-03-25 00:00:00+0000', tz='UTC'),\n",
       " Timestamp('2019-03-26 00:00:00+0000', tz='UTC'),\n",
       " Timestamp('2019-03-27 00:00:00+0000', tz='UTC'),\n",
       " Timestamp('2019-03-28 00:00:00+0000', tz='UTC'),\n",
       " Timestamp('2019-03-29 00:00:00+0000', tz='UTC'),\n",
       " Timestamp('2019-04-01 00:00:00+0000', tz='UTC'),\n",
       " Timestamp('2019-04-02 00:00:00+0000', tz='UTC'),\n",
       " Timestamp('2019-04-03 00:00:00+0000', tz='UTC'),\n",
       " Timestamp('2019-04-04 00:00:00+0000', tz='UTC'),\n",
       " Timestamp('2019-04-05 00:00:00+0000', tz='UTC'),\n",
       " Timestamp('2019-04-08 00:00:00+0000', tz='UTC'),\n",
       " Timestamp('2019-04-09 00:00:00+0000', tz='UTC'),\n",
       " Timestamp('2019-04-10 00:00:00+0000', tz='UTC'),\n",
       " Timestamp('2019-04-11 00:00:00+0000', tz='UTC'),\n",
       " Timestamp('2019-04-12 00:00:00+0000', tz='UTC'),\n",
       " Timestamp('2019-04-15 00:00:00+0000', tz='UTC'),\n",
       " Timestamp('2019-04-16 00:00:00+0000', tz='UTC'),\n",
       " Timestamp('2019-04-17 00:00:00+0000', tz='UTC'),\n",
       " Timestamp('2019-04-18 00:00:00+0000', tz='UTC'),\n",
       " Timestamp('2019-04-22 00:00:00+0000', tz='UTC'),\n",
       " Timestamp('2019-04-23 00:00:00+0000', tz='UTC'),\n",
       " Timestamp('2019-04-24 00:00:00+0000', tz='UTC'),\n",
       " Timestamp('2019-04-25 00:00:00+0000', tz='UTC'),\n",
       " Timestamp('2019-04-26 00:00:00+0000', tz='UTC'),\n",
       " Timestamp('2019-04-29 00:00:00+0000', tz='UTC'),\n",
       " Timestamp('2019-04-30 00:00:00+0000', tz='UTC'),\n",
       " Timestamp('2019-05-01 00:00:00+0000', tz='UTC'),\n",
       " Timestamp('2019-05-02 00:00:00+0000', tz='UTC'),\n",
       " Timestamp('2019-05-03 00:00:00+0000', tz='UTC'),\n",
       " Timestamp('2019-05-06 00:00:00+0000', tz='UTC'),\n",
       " Timestamp('2019-05-07 00:00:00+0000', tz='UTC'),\n",
       " Timestamp('2019-05-08 00:00:00+0000', tz='UTC'),\n",
       " Timestamp('2019-05-09 00:00:00+0000', tz='UTC'),\n",
       " Timestamp('2019-05-10 00:00:00+0000', tz='UTC'),\n",
       " Timestamp('2019-05-13 00:00:00+0000', tz='UTC'),\n",
       " Timestamp('2019-05-14 00:00:00+0000', tz='UTC'),\n",
       " Timestamp('2019-05-15 00:00:00+0000', tz='UTC'),\n",
       " Timestamp('2019-05-16 00:00:00+0000', tz='UTC'),\n",
       " Timestamp('2019-05-17 00:00:00+0000', tz='UTC'),\n",
       " Timestamp('2019-05-20 00:00:00+0000', tz='UTC'),\n",
       " Timestamp('2019-05-21 00:00:00+0000', tz='UTC'),\n",
       " Timestamp('2019-05-22 00:00:00+0000', tz='UTC'),\n",
       " Timestamp('2019-05-23 00:00:00+0000', tz='UTC'),\n",
       " Timestamp('2019-05-24 00:00:00+0000', tz='UTC'),\n",
       " Timestamp('2019-05-28 00:00:00+0000', tz='UTC'),\n",
       " Timestamp('2019-05-29 00:00:00+0000', tz='UTC'),\n",
       " Timestamp('2019-05-30 00:00:00+0000', tz='UTC'),\n",
       " Timestamp('2019-05-31 00:00:00+0000', tz='UTC'),\n",
       " Timestamp('2019-06-03 00:00:00+0000', tz='UTC'),\n",
       " Timestamp('2019-06-04 00:00:00+0000', tz='UTC'),\n",
       " Timestamp('2019-06-05 00:00:00+0000', tz='UTC'),\n",
       " Timestamp('2019-06-06 00:00:00+0000', tz='UTC'),\n",
       " Timestamp('2019-06-07 00:00:00+0000', tz='UTC'),\n",
       " Timestamp('2019-06-10 00:00:00+0000', tz='UTC'),\n",
       " Timestamp('2019-06-11 00:00:00+0000', tz='UTC'),\n",
       " Timestamp('2019-06-12 00:00:00+0000', tz='UTC'),\n",
       " Timestamp('2019-06-13 00:00:00+0000', tz='UTC'),\n",
       " Timestamp('2019-06-14 00:00:00+0000', tz='UTC'),\n",
       " Timestamp('2019-06-17 00:00:00+0000', tz='UTC'),\n",
       " Timestamp('2019-06-18 00:00:00+0000', tz='UTC'),\n",
       " Timestamp('2019-06-19 00:00:00+0000', tz='UTC'),\n",
       " Timestamp('2019-06-20 00:00:00+0000', tz='UTC'),\n",
       " Timestamp('2019-06-21 00:00:00+0000', tz='UTC'),\n",
       " Timestamp('2019-06-24 00:00:00+0000', tz='UTC'),\n",
       " Timestamp('2019-06-25 00:00:00+0000', tz='UTC'),\n",
       " Timestamp('2019-06-26 00:00:00+0000', tz='UTC'),\n",
       " Timestamp('2019-06-27 00:00:00+0000', tz='UTC'),\n",
       " Timestamp('2019-06-28 00:00:00+0000', tz='UTC'),\n",
       " Timestamp('2019-07-01 00:00:00+0000', tz='UTC'),\n",
       " Timestamp('2019-07-02 00:00:00+0000', tz='UTC'),\n",
       " Timestamp('2019-07-03 00:00:00+0000', tz='UTC'),\n",
       " Timestamp('2019-07-05 00:00:00+0000', tz='UTC'),\n",
       " Timestamp('2019-07-08 00:00:00+0000', tz='UTC'),\n",
       " Timestamp('2019-07-09 00:00:00+0000', tz='UTC'),\n",
       " Timestamp('2019-07-10 00:00:00+0000', tz='UTC'),\n",
       " Timestamp('2019-07-11 00:00:00+0000', tz='UTC'),\n",
       " Timestamp('2019-07-12 00:00:00+0000', tz='UTC'),\n",
       " Timestamp('2019-07-15 00:00:00+0000', tz='UTC'),\n",
       " Timestamp('2019-07-16 00:00:00+0000', tz='UTC'),\n",
       " Timestamp('2019-07-17 00:00:00+0000', tz='UTC'),\n",
       " Timestamp('2019-07-18 00:00:00+0000', tz='UTC'),\n",
       " Timestamp('2019-07-19 00:00:00+0000', tz='UTC'),\n",
       " Timestamp('2019-07-22 00:00:00+0000', tz='UTC'),\n",
       " Timestamp('2019-07-23 00:00:00+0000', tz='UTC'),\n",
       " Timestamp('2019-07-24 00:00:00+0000', tz='UTC'),\n",
       " Timestamp('2019-07-25 00:00:00+0000', tz='UTC'),\n",
       " Timestamp('2019-07-26 00:00:00+0000', tz='UTC'),\n",
       " Timestamp('2019-07-29 00:00:00+0000', tz='UTC'),\n",
       " Timestamp('2019-07-30 00:00:00+0000', tz='UTC'),\n",
       " Timestamp('2019-07-31 00:00:00+0000', tz='UTC'),\n",
       " Timestamp('2019-08-01 00:00:00+0000', tz='UTC'),\n",
       " Timestamp('2019-08-02 00:00:00+0000', tz='UTC'),\n",
       " Timestamp('2019-08-05 00:00:00+0000', tz='UTC'),\n",
       " Timestamp('2019-08-06 00:00:00+0000', tz='UTC'),\n",
       " Timestamp('2019-08-07 00:00:00+0000', tz='UTC'),\n",
       " Timestamp('2019-08-08 00:00:00+0000', tz='UTC'),\n",
       " Timestamp('2019-08-09 00:00:00+0000', tz='UTC'),\n",
       " Timestamp('2019-08-12 00:00:00+0000', tz='UTC'),\n",
       " Timestamp('2019-08-13 00:00:00+0000', tz='UTC'),\n",
       " Timestamp('2019-08-14 00:00:00+0000', tz='UTC'),\n",
       " Timestamp('2019-08-15 00:00:00+0000', tz='UTC'),\n",
       " Timestamp('2019-08-16 00:00:00+0000', tz='UTC'),\n",
       " Timestamp('2019-08-19 00:00:00+0000', tz='UTC'),\n",
       " Timestamp('2019-08-20 00:00:00+0000', tz='UTC'),\n",
       " Timestamp('2019-08-21 00:00:00+0000', tz='UTC'),\n",
       " Timestamp('2019-08-22 00:00:00+0000', tz='UTC'),\n",
       " Timestamp('2019-08-23 00:00:00+0000', tz='UTC'),\n",
       " Timestamp('2019-08-26 00:00:00+0000', tz='UTC'),\n",
       " Timestamp('2019-08-27 00:00:00+0000', tz='UTC'),\n",
       " Timestamp('2019-08-28 00:00:00+0000', tz='UTC'),\n",
       " Timestamp('2019-08-29 00:00:00+0000', tz='UTC'),\n",
       " Timestamp('2019-08-30 00:00:00+0000', tz='UTC'),\n",
       " Timestamp('2019-09-03 00:00:00+0000', tz='UTC'),\n",
       " Timestamp('2019-09-04 00:00:00+0000', tz='UTC'),\n",
       " Timestamp('2019-09-05 00:00:00+0000', tz='UTC'),\n",
       " Timestamp('2019-09-06 00:00:00+0000', tz='UTC'),\n",
       " Timestamp('2019-09-09 00:00:00+0000', tz='UTC'),\n",
       " Timestamp('2019-09-10 00:00:00+0000', tz='UTC'),\n",
       " Timestamp('2019-09-11 00:00:00+0000', tz='UTC'),\n",
       " Timestamp('2019-09-12 00:00:00+0000', tz='UTC'),\n",
       " Timestamp('2019-09-13 00:00:00+0000', tz='UTC'),\n",
       " Timestamp('2019-09-16 00:00:00+0000', tz='UTC'),\n",
       " Timestamp('2019-09-17 00:00:00+0000', tz='UTC'),\n",
       " Timestamp('2019-09-18 00:00:00+0000', tz='UTC'),\n",
       " Timestamp('2019-09-19 00:00:00+0000', tz='UTC'),\n",
       " Timestamp('2019-09-20 00:00:00+0000', tz='UTC'),\n",
       " Timestamp('2019-09-23 00:00:00+0000', tz='UTC'),\n",
       " Timestamp('2019-09-24 00:00:00+0000', tz='UTC'),\n",
       " Timestamp('2019-09-25 00:00:00+0000', tz='UTC'),\n",
       " Timestamp('2019-09-26 00:00:00+0000', tz='UTC'),\n",
       " Timestamp('2019-09-27 00:00:00+0000', tz='UTC'),\n",
       " Timestamp('2019-09-30 00:00:00+0000', tz='UTC'),\n",
       " Timestamp('2019-10-01 00:00:00+0000', tz='UTC'),\n",
       " Timestamp('2019-10-02 00:00:00+0000', tz='UTC'),\n",
       " Timestamp('2019-10-03 00:00:00+0000', tz='UTC'),\n",
       " Timestamp('2019-10-04 00:00:00+0000', tz='UTC'),\n",
       " Timestamp('2019-10-07 00:00:00+0000', tz='UTC'),\n",
       " Timestamp('2019-10-08 00:00:00+0000', tz='UTC'),\n",
       " Timestamp('2019-10-09 00:00:00+0000', tz='UTC'),\n",
       " Timestamp('2019-10-10 00:00:00+0000', tz='UTC'),\n",
       " Timestamp('2019-10-11 00:00:00+0000', tz='UTC'),\n",
       " Timestamp('2019-10-14 00:00:00+0000', tz='UTC'),\n",
       " Timestamp('2019-10-15 00:00:00+0000', tz='UTC'),\n",
       " Timestamp('2019-10-16 00:00:00+0000', tz='UTC'),\n",
       " Timestamp('2019-10-17 00:00:00+0000', tz='UTC'),\n",
       " Timestamp('2019-10-18 00:00:00+0000', tz='UTC'),\n",
       " Timestamp('2019-10-21 00:00:00+0000', tz='UTC'),\n",
       " Timestamp('2019-10-22 00:00:00+0000', tz='UTC'),\n",
       " Timestamp('2019-10-23 00:00:00+0000', tz='UTC'),\n",
       " Timestamp('2019-10-24 00:00:00+0000', tz='UTC'),\n",
       " Timestamp('2019-10-25 00:00:00+0000', tz='UTC'),\n",
       " Timestamp('2019-10-28 00:00:00+0000', tz='UTC'),\n",
       " Timestamp('2019-10-29 00:00:00+0000', tz='UTC'),\n",
       " Timestamp('2019-10-30 00:00:00+0000', tz='UTC'),\n",
       " Timestamp('2019-10-31 00:00:00+0000', tz='UTC'),\n",
       " Timestamp('2019-11-01 00:00:00+0000', tz='UTC'),\n",
       " Timestamp('2019-11-04 00:00:00+0000', tz='UTC'),\n",
       " Timestamp('2019-11-05 00:00:00+0000', tz='UTC'),\n",
       " Timestamp('2019-11-06 00:00:00+0000', tz='UTC'),\n",
       " Timestamp('2019-11-07 00:00:00+0000', tz='UTC'),\n",
       " Timestamp('2019-11-08 00:00:00+0000', tz='UTC'),\n",
       " Timestamp('2019-11-11 00:00:00+0000', tz='UTC'),\n",
       " Timestamp('2019-11-12 00:00:00+0000', tz='UTC'),\n",
       " Timestamp('2019-11-13 00:00:00+0000', tz='UTC'),\n",
       " Timestamp('2019-11-14 00:00:00+0000', tz='UTC'),\n",
       " Timestamp('2019-11-15 00:00:00+0000', tz='UTC'),\n",
       " Timestamp('2019-11-18 00:00:00+0000', tz='UTC'),\n",
       " Timestamp('2019-11-19 00:00:00+0000', tz='UTC'),\n",
       " Timestamp('2019-11-20 00:00:00+0000', tz='UTC'),\n",
       " Timestamp('2019-11-21 00:00:00+0000', tz='UTC'),\n",
       " Timestamp('2019-11-22 00:00:00+0000', tz='UTC'),\n",
       " Timestamp('2019-11-25 00:00:00+0000', tz='UTC'),\n",
       " Timestamp('2019-11-26 00:00:00+0000', tz='UTC'),\n",
       " Timestamp('2019-11-27 00:00:00+0000', tz='UTC'),\n",
       " Timestamp('2019-11-29 00:00:00+0000', tz='UTC'),\n",
       " Timestamp('2019-12-02 00:00:00+0000', tz='UTC'),\n",
       " Timestamp('2019-12-03 00:00:00+0000', tz='UTC'),\n",
       " Timestamp('2019-12-04 00:00:00+0000', tz='UTC'),\n",
       " Timestamp('2019-12-05 00:00:00+0000', tz='UTC'),\n",
       " Timestamp('2019-12-06 00:00:00+0000', tz='UTC'),\n",
       " Timestamp('2019-12-09 00:00:00+0000', tz='UTC'),\n",
       " Timestamp('2019-12-10 00:00:00+0000', tz='UTC'),\n",
       " Timestamp('2019-12-11 00:00:00+0000', tz='UTC'),\n",
       " Timestamp('2019-12-12 00:00:00+0000', tz='UTC'),\n",
       " Timestamp('2019-12-13 00:00:00+0000', tz='UTC'),\n",
       " Timestamp('2019-12-16 00:00:00+0000', tz='UTC'),\n",
       " Timestamp('2019-12-17 00:00:00+0000', tz='UTC'),\n",
       " Timestamp('2019-12-18 00:00:00+0000', tz='UTC'),\n",
       " Timestamp('2019-12-19 00:00:00+0000', tz='UTC'),\n",
       " Timestamp('2019-12-20 00:00:00+0000', tz='UTC'),\n",
       " Timestamp('2019-12-23 00:00:00+0000', tz='UTC'),\n",
       " Timestamp('2019-12-24 00:00:00+0000', tz='UTC'),\n",
       " Timestamp('2019-12-26 00:00:00+0000', tz='UTC'),\n",
       " Timestamp('2019-12-27 00:00:00+0000', tz='UTC'),\n",
       " Timestamp('2019-12-30 00:00:00+0000', tz='UTC'),\n",
       " Timestamp('2019-12-31 00:00:00+0000', tz='UTC'),\n",
       " Timestamp('2020-01-02 00:00:00+0000', tz='UTC'),\n",
       " Timestamp('2020-01-03 00:00:00+0000', tz='UTC'),\n",
       " Timestamp('2020-01-06 00:00:00+0000', tz='UTC'),\n",
       " Timestamp('2020-01-07 00:00:00+0000', tz='UTC'),\n",
       " Timestamp('2020-01-08 00:00:00+0000', tz='UTC'),\n",
       " Timestamp('2020-01-09 00:00:00+0000', tz='UTC'),\n",
       " Timestamp('2020-01-10 00:00:00+0000', tz='UTC'),\n",
       " Timestamp('2020-01-13 00:00:00+0000', tz='UTC'),\n",
       " Timestamp('2020-01-14 00:00:00+0000', tz='UTC'),\n",
       " Timestamp('2020-01-15 00:00:00+0000', tz='UTC'),\n",
       " Timestamp('2020-01-16 00:00:00+0000', tz='UTC'),\n",
       " Timestamp('2020-01-17 00:00:00+0000', tz='UTC'),\n",
       " Timestamp('2020-01-21 00:00:00+0000', tz='UTC'),\n",
       " Timestamp('2020-01-22 00:00:00+0000', tz='UTC'),\n",
       " Timestamp('2020-01-23 00:00:00+0000', tz='UTC'),\n",
       " Timestamp('2020-01-24 00:00:00+0000', tz='UTC'),\n",
       " Timestamp('2020-01-27 00:00:00+0000', tz='UTC'),\n",
       " Timestamp('2020-01-28 00:00:00+0000', tz='UTC'),\n",
       " Timestamp('2020-01-29 00:00:00+0000', tz='UTC'),\n",
       " Timestamp('2020-01-30 00:00:00+0000', tz='UTC'),\n",
       " Timestamp('2020-01-31 00:00:00+0000', tz='UTC'),\n",
       " Timestamp('2020-02-03 00:00:00+0000', tz='UTC'),\n",
       " Timestamp('2020-02-04 00:00:00+0000', tz='UTC'),\n",
       " Timestamp('2020-02-05 00:00:00+0000', tz='UTC'),\n",
       " Timestamp('2020-02-06 00:00:00+0000', tz='UTC'),\n",
       " Timestamp('2020-02-07 00:00:00+0000', tz='UTC'),\n",
       " Timestamp('2020-02-10 00:00:00+0000', tz='UTC'),\n",
       " Timestamp('2020-02-11 00:00:00+0000', tz='UTC'),\n",
       " Timestamp('2020-02-12 00:00:00+0000', tz='UTC'),\n",
       " Timestamp('2020-02-13 00:00:00+0000', tz='UTC'),\n",
       " Timestamp('2020-02-14 00:00:00+0000', tz='UTC'),\n",
       " Timestamp('2020-02-18 00:00:00+0000', tz='UTC'),\n",
       " Timestamp('2020-02-19 00:00:00+0000', tz='UTC'),\n",
       " Timestamp('2020-02-20 00:00:00+0000', tz='UTC'),\n",
       " Timestamp('2020-02-21 00:00:00+0000', tz='UTC'),\n",
       " Timestamp('2020-02-24 00:00:00+0000', tz='UTC'),\n",
       " Timestamp('2020-02-25 00:00:00+0000', tz='UTC'),\n",
       " Timestamp('2020-02-26 00:00:00+0000', tz='UTC'),\n",
       " Timestamp('2020-02-27 00:00:00+0000', tz='UTC'),\n",
       " Timestamp('2020-02-28 00:00:00+0000', tz='UTC'),\n",
       " Timestamp('2020-03-02 00:00:00+0000', tz='UTC'),\n",
       " Timestamp('2020-03-03 00:00:00+0000', tz='UTC'),\n",
       " Timestamp('2020-03-04 00:00:00+0000', tz='UTC'),\n",
       " Timestamp('2020-03-05 00:00:00+0000', tz='UTC'),\n",
       " Timestamp('2020-03-06 00:00:00+0000', tz='UTC'),\n",
       " Timestamp('2020-03-09 00:00:00+0000', tz='UTC'),\n",
       " Timestamp('2020-03-10 00:00:00+0000', tz='UTC'),\n",
       " Timestamp('2020-03-11 00:00:00+0000', tz='UTC'),\n",
       " Timestamp('2020-03-12 00:00:00+0000', tz='UTC'),\n",
       " Timestamp('2020-03-13 00:00:00+0000', tz='UTC'),\n",
       " Timestamp('2020-03-16 00:00:00+0000', tz='UTC'),\n",
       " Timestamp('2020-03-17 00:00:00+0000', tz='UTC'),\n",
       " Timestamp('2020-03-18 00:00:00+0000', tz='UTC'),\n",
       " Timestamp('2020-03-19 00:00:00+0000', tz='UTC'),\n",
       " Timestamp('2020-03-20 00:00:00+0000', tz='UTC'),\n",
       " Timestamp('2020-03-23 00:00:00+0000', tz='UTC'),\n",
       " Timestamp('2020-03-24 00:00:00+0000', tz='UTC'),\n",
       " Timestamp('2020-03-25 00:00:00+0000', tz='UTC'),\n",
       " Timestamp('2020-03-26 00:00:00+0000', tz='UTC'),\n",
       " Timestamp('2020-03-27 00:00:00+0000', tz='UTC'),\n",
       " Timestamp('2020-03-30 00:00:00+0000', tz='UTC'),\n",
       " Timestamp('2020-03-31 00:00:00+0000', tz='UTC'),\n",
       " Timestamp('2020-04-01 00:00:00+0000', tz='UTC'),\n",
       " Timestamp('2020-04-02 00:00:00+0000', tz='UTC'),\n",
       " Timestamp('2020-04-03 00:00:00+0000', tz='UTC'),\n",
       " Timestamp('2020-04-06 00:00:00+0000', tz='UTC'),\n",
       " Timestamp('2020-04-07 00:00:00+0000', tz='UTC'),\n",
       " Timestamp('2020-04-08 00:00:00+0000', tz='UTC'),\n",
       " Timestamp('2020-04-09 00:00:00+0000', tz='UTC'),\n",
       " Timestamp('2020-04-13 00:00:00+0000', tz='UTC'),\n",
       " Timestamp('2020-04-14 00:00:00+0000', tz='UTC'),\n",
       " Timestamp('2020-04-15 00:00:00+0000', tz='UTC'),\n",
       " Timestamp('2020-04-16 00:00:00+0000', tz='UTC'),\n",
       " Timestamp('2020-04-17 00:00:00+0000', tz='UTC'),\n",
       " Timestamp('2020-04-20 00:00:00+0000', tz='UTC'),\n",
       " Timestamp('2020-04-21 00:00:00+0000', tz='UTC'),\n",
       " Timestamp('2020-04-22 00:00:00+0000', tz='UTC'),\n",
       " Timestamp('2020-04-23 00:00:00+0000', tz='UTC'),\n",
       " Timestamp('2020-04-24 00:00:00+0000', tz='UTC'),\n",
       " Timestamp('2020-04-27 00:00:00+0000', tz='UTC'),\n",
       " Timestamp('2020-04-28 00:00:00+0000', tz='UTC'),\n",
       " Timestamp('2020-04-29 00:00:00+0000', tz='UTC'),\n",
       " Timestamp('2020-04-30 00:00:00+0000', tz='UTC'),\n",
       " Timestamp('2020-05-01 00:00:00+0000', tz='UTC'),\n",
       " Timestamp('2020-05-04 00:00:00+0000', tz='UTC'),\n",
       " Timestamp('2020-05-05 00:00:00+0000', tz='UTC'),\n",
       " Timestamp('2020-05-06 00:00:00+0000', tz='UTC'),\n",
       " Timestamp('2020-05-07 00:00:00+0000', tz='UTC'),\n",
       " Timestamp('2020-05-08 00:00:00+0000', tz='UTC'),\n",
       " Timestamp('2020-05-11 00:00:00+0000', tz='UTC'),\n",
       " Timestamp('2020-05-12 00:00:00+0000', tz='UTC'),\n",
       " Timestamp('2020-05-13 00:00:00+0000', tz='UTC'),\n",
       " Timestamp('2020-05-14 00:00:00+0000', tz='UTC'),\n",
       " Timestamp('2020-05-15 00:00:00+0000', tz='UTC'),\n",
       " Timestamp('2020-05-18 00:00:00+0000', tz='UTC'),\n",
       " Timestamp('2020-05-19 00:00:00+0000', tz='UTC'),\n",
       " Timestamp('2020-05-20 00:00:00+0000', tz='UTC'),\n",
       " Timestamp('2020-05-21 00:00:00+0000', tz='UTC'),\n",
       " Timestamp('2020-05-22 00:00:00+0000', tz='UTC'),\n",
       " Timestamp('2020-05-26 00:00:00+0000', tz='UTC'),\n",
       " Timestamp('2020-05-27 00:00:00+0000', tz='UTC'),\n",
       " Timestamp('2020-05-28 00:00:00+0000', tz='UTC'),\n",
       " Timestamp('2020-05-29 00:00:00+0000', tz='UTC'),\n",
       " Timestamp('2020-06-01 00:00:00+0000', tz='UTC'),\n",
       " Timestamp('2020-06-02 00:00:00+0000', tz='UTC'),\n",
       " Timestamp('2020-06-03 00:00:00+0000', tz='UTC'),\n",
       " Timestamp('2020-06-04 00:00:00+0000', tz='UTC'),\n",
       " Timestamp('2020-06-05 00:00:00+0000', tz='UTC'),\n",
       " Timestamp('2020-06-08 00:00:00+0000', tz='UTC'),\n",
       " Timestamp('2020-06-09 00:00:00+0000', tz='UTC'),\n",
       " Timestamp('2020-06-10 00:00:00+0000', tz='UTC'),\n",
       " Timestamp('2020-06-11 00:00:00+0000', tz='UTC'),\n",
       " Timestamp('2020-06-12 00:00:00+0000', tz='UTC'),\n",
       " Timestamp('2020-06-15 00:00:00+0000', tz='UTC'),\n",
       " Timestamp('2020-06-16 00:00:00+0000', tz='UTC'),\n",
       " Timestamp('2020-06-17 00:00:00+0000', tz='UTC'),\n",
       " Timestamp('2020-06-18 00:00:00+0000', tz='UTC'),\n",
       " Timestamp('2020-06-19 00:00:00+0000', tz='UTC'),\n",
       " Timestamp('2020-06-22 00:00:00+0000', tz='UTC'),\n",
       " Timestamp('2020-06-23 00:00:00+0000', tz='UTC'),\n",
       " Timestamp('2020-06-24 00:00:00+0000', tz='UTC'),\n",
       " Timestamp('2020-06-25 00:00:00+0000', tz='UTC'),\n",
       " Timestamp('2020-06-26 00:00:00+0000', tz='UTC'),\n",
       " Timestamp('2020-06-29 00:00:00+0000', tz='UTC'),\n",
       " Timestamp('2020-06-30 00:00:00+0000', tz='UTC'),\n",
       " Timestamp('2020-07-01 00:00:00+0000', tz='UTC'),\n",
       " Timestamp('2020-07-02 00:00:00+0000', tz='UTC'),\n",
       " Timestamp('2020-07-06 00:00:00+0000', tz='UTC'),\n",
       " Timestamp('2020-07-07 00:00:00+0000', tz='UTC'),\n",
       " Timestamp('2020-07-08 00:00:00+0000', tz='UTC'),\n",
       " Timestamp('2020-07-09 00:00:00+0000', tz='UTC'),\n",
       " Timestamp('2020-07-10 00:00:00+0000', tz='UTC'),\n",
       " Timestamp('2020-07-13 00:00:00+0000', tz='UTC'),\n",
       " Timestamp('2020-07-14 00:00:00+0000', tz='UTC'),\n",
       " Timestamp('2020-07-15 00:00:00+0000', tz='UTC'),\n",
       " Timestamp('2020-07-16 00:00:00+0000', tz='UTC'),\n",
       " Timestamp('2020-07-17 00:00:00+0000', tz='UTC'),\n",
       " Timestamp('2020-07-20 00:00:00+0000', tz='UTC'),\n",
       " Timestamp('2020-07-21 00:00:00+0000', tz='UTC'),\n",
       " Timestamp('2020-07-22 00:00:00+0000', tz='UTC'),\n",
       " Timestamp('2020-07-23 00:00:00+0000', tz='UTC'),\n",
       " Timestamp('2020-07-24 00:00:00+0000', tz='UTC'),\n",
       " Timestamp('2020-07-27 00:00:00+0000', tz='UTC'),\n",
       " Timestamp('2020-07-28 00:00:00+0000', tz='UTC'),\n",
       " Timestamp('2020-07-29 00:00:00+0000', tz='UTC'),\n",
       " Timestamp('2020-07-30 00:00:00+0000', tz='UTC'),\n",
       " Timestamp('2020-07-31 00:00:00+0000', tz='UTC'),\n",
       " Timestamp('2020-08-03 00:00:00+0000', tz='UTC'),\n",
       " Timestamp('2020-08-04 00:00:00+0000', tz='UTC'),\n",
       " Timestamp('2020-08-05 00:00:00+0000', tz='UTC'),\n",
       " Timestamp('2020-08-06 00:00:00+0000', tz='UTC'),\n",
       " Timestamp('2020-08-07 00:00:00+0000', tz='UTC'),\n",
       " Timestamp('2020-08-10 00:00:00+0000', tz='UTC'),\n",
       " Timestamp('2020-08-11 00:00:00+0000', tz='UTC'),\n",
       " Timestamp('2020-08-12 00:00:00+0000', tz='UTC'),\n",
       " Timestamp('2020-08-13 00:00:00+0000', tz='UTC'),\n",
       " Timestamp('2020-08-14 00:00:00+0000', tz='UTC'),\n",
       " Timestamp('2020-08-17 00:00:00+0000', tz='UTC'),\n",
       " Timestamp('2020-08-18 00:00:00+0000', tz='UTC'),\n",
       " Timestamp('2020-08-19 00:00:00+0000', tz='UTC'),\n",
       " Timestamp('2020-08-20 00:00:00+0000', tz='UTC'),\n",
       " Timestamp('2020-08-21 00:00:00+0000', tz='UTC'),\n",
       " Timestamp('2020-08-24 00:00:00+0000', tz='UTC'),\n",
       " Timestamp('2020-08-25 00:00:00+0000', tz='UTC'),\n",
       " Timestamp('2020-08-26 00:00:00+0000', tz='UTC'),\n",
       " Timestamp('2020-08-27 00:00:00+0000', tz='UTC'),\n",
       " Timestamp('2020-08-28 00:00:00+0000', tz='UTC'),\n",
       " Timestamp('2020-08-31 00:00:00+0000', tz='UTC'),\n",
       " Timestamp('2020-09-01 00:00:00+0000', tz='UTC'),\n",
       " Timestamp('2020-09-02 00:00:00+0000', tz='UTC'),\n",
       " Timestamp('2020-09-03 00:00:00+0000', tz='UTC'),\n",
       " Timestamp('2020-09-04 00:00:00+0000', tz='UTC'),\n",
       " Timestamp('2020-09-08 00:00:00+0000', tz='UTC'),\n",
       " Timestamp('2020-09-09 00:00:00+0000', tz='UTC'),\n",
       " Timestamp('2020-09-10 00:00:00+0000', tz='UTC'),\n",
       " Timestamp('2020-09-11 00:00:00+0000', tz='UTC'),\n",
       " Timestamp('2020-09-14 00:00:00+0000', tz='UTC'),\n",
       " Timestamp('2020-09-15 00:00:00+0000', tz='UTC'),\n",
       " Timestamp('2020-09-16 00:00:00+0000', tz='UTC'),\n",
       " Timestamp('2020-09-17 00:00:00+0000', tz='UTC'),\n",
       " Timestamp('2020-09-18 00:00:00+0000', tz='UTC'),\n",
       " Timestamp('2020-09-21 00:00:00+0000', tz='UTC'),\n",
       " Timestamp('2020-09-22 00:00:00+0000', tz='UTC'),\n",
       " Timestamp('2020-09-23 00:00:00+0000', tz='UTC'),\n",
       " Timestamp('2020-09-24 00:00:00+0000', tz='UTC'),\n",
       " Timestamp('2020-09-25 00:00:00+0000', tz='UTC'),\n",
       " Timestamp('2020-09-28 00:00:00+0000', tz='UTC'),\n",
       " Timestamp('2020-09-29 00:00:00+0000', tz='UTC'),\n",
       " Timestamp('2020-09-30 00:00:00+0000', tz='UTC'),\n",
       " Timestamp('2020-10-01 00:00:00+0000', tz='UTC'),\n",
       " Timestamp('2020-10-02 00:00:00+0000', tz='UTC'),\n",
       " Timestamp('2020-10-05 00:00:00+0000', tz='UTC'),\n",
       " Timestamp('2020-10-06 00:00:00+0000', tz='UTC'),\n",
       " Timestamp('2020-10-07 00:00:00+0000', tz='UTC'),\n",
       " Timestamp('2020-10-08 00:00:00+0000', tz='UTC'),\n",
       " Timestamp('2020-10-09 00:00:00+0000', tz='UTC'),\n",
       " Timestamp('2020-10-12 00:00:00+0000', tz='UTC'),\n",
       " Timestamp('2020-10-13 00:00:00+0000', tz='UTC'),\n",
       " Timestamp('2020-10-14 00:00:00+0000', tz='UTC'),\n",
       " Timestamp('2020-10-15 00:00:00+0000', tz='UTC'),\n",
       " Timestamp('2020-10-16 00:00:00+0000', tz='UTC'),\n",
       " Timestamp('2020-10-19 00:00:00+0000', tz='UTC'),\n",
       " Timestamp('2020-10-20 00:00:00+0000', tz='UTC'),\n",
       " Timestamp('2020-10-21 00:00:00+0000', tz='UTC'),\n",
       " Timestamp('2020-10-22 00:00:00+0000', tz='UTC'),\n",
       " Timestamp('2020-10-23 00:00:00+0000', tz='UTC'),\n",
       " Timestamp('2020-10-26 00:00:00+0000', tz='UTC'),\n",
       " Timestamp('2020-10-27 00:00:00+0000', tz='UTC'),\n",
       " Timestamp('2020-10-28 00:00:00+0000', tz='UTC'),\n",
       " Timestamp('2020-10-29 00:00:00+0000', tz='UTC'),\n",
       " Timestamp('2020-10-30 00:00:00+0000', tz='UTC'),\n",
       " Timestamp('2020-11-02 00:00:00+0000', tz='UTC'),\n",
       " Timestamp('2020-11-03 00:00:00+0000', tz='UTC'),\n",
       " Timestamp('2020-11-04 00:00:00+0000', tz='UTC'),\n",
       " Timestamp('2020-11-05 00:00:00+0000', tz='UTC'),\n",
       " Timestamp('2020-11-06 00:00:00+0000', tz='UTC'),\n",
       " Timestamp('2020-11-09 00:00:00+0000', tz='UTC'),\n",
       " Timestamp('2020-11-10 00:00:00+0000', tz='UTC'),\n",
       " Timestamp('2020-11-11 00:00:00+0000', tz='UTC'),\n",
       " Timestamp('2020-11-12 00:00:00+0000', tz='UTC'),\n",
       " Timestamp('2020-11-13 00:00:00+0000', tz='UTC'),\n",
       " Timestamp('2020-11-16 00:00:00+0000', tz='UTC'),\n",
       " Timestamp('2020-11-17 00:00:00+0000', tz='UTC'),\n",
       " Timestamp('2020-11-18 00:00:00+0000', tz='UTC'),\n",
       " Timestamp('2020-11-19 00:00:00+0000', tz='UTC'),\n",
       " Timestamp('2020-11-20 00:00:00+0000', tz='UTC'),\n",
       " Timestamp('2020-11-23 00:00:00+0000', tz='UTC'),\n",
       " Timestamp('2020-11-24 00:00:00+0000', tz='UTC'),\n",
       " Timestamp('2020-11-25 00:00:00+0000', tz='UTC'),\n",
       " Timestamp('2020-11-27 00:00:00+0000', tz='UTC'),\n",
       " Timestamp('2020-11-30 00:00:00+0000', tz='UTC'),\n",
       " Timestamp('2020-12-01 00:00:00+0000', tz='UTC'),\n",
       " Timestamp('2020-12-02 00:00:00+0000', tz='UTC'),\n",
       " Timestamp('2020-12-03 00:00:00+0000', tz='UTC'),\n",
       " Timestamp('2020-12-04 00:00:00+0000', tz='UTC'),\n",
       " Timestamp('2020-12-07 00:00:00+0000', tz='UTC'),\n",
       " Timestamp('2020-12-08 00:00:00+0000', tz='UTC'),\n",
       " Timestamp('2020-12-09 00:00:00+0000', tz='UTC'),\n",
       " Timestamp('2020-12-10 00:00:00+0000', tz='UTC'),\n",
       " Timestamp('2020-12-11 00:00:00+0000', tz='UTC'),\n",
       " Timestamp('2020-12-14 00:00:00+0000', tz='UTC'),\n",
       " Timestamp('2020-12-15 00:00:00+0000', tz='UTC'),\n",
       " Timestamp('2020-12-16 00:00:00+0000', tz='UTC'),\n",
       " Timestamp('2020-12-17 00:00:00+0000', tz='UTC'),\n",
       " Timestamp('2020-12-18 00:00:00+0000', tz='UTC'),\n",
       " Timestamp('2020-12-21 00:00:00+0000', tz='UTC'),\n",
       " Timestamp('2020-12-22 00:00:00+0000', tz='UTC'),\n",
       " Timestamp('2020-12-23 00:00:00+0000', tz='UTC'),\n",
       " Timestamp('2020-12-24 00:00:00+0000', tz='UTC'),\n",
       " Timestamp('2020-12-28 00:00:00+0000', tz='UTC'),\n",
       " Timestamp('2020-12-29 00:00:00+0000', tz='UTC'),\n",
       " Timestamp('2020-12-30 00:00:00+0000', tz='UTC'),\n",
       " Timestamp('2020-12-31 00:00:00+0000', tz='UTC'),\n",
       " Timestamp('2021-01-04 00:00:00+0000', tz='UTC'),\n",
       " Timestamp('2021-01-05 00:00:00+0000', tz='UTC'),\n",
       " Timestamp('2021-01-06 00:00:00+0000', tz='UTC'),\n",
       " Timestamp('2021-01-07 00:00:00+0000', tz='UTC'),\n",
       " Timestamp('2021-01-08 00:00:00+0000', tz='UTC'),\n",
       " Timestamp('2021-01-11 00:00:00+0000', tz='UTC'),\n",
       " Timestamp('2021-01-12 00:00:00+0000', tz='UTC'),\n",
       " Timestamp('2021-01-13 00:00:00+0000', tz='UTC'),\n",
       " Timestamp('2021-01-14 00:00:00+0000', tz='UTC'),\n",
       " Timestamp('2021-01-15 00:00:00+0000', tz='UTC'),\n",
       " Timestamp('2021-01-19 00:00:00+0000', tz='UTC'),\n",
       " Timestamp('2021-01-20 00:00:00+0000', tz='UTC'),\n",
       " Timestamp('2021-01-21 00:00:00+0000', tz='UTC'),\n",
       " Timestamp('2021-01-22 00:00:00+0000', tz='UTC'),\n",
       " Timestamp('2021-01-25 00:00:00+0000', tz='UTC'),\n",
       " Timestamp('2021-01-26 00:00:00+0000', tz='UTC'),\n",
       " Timestamp('2021-01-27 00:00:00+0000', tz='UTC'),\n",
       " Timestamp('2021-01-28 00:00:00+0000', tz='UTC'),\n",
       " Timestamp('2021-01-29 00:00:00+0000', tz='UTC'),\n",
       " Timestamp('2021-02-01 00:00:00+0000', tz='UTC'),\n",
       " Timestamp('2021-02-02 00:00:00+0000', tz='UTC'),\n",
       " Timestamp('2021-02-03 00:00:00+0000', tz='UTC'),\n",
       " Timestamp('2021-02-04 00:00:00+0000', tz='UTC'),\n",
       " Timestamp('2021-02-05 00:00:00+0000', tz='UTC'),\n",
       " Timestamp('2021-02-08 00:00:00+0000', tz='UTC'),\n",
       " Timestamp('2021-02-09 00:00:00+0000', tz='UTC'),\n",
       " Timestamp('2021-02-10 00:00:00+0000', tz='UTC'),\n",
       " Timestamp('2021-02-11 00:00:00+0000', tz='UTC'),\n",
       " Timestamp('2021-02-12 00:00:00+0000', tz='UTC'),\n",
       " Timestamp('2021-02-16 00:00:00+0000', tz='UTC'),\n",
       " Timestamp('2021-02-17 00:00:00+0000', tz='UTC'),\n",
       " Timestamp('2021-02-18 00:00:00+0000', tz='UTC'),\n",
       " Timestamp('2021-02-19 00:00:00+0000', tz='UTC'),\n",
       " Timestamp('2021-02-22 00:00:00+0000', tz='UTC'),\n",
       " Timestamp('2021-02-23 00:00:00+0000', tz='UTC'),\n",
       " Timestamp('2021-02-24 00:00:00+0000', tz='UTC'),\n",
       " Timestamp('2021-02-25 00:00:00+0000', tz='UTC'),\n",
       " Timestamp('2021-02-26 00:00:00+0000', tz='UTC'),\n",
       " Timestamp('2021-03-01 00:00:00+0000', tz='UTC'),\n",
       " Timestamp('2021-03-02 00:00:00+0000', tz='UTC'),\n",
       " Timestamp('2021-03-03 00:00:00+0000', tz='UTC'),\n",
       " Timestamp('2021-03-04 00:00:00+0000', tz='UTC'),\n",
       " Timestamp('2021-03-05 00:00:00+0000', tz='UTC'),\n",
       " Timestamp('2021-03-08 00:00:00+0000', tz='UTC'),\n",
       " Timestamp('2021-03-09 00:00:00+0000', tz='UTC'),\n",
       " Timestamp('2021-03-10 00:00:00+0000', tz='UTC'),\n",
       " Timestamp('2021-03-11 00:00:00+0000', tz='UTC'),\n",
       " Timestamp('2021-03-12 00:00:00+0000', tz='UTC'),\n",
       " Timestamp('2021-03-15 00:00:00+0000', tz='UTC'),\n",
       " Timestamp('2021-03-16 00:00:00+0000', tz='UTC'),\n",
       " Timestamp('2021-03-17 00:00:00+0000', tz='UTC'),\n",
       " Timestamp('2021-03-18 00:00:00+0000', tz='UTC'),\n",
       " Timestamp('2021-03-19 00:00:00+0000', tz='UTC'),\n",
       " Timestamp('2021-03-22 00:00:00+0000', tz='UTC'),\n",
       " Timestamp('2021-03-23 00:00:00+0000', tz='UTC'),\n",
       " Timestamp('2021-03-24 00:00:00+0000', tz='UTC'),\n",
       " Timestamp('2021-03-25 00:00:00+0000', tz='UTC'),\n",
       " Timestamp('2021-03-26 00:00:00+0000', tz='UTC'),\n",
       " Timestamp('2021-03-29 00:00:00+0000', tz='UTC'),\n",
       " Timestamp('2021-03-30 00:00:00+0000', tz='UTC'),\n",
       " Timestamp('2021-03-31 00:00:00+0000', tz='UTC'),\n",
       " Timestamp('2021-04-01 00:00:00+0000', tz='UTC'),\n",
       " Timestamp('2021-04-05 00:00:00+0000', tz='UTC'),\n",
       " Timestamp('2021-04-06 00:00:00+0000', tz='UTC'),\n",
       " Timestamp('2021-04-07 00:00:00+0000', tz='UTC'),\n",
       " Timestamp('2021-04-08 00:00:00+0000', tz='UTC'),\n",
       " Timestamp('2021-04-09 00:00:00+0000', tz='UTC'),\n",
       " Timestamp('2021-04-12 00:00:00+0000', tz='UTC'),\n",
       " Timestamp('2021-04-13 00:00:00+0000', tz='UTC'),\n",
       " Timestamp('2021-04-14 00:00:00+0000', tz='UTC'),\n",
       " Timestamp('2021-04-15 00:00:00+0000', tz='UTC'),\n",
       " Timestamp('2021-04-16 00:00:00+0000', tz='UTC'),\n",
       " Timestamp('2021-04-19 00:00:00+0000', tz='UTC'),\n",
       " Timestamp('2021-04-20 00:00:00+0000', tz='UTC'),\n",
       " Timestamp('2021-04-21 00:00:00+0000', tz='UTC'),\n",
       " Timestamp('2021-04-22 00:00:00+0000', tz='UTC'),\n",
       " Timestamp('2021-04-23 00:00:00+0000', tz='UTC'),\n",
       " Timestamp('2021-04-26 00:00:00+0000', tz='UTC'),\n",
       " Timestamp('2021-04-27 00:00:00+0000', tz='UTC'),\n",
       " Timestamp('2021-04-28 00:00:00+0000', tz='UTC'),\n",
       " Timestamp('2021-04-29 00:00:00+0000', tz='UTC'),\n",
       " Timestamp('2021-04-30 00:00:00+0000', tz='UTC'),\n",
       " Timestamp('2021-05-03 00:00:00+0000', tz='UTC'),\n",
       " Timestamp('2021-05-04 00:00:00+0000', tz='UTC'),\n",
       " Timestamp('2021-05-05 00:00:00+0000', tz='UTC'),\n",
       " Timestamp('2021-05-06 00:00:00+0000', tz='UTC'),\n",
       " Timestamp('2021-05-07 00:00:00+0000', tz='UTC'),\n",
       " Timestamp('2021-05-10 00:00:00+0000', tz='UTC'),\n",
       " Timestamp('2021-05-11 00:00:00+0000', tz='UTC'),\n",
       " Timestamp('2021-05-12 00:00:00+0000', tz='UTC'),\n",
       " Timestamp('2021-05-13 00:00:00+0000', tz='UTC'),\n",
       " Timestamp('2021-05-14 00:00:00+0000', tz='UTC'),\n",
       " Timestamp('2021-05-17 00:00:00+0000', tz='UTC'),\n",
       " Timestamp('2021-05-18 00:00:00+0000', tz='UTC'),\n",
       " Timestamp('2021-05-19 00:00:00+0000', tz='UTC'),\n",
       " Timestamp('2021-05-20 00:00:00+0000', tz='UTC'),\n",
       " Timestamp('2021-05-21 00:00:00+0000', tz='UTC'),\n",
       " Timestamp('2021-05-24 00:00:00+0000', tz='UTC'),\n",
       " Timestamp('2021-05-25 00:00:00+0000', tz='UTC'),\n",
       " Timestamp('2021-05-26 00:00:00+0000', tz='UTC'),\n",
       " Timestamp('2021-05-27 00:00:00+0000', tz='UTC'),\n",
       " Timestamp('2021-05-28 00:00:00+0000', tz='UTC'),\n",
       " Timestamp('2021-06-01 00:00:00+0000', tz='UTC'),\n",
       " Timestamp('2021-06-02 00:00:00+0000', tz='UTC'),\n",
       " Timestamp('2021-06-03 00:00:00+0000', tz='UTC'),\n",
       " Timestamp('2021-06-04 00:00:00+0000', tz='UTC'),\n",
       " Timestamp('2021-06-07 00:00:00+0000', tz='UTC'),\n",
       " Timestamp('2021-06-08 00:00:00+0000', tz='UTC'),\n",
       " Timestamp('2021-06-09 00:00:00+0000', tz='UTC'),\n",
       " Timestamp('2021-06-10 00:00:00+0000', tz='UTC'),\n",
       " Timestamp('2021-06-11 00:00:00+0000', tz='UTC'),\n",
       " Timestamp('2021-06-14 00:00:00+0000', tz='UTC'),\n",
       " Timestamp('2021-06-15 00:00:00+0000', tz='UTC'),\n",
       " Timestamp('2021-06-16 00:00:00+0000', tz='UTC'),\n",
       " Timestamp('2021-06-17 00:00:00+0000', tz='UTC'),\n",
       " Timestamp('2021-06-18 00:00:00+0000', tz='UTC'),\n",
       " Timestamp('2021-06-21 00:00:00+0000', tz='UTC'),\n",
       " Timestamp('2021-06-22 00:00:00+0000', tz='UTC'),\n",
       " Timestamp('2021-06-23 00:00:00+0000', tz='UTC'),\n",
       " Timestamp('2021-06-24 00:00:00+0000', tz='UTC'),\n",
       " Timestamp('2021-06-25 00:00:00+0000', tz='UTC'),\n",
       " Timestamp('2021-06-28 00:00:00+0000', tz='UTC'),\n",
       " Timestamp('2021-06-29 00:00:00+0000', tz='UTC'),\n",
       " Timestamp('2021-06-30 00:00:00+0000', tz='UTC'),\n",
       " Timestamp('2021-07-01 00:00:00+0000', tz='UTC'),\n",
       " Timestamp('2021-07-02 00:00:00+0000', tz='UTC'),\n",
       " Timestamp('2021-07-06 00:00:00+0000', tz='UTC'),\n",
       " Timestamp('2021-07-07 00:00:00+0000', tz='UTC'),\n",
       " Timestamp('2021-07-08 00:00:00+0000', tz='UTC'),\n",
       " Timestamp('2021-07-09 00:00:00+0000', tz='UTC'),\n",
       " Timestamp('2021-07-12 00:00:00+0000', tz='UTC'),\n",
       " Timestamp('2021-07-13 00:00:00+0000', tz='UTC'),\n",
       " Timestamp('2021-07-14 00:00:00+0000', tz='UTC'),\n",
       " Timestamp('2021-07-15 00:00:00+0000', tz='UTC'),\n",
       " Timestamp('2021-07-16 00:00:00+0000', tz='UTC'),\n",
       " Timestamp('2021-07-19 00:00:00+0000', tz='UTC'),\n",
       " Timestamp('2021-07-20 00:00:00+0000', tz='UTC'),\n",
       " Timestamp('2021-07-21 00:00:00+0000', tz='UTC'),\n",
       " Timestamp('2021-07-22 00:00:00+0000', tz='UTC'),\n",
       " Timestamp('2021-07-23 00:00:00+0000', tz='UTC'),\n",
       " Timestamp('2021-07-26 00:00:00+0000', tz='UTC'),\n",
       " Timestamp('2021-07-27 00:00:00+0000', tz='UTC'),\n",
       " Timestamp('2021-07-28 00:00:00+0000', tz='UTC'),\n",
       " Timestamp('2021-07-29 00:00:00+0000', tz='UTC'),\n",
       " Timestamp('2021-07-30 00:00:00+0000', tz='UTC'),\n",
       " Timestamp('2021-08-02 00:00:00+0000', tz='UTC'),\n",
       " Timestamp('2021-08-03 00:00:00+0000', tz='UTC'),\n",
       " Timestamp('2021-08-04 00:00:00+0000', tz='UTC'),\n",
       " Timestamp('2021-08-05 00:00:00+0000', tz='UTC'),\n",
       " Timestamp('2021-08-06 00:00:00+0000', tz='UTC'),\n",
       " Timestamp('2021-08-09 00:00:00+0000', tz='UTC'),\n",
       " Timestamp('2021-08-10 00:00:00+0000', tz='UTC'),\n",
       " Timestamp('2021-08-11 00:00:00+0000', tz='UTC'),\n",
       " Timestamp('2021-08-12 00:00:00+0000', tz='UTC'),\n",
       " Timestamp('2021-08-13 00:00:00+0000', tz='UTC'),\n",
       " Timestamp('2021-08-16 00:00:00+0000', tz='UTC'),\n",
       " Timestamp('2021-08-17 00:00:00+0000', tz='UTC'),\n",
       " Timestamp('2021-08-18 00:00:00+0000', tz='UTC'),\n",
       " Timestamp('2021-08-19 00:00:00+0000', tz='UTC'),\n",
       " Timestamp('2021-08-20 00:00:00+0000', tz='UTC'),\n",
       " Timestamp('2021-08-23 00:00:00+0000', tz='UTC'),\n",
       " Timestamp('2021-08-24 00:00:00+0000', tz='UTC'),\n",
       " Timestamp('2021-08-25 00:00:00+0000', tz='UTC'),\n",
       " Timestamp('2021-08-26 00:00:00+0000', tz='UTC'),\n",
       " Timestamp('2021-08-27 00:00:00+0000', tz='UTC'),\n",
       " Timestamp('2021-08-30 00:00:00+0000', tz='UTC'),\n",
       " Timestamp('2021-08-31 00:00:00+0000', tz='UTC'),\n",
       " Timestamp('2021-09-01 00:00:00+0000', tz='UTC'),\n",
       " Timestamp('2021-09-02 00:00:00+0000', tz='UTC'),\n",
       " Timestamp('2021-09-03 00:00:00+0000', tz='UTC'),\n",
       " Timestamp('2021-09-07 00:00:00+0000', tz='UTC'),\n",
       " Timestamp('2021-09-08 00:00:00+0000', tz='UTC'),\n",
       " Timestamp('2021-09-09 00:00:00+0000', tz='UTC'),\n",
       " Timestamp('2021-09-10 00:00:00+0000', tz='UTC'),\n",
       " Timestamp('2021-09-13 00:00:00+0000', tz='UTC'),\n",
       " Timestamp('2021-09-14 00:00:00+0000', tz='UTC'),\n",
       " Timestamp('2021-09-15 00:00:00+0000', tz='UTC'),\n",
       " Timestamp('2021-09-16 00:00:00+0000', tz='UTC'),\n",
       " Timestamp('2021-09-17 00:00:00+0000', tz='UTC'),\n",
       " Timestamp('2021-09-20 00:00:00+0000', tz='UTC'),\n",
       " Timestamp('2021-09-21 00:00:00+0000', tz='UTC'),\n",
       " Timestamp('2021-09-22 00:00:00+0000', tz='UTC'),\n",
       " Timestamp('2021-09-23 00:00:00+0000', tz='UTC'),\n",
       " Timestamp('2021-09-24 00:00:00+0000', tz='UTC'),\n",
       " Timestamp('2021-09-27 00:00:00+0000', tz='UTC'),\n",
       " Timestamp('2021-09-28 00:00:00+0000', tz='UTC'),\n",
       " Timestamp('2021-09-29 00:00:00+0000', tz='UTC'),\n",
       " Timestamp('2021-09-30 00:00:00+0000', tz='UTC'),\n",
       " Timestamp('2021-10-01 00:00:00+0000', tz='UTC'),\n",
       " Timestamp('2021-10-04 00:00:00+0000', tz='UTC'),\n",
       " Timestamp('2021-10-05 00:00:00+0000', tz='UTC'),\n",
       " Timestamp('2021-10-06 00:00:00+0000', tz='UTC'),\n",
       " Timestamp('2021-10-07 00:00:00+0000', tz='UTC'),\n",
       " Timestamp('2021-10-08 00:00:00+0000', tz='UTC'),\n",
       " Timestamp('2021-10-11 00:00:00+0000', tz='UTC'),\n",
       " Timestamp('2021-10-12 00:00:00+0000', tz='UTC'),\n",
       " Timestamp('2021-10-13 00:00:00+0000', tz='UTC'),\n",
       " Timestamp('2021-10-14 00:00:00+0000', tz='UTC'),\n",
       " Timestamp('2021-10-15 00:00:00+0000', tz='UTC'),\n",
       " Timestamp('2021-10-18 00:00:00+0000', tz='UTC'),\n",
       " Timestamp('2021-10-19 00:00:00+0000', tz='UTC'),\n",
       " Timestamp('2021-10-20 00:00:00+0000', tz='UTC'),\n",
       " Timestamp('2021-10-21 00:00:00+0000', tz='UTC'),\n",
       " Timestamp('2021-10-22 00:00:00+0000', tz='UTC'),\n",
       " Timestamp('2021-10-25 00:00:00+0000', tz='UTC'),\n",
       " Timestamp('2021-10-26 00:00:00+0000', tz='UTC'),\n",
       " Timestamp('2021-10-27 00:00:00+0000', tz='UTC'),\n",
       " Timestamp('2021-10-28 00:00:00+0000', tz='UTC'),\n",
       " Timestamp('2021-10-29 00:00:00+0000', tz='UTC'),\n",
       " Timestamp('2021-11-01 00:00:00+0000', tz='UTC'),\n",
       " Timestamp('2021-11-02 00:00:00+0000', tz='UTC'),\n",
       " Timestamp('2021-11-03 00:00:00+0000', tz='UTC'),\n",
       " Timestamp('2021-11-04 00:00:00+0000', tz='UTC'),\n",
       " Timestamp('2021-11-05 00:00:00+0000', tz='UTC'),\n",
       " Timestamp('2021-11-08 00:00:00+0000', tz='UTC'),\n",
       " Timestamp('2021-11-09 00:00:00+0000', tz='UTC'),\n",
       " Timestamp('2021-11-10 00:00:00+0000', tz='UTC'),\n",
       " Timestamp('2021-11-11 00:00:00+0000', tz='UTC'),\n",
       " Timestamp('2021-11-12 00:00:00+0000', tz='UTC'),\n",
       " Timestamp('2021-11-15 00:00:00+0000', tz='UTC'),\n",
       " Timestamp('2021-11-16 00:00:00+0000', tz='UTC'),\n",
       " Timestamp('2021-11-17 00:00:00+0000', tz='UTC'),\n",
       " Timestamp('2021-11-18 00:00:00+0000', tz='UTC'),\n",
       " Timestamp('2021-11-19 00:00:00+0000', tz='UTC'),\n",
       " Timestamp('2021-11-22 00:00:00+0000', tz='UTC'),\n",
       " Timestamp('2021-11-23 00:00:00+0000', tz='UTC'),\n",
       " Timestamp('2021-11-24 00:00:00+0000', tz='UTC'),\n",
       " Timestamp('2021-11-26 00:00:00+0000', tz='UTC'),\n",
       " Timestamp('2021-11-29 00:00:00+0000', tz='UTC'),\n",
       " Timestamp('2021-11-30 00:00:00+0000', tz='UTC'),\n",
       " Timestamp('2021-12-01 00:00:00+0000', tz='UTC'),\n",
       " Timestamp('2021-12-02 00:00:00+0000', tz='UTC'),\n",
       " Timestamp('2021-12-03 00:00:00+0000', tz='UTC'),\n",
       " Timestamp('2021-12-06 00:00:00+0000', tz='UTC'),\n",
       " Timestamp('2021-12-07 00:00:00+0000', tz='UTC'),\n",
       " Timestamp('2021-12-08 00:00:00+0000', tz='UTC'),\n",
       " Timestamp('2021-12-09 00:00:00+0000', tz='UTC'),\n",
       " Timestamp('2021-12-10 00:00:00+0000', tz='UTC'),\n",
       " Timestamp('2021-12-13 00:00:00+0000', tz='UTC'),\n",
       " Timestamp('2021-12-14 00:00:00+0000', tz='UTC'),\n",
       " Timestamp('2021-12-15 00:00:00+0000', tz='UTC'),\n",
       " Timestamp('2021-12-16 00:00:00+0000', tz='UTC'),\n",
       " Timestamp('2021-12-17 00:00:00+0000', tz='UTC'),\n",
       " Timestamp('2021-12-20 00:00:00+0000', tz='UTC'),\n",
       " Timestamp('2021-12-21 00:00:00+0000', tz='UTC'),\n",
       " Timestamp('2021-12-22 00:00:00+0000', tz='UTC'),\n",
       " Timestamp('2021-12-23 00:00:00+0000', tz='UTC'),\n",
       " Timestamp('2021-12-27 00:00:00+0000', tz='UTC'),\n",
       " Timestamp('2021-12-28 00:00:00+0000', tz='UTC'),\n",
       " Timestamp('2021-12-29 00:00:00+0000', tz='UTC'),\n",
       " Timestamp('2021-12-30 00:00:00+0000', tz='UTC'),\n",
       " Timestamp('2021-12-31 00:00:00+0000', tz='UTC'),\n",
       " Timestamp('2022-01-03 00:00:00+0000', tz='UTC'),\n",
       " Timestamp('2022-01-04 00:00:00+0000', tz='UTC'),\n",
       " Timestamp('2022-01-05 00:00:00+0000', tz='UTC'),\n",
       " Timestamp('2022-01-06 00:00:00+0000', tz='UTC'),\n",
       " Timestamp('2022-01-07 00:00:00+0000', tz='UTC'),\n",
       " ...]"
      ]
     },
     "execution_count": 5,
     "metadata": {},
     "output_type": "execute_result"
    }
   ],
   "source": [
    "dates=[]\n",
    "for i in range(len(df1)):\n",
    "  dates.append(df.index[i][1])\n",
    "dates\n"
   ]
  },
  {
   "cell_type": "code",
   "execution_count": 6,
   "metadata": {
    "id": "NFIeNixsdL5d"
   },
   "outputs": [],
   "source": [
    "df1=df1.reset_index()"
   ]
  },
  {
   "cell_type": "code",
   "execution_count": 7,
   "metadata": {
    "id": "WzcdlCLNcoPC"
   },
   "outputs": [],
   "source": [
    "df1['date']=dates\n",
    "df1.drop('symbol',inplace=True,axis=1)"
   ]
  },
  {
   "cell_type": "code",
   "execution_count": 8,
   "metadata": {
    "colab": {
     "base_uri": "https://localhost:8080/"
    },
    "id": "PEadzn-WhUnw",
    "outputId": "8699689b-1e09-4046-f9d4-2914580783a0"
   },
   "outputs": [
    {
     "data": {
      "text/plain": [
       "date     0\n",
       "close    0\n",
       "dtype: int64"
      ]
     },
     "execution_count": 8,
     "metadata": {},
     "output_type": "execute_result"
    }
   ],
   "source": [
    "df1.isnull().sum()"
   ]
  },
  {
   "cell_type": "code",
   "execution_count": 9,
   "metadata": {
    "id": "Avwe9OC-i5-A"
   },
   "outputs": [],
   "source": [
    "df1['date']=pd.to_datetime(df1['date'])"
   ]
  },
  {
   "cell_type": "code",
   "execution_count": 10,
   "metadata": {
    "colab": {
     "base_uri": "https://localhost:8080/",
     "height": 455
    },
    "id": "RkLKRCO4iJaJ",
    "outputId": "611276ad-50fa-4f0b-8484-3e2e548b7703"
   },
   "outputs": [
    {
     "data": {
      "text/html": [
       "<div>\n",
       "<style scoped>\n",
       "    .dataframe tbody tr th:only-of-type {\n",
       "        vertical-align: middle;\n",
       "    }\n",
       "\n",
       "    .dataframe tbody tr th {\n",
       "        vertical-align: top;\n",
       "    }\n",
       "\n",
       "    .dataframe thead th {\n",
       "        text-align: right;\n",
       "    }\n",
       "</style>\n",
       "<table border=\"1\" class=\"dataframe\">\n",
       "  <thead>\n",
       "    <tr style=\"text-align: right;\">\n",
       "      <th></th>\n",
       "      <th>close</th>\n",
       "    </tr>\n",
       "    <tr>\n",
       "      <th>date</th>\n",
       "      <th></th>\n",
       "    </tr>\n",
       "  </thead>\n",
       "  <tbody>\n",
       "    <tr>\n",
       "      <th>2018-01-22 00:00:00+00:00</th>\n",
       "      <td>177.00</td>\n",
       "    </tr>\n",
       "    <tr>\n",
       "      <th>2018-01-23 00:00:00+00:00</th>\n",
       "      <td>177.04</td>\n",
       "    </tr>\n",
       "    <tr>\n",
       "      <th>2018-01-24 00:00:00+00:00</th>\n",
       "      <td>174.22</td>\n",
       "    </tr>\n",
       "    <tr>\n",
       "      <th>2018-01-25 00:00:00+00:00</th>\n",
       "      <td>171.11</td>\n",
       "    </tr>\n",
       "    <tr>\n",
       "      <th>2018-01-26 00:00:00+00:00</th>\n",
       "      <td>171.51</td>\n",
       "    </tr>\n",
       "    <tr>\n",
       "      <th>...</th>\n",
       "      <td>...</td>\n",
       "    </tr>\n",
       "    <tr>\n",
       "      <th>2023-01-12 00:00:00+00:00</th>\n",
       "      <td>133.41</td>\n",
       "    </tr>\n",
       "    <tr>\n",
       "      <th>2023-01-13 00:00:00+00:00</th>\n",
       "      <td>134.76</td>\n",
       "    </tr>\n",
       "    <tr>\n",
       "      <th>2023-01-17 00:00:00+00:00</th>\n",
       "      <td>135.94</td>\n",
       "    </tr>\n",
       "    <tr>\n",
       "      <th>2023-01-18 00:00:00+00:00</th>\n",
       "      <td>135.21</td>\n",
       "    </tr>\n",
       "    <tr>\n",
       "      <th>2023-01-19 00:00:00+00:00</th>\n",
       "      <td>135.27</td>\n",
       "    </tr>\n",
       "  </tbody>\n",
       "</table>\n",
       "<p>1258 rows × 1 columns</p>\n",
       "</div>"
      ],
      "text/plain": [
       "                            close\n",
       "date                             \n",
       "2018-01-22 00:00:00+00:00  177.00\n",
       "2018-01-23 00:00:00+00:00  177.04\n",
       "2018-01-24 00:00:00+00:00  174.22\n",
       "2018-01-25 00:00:00+00:00  171.11\n",
       "2018-01-26 00:00:00+00:00  171.51\n",
       "...                           ...\n",
       "2023-01-12 00:00:00+00:00  133.41\n",
       "2023-01-13 00:00:00+00:00  134.76\n",
       "2023-01-17 00:00:00+00:00  135.94\n",
       "2023-01-18 00:00:00+00:00  135.21\n",
       "2023-01-19 00:00:00+00:00  135.27\n",
       "\n",
       "[1258 rows x 1 columns]"
      ]
     },
     "execution_count": 10,
     "metadata": {},
     "output_type": "execute_result"
    }
   ],
   "source": [
    "df1.set_index('date',inplace=True)\n",
    "df1"
   ]
  },
  {
   "cell_type": "code",
   "execution_count": 11,
   "metadata": {
    "colab": {
     "base_uri": "https://localhost:8080/",
     "height": 286
    },
    "id": "AfkXJOnijC38",
    "outputId": "0dfcc144-16c1-49e1-8a46-0c8903fe29ce"
   },
   "outputs": [
    {
     "data": {
      "text/plain": [
       "<AxesSubplot:xlabel='date'>"
      ]
     },
     "execution_count": 11,
     "metadata": {},
     "output_type": "execute_result"
    },
    {
     "data": {
      "image/png": "[encoded data removed]",
      "text/plain": [
       "<Figure size 432x288 with 1 Axes>"
      ]
     },
     "metadata": {
      "needs_background": "light"
     },
     "output_type": "display_data"
    }
   ],
   "source": [
    "df1.plot()"
   ]
  },
  {
   "cell_type": "code",
   "execution_count": 12,
   "metadata": {
    "id": "s_7xHdrYjJYv"
   },
   "outputs": [
    {
     "name": "stderr",
     "output_type": "stream",
     "text": [
      "/home/sushmita/anaconda3/envs/tfEnv/lib/python3.10/site-packages/scipy/__init__.py:146: UserWarning: A NumPy version >=1.16.5 and <1.23.0 is required for this version of SciPy (detected version 1.23.1\n",
      "  warnings.warn(f\"A NumPy version >={np_minversion} and <{np_maxversion}\"\n"
     ]
    }
   ],
   "source": [
    "import numpy as np\n",
    "import matplotlib.pyplot as plt\n",
    "import statsmodels.api as sms\n",
    "from statsmodels.tsa.stattools import adfuller"
   ]
  },
  {
   "cell_type": "code",
   "execution_count": 13,
   "metadata": {
    "id": "v5xCVlm5jXuy"
   },
   "outputs": [],
   "source": [
    "def adf_test(series):\n",
    "    result=adfuller(series)\n",
    "    print('ADF Statistics: {}'.format(result[0]))\n",
    "    print('p- value: {}'.format(result[1]))\n",
    "    if result[1] <= 0.05:\n",
    "        print(\"strong evidence against the null hypothesis, reject the null hypothesis. Data has no unit root and is stationary\")\n",
    "    else:\n",
    "        print(\"weak evidence against null hypothesis, time series has a unit root, indicating it is non-stationary \")"
   ]
  },
  {
   "cell_type": "code",
   "execution_count": 14,
   "metadata": {
    "colab": {
     "base_uri": "https://localhost:8080/"
    },
    "id": "XkGY_Nt2jbfs",
    "outputId": "fae16225-dea7-4645-f75b-4941ef28d4b0"
   },
   "outputs": [
    {
     "name": "stdout",
     "output_type": "stream",
     "text": [
      "ADF Statistics: -2.8643394609837385\n",
      "p- value: 0.04965476239798632\n",
      "strong evidence against the null hypothesis, reject the null hypothesis. Data has no unit root and is stationary\n"
     ]
    }
   ],
   "source": [
    "adf_test(df1['close'])"
   ]
  },
  {
   "cell_type": "code",
   "execution_count": 15,
   "metadata": {
    "colab": {
     "base_uri": "https://localhost:8080/",
     "height": 545
    },
    "id": "pKS0kpddjlTc",
    "outputId": "c3300452-f2df-4311-d600-f8b38494f38d"
   },
   "outputs": [
    {
     "data": {
      "image/png": "[encoded data removed]",
      "text/plain": [
       "<Figure size 432x288 with 1 Axes>"
      ]
     },
     "execution_count": 15,
     "metadata": {},
     "output_type": "execute_result"
    },
    {
     "data": {
      "image/png": "[encoded data removed]",
      "text/plain": [
       "<Figure size 432x288 with 1 Axes>"
      ]
     },
     "metadata": {
      "needs_background": "light"
     },
     "output_type": "display_data"
    }
   ],
   "source": [
    "from statsmodels.graphics.tsaplots import plot_acf,plot_pacf\n",
    "plot_acf(df1['close'])"
   ]
  },
  {
   "cell_type": "code",
   "execution_count": 16,
   "metadata": {
    "colab": {
     "base_uri": "https://localhost:8080/",
     "height": 545
    },
    "id": "K56PAQAFkJ2a",
    "outputId": "31b14ccb-ebae-458d-d00a-9e73de0f8a49"
   },
   "outputs": [
    {
     "name": "stderr",
     "output_type": "stream",
     "text": [
      "/home/sushmita/anaconda3/envs/tfEnv/lib/python3.10/site-packages/statsmodels/graphics/tsaplots.py:348: FutureWarning: The default method 'yw' can produce PACF values outside of the [-1,1] interval. After 0.13, the default will change tounadjusted Yule-Walker ('ywm'). You can use this method now by setting method='ywm'.\n",
      "  warnings.warn(\n"
     ]
    },
    {
     "data": {
      "image/png": "[encoded data removed]",
      "text/plain": [
       "<Figure size 432x288 with 1 Axes>"
      ]
     },
     "execution_count": 16,
     "metadata": {},
     "output_type": "execute_result"
    },
    {
     "data": {
      "image/png": "[encoded data removed]",
      "text/plain": [
       "<Figure size 432x288 with 1 Axes>"
      ]
     },
     "metadata": {
      "needs_background": "light"
     },
     "output_type": "display_data"
    }
   ],
   "source": [
    "plot_pacf(df['close'])"
   ]
  },
  {
   "cell_type": "code",
   "execution_count": 17,
   "metadata": {
    "id": "rY0Yu1lhkV74"
   },
   "outputs": [],
   "source": [
    "df1['first_diff']=df1['close']-df1['close'].shift(1)"
   ]
  },
  {
   "cell_type": "code",
   "execution_count": 18,
   "metadata": {
    "colab": {
     "base_uri": "https://localhost:8080/"
    },
    "id": "YgY0fCo-ltrR",
    "outputId": "7166e542-a7fc-4870-cd27-70d478eb2d2b"
   },
   "outputs": [
    {
     "name": "stdout",
     "output_type": "stream",
     "text": [
      "ADF Statistics: -36.511345266682405\n",
      "p- value: 0.0\n",
      "strong evidence against the null hypothesis, reject the null hypothesis. Data has no unit root and is stationary\n"
     ]
    }
   ],
   "source": [
    "adf_test(df1['first_diff'].dropna())"
   ]
  },
  {
   "cell_type": "code",
   "execution_count": 19,
   "metadata": {
    "colab": {
     "base_uri": "https://localhost:8080/",
     "height": 286
    },
    "id": "has_-Vw4l6Hm",
    "outputId": "e18b250f-4c58-45d4-aa71-dc0ee301e67c"
   },
   "outputs": [
    {
     "data": {
      "text/plain": [
       "<AxesSubplot:xlabel='date'>"
      ]
     },
     "execution_count": 19,
     "metadata": {},
     "output_type": "execute_result"
    },
    {
     "data": {
      "image/png": "[encoded data removed]",
      "text/plain": [
       "<Figure size 432x288 with 1 Axes>"
      ]
     },
     "metadata": {
      "needs_background": "light"
     },
     "output_type": "display_data"
    }
   ],
   "source": [
    "df1['first_diff'].plot()"
   ]
  },
  {
   "cell_type": "code",
   "execution_count": 20,
   "metadata": {},
   "outputs": [
    {
     "data": {
      "text/plain": [
       "<AxesSubplot:>"
      ]
     },
     "execution_count": 20,
     "metadata": {},
     "output_type": "execute_result"
    },
    {
     "data": {
      "image/png": "[encoded data removed]",
      "text/plain": [
       "<Figure size 432x288 with 1 Axes>"
      ]
     },
     "metadata": {
      "needs_background": "light"
     },
     "output_type": "display_data"
    }
   ],
   "source": [
    "df1['first_diff'].hist()"
   ]
  },
  {
   "cell_type": "code",
   "execution_count": 21,
   "metadata": {
    "colab": {
     "base_uri": "https://localhost:8080/"
    },
    "id": "3-aPX3CsmFDN",
    "outputId": "051768f3-07be-4340-c7a0-fc09f341aa8b"
   },
   "outputs": [
    {
     "name": "stderr",
     "output_type": "stream",
     "text": [
      "/home/sushmita/anaconda3/envs/tfEnv/lib/python3.10/site-packages/pandas/core/arraylike.py:397: RuntimeWarning: divide by zero encountered in log2\n",
      "  result = getattr(ufunc, method)(*inputs, **kwargs)\n",
      "/home/sushmita/anaconda3/envs/tfEnv/lib/python3.10/site-packages/pandas/core/arraylike.py:397: RuntimeWarning: invalid value encountered in log2\n",
      "  result = getattr(ufunc, method)(*inputs, **kwargs)\n"
     ]
    }
   ],
   "source": [
    "df1['first_diff']=np.log2(df1['first_diff'])"
   ]
  },
  {
   "cell_type": "code",
   "execution_count": 23,
   "metadata": {},
   "outputs": [
    {
     "data": {
      "text/plain": [
       "-inf"
      ]
     },
     "execution_count": 23,
     "metadata": {},
     "output_type": "execute_result"
    }
   ],
   "source": [
    "df1['first_diff'].min()"
   ]
  },
  {
   "cell_type": "code",
   "execution_count": 24,
   "metadata": {
    "colab": {
     "base_uri": "https://localhost:8080/"
    },
    "id": "6FOVBYuCm_Kc",
    "outputId": "7612b058-ef8d-4353-a257-9b75eb4b13a1"
   },
   "outputs": [
    {
     "data": {
      "text/plain": [
       "date\n",
       "2018-01-22 00:00:00+00:00         NaN\n",
       "2018-01-23 00:00:00+00:00   -4.643856\n",
       "2018-01-24 00:00:00+00:00         NaN\n",
       "2018-01-25 00:00:00+00:00         NaN\n",
       "2018-01-26 00:00:00+00:00   -1.321928\n",
       "                               ...   \n",
       "2023-01-12 00:00:00+00:00         NaN\n",
       "2023-01-13 00:00:00+00:00    0.432959\n",
       "2023-01-17 00:00:00+00:00    0.238787\n",
       "2023-01-18 00:00:00+00:00         NaN\n",
       "2023-01-19 00:00:00+00:00   -4.058894\n",
       "Name: first_diff, Length: 1258, dtype: float64"
      ]
     },
     "execution_count": 24,
     "metadata": {},
     "output_type": "execute_result"
    }
   ],
   "source": [
    "df1['first_diff']"
   ]
  },
  {
   "cell_type": "code",
   "execution_count": 25,
   "metadata": {
    "colab": {
     "base_uri": "https://localhost:8080/",
     "height": 286
    },
    "id": "RBvmU2wamphd",
    "outputId": "87aff345-c53c-4876-eb13-fe5fedf1b758"
   },
   "outputs": [
    {
     "data": {
      "text/plain": [
       "<AxesSubplot:xlabel='date'>"
      ]
     },
     "execution_count": 25,
     "metadata": {},
     "output_type": "execute_result"
    },
    {
     "data": {
      "image/png": "[encoded data removed]",
      "text/plain": [
       "<Figure size 432x288 with 1 Axes>"
      ]
     },
     "metadata": {
      "needs_background": "light"
     },
     "output_type": "display_data"
    }
   ],
   "source": [
    "df1['first_diff'].plot()"
   ]
  },
  {
   "cell_type": "code",
   "execution_count": 26,
   "metadata": {
    "colab": {
     "base_uri": "https://localhost:8080/",
     "height": 545
    },
    "id": "AjBszu8JmuhE",
    "outputId": "2c7e4d7d-1f5c-49ed-bb14-696b402683e1"
   },
   "outputs": [
    {
     "name": "stderr",
     "output_type": "stream",
     "text": [
      "/home/sushmita/anaconda3/envs/tfEnv/lib/python3.10/site-packages/matplotlib/axes/_base.py:2480: UserWarning: Warning: converting a masked element to nan.\n",
      "  xys = np.asarray(xys)\n"
     ]
    },
    {
     "data": {
      "image/png": "[encoded data removed]",
      "text/plain": [
       "<Figure size 432x288 with 1 Axes>"
      ]
     },
     "execution_count": 26,
     "metadata": {},
     "output_type": "execute_result"
    },
    {
     "data": {
      "image/png": "[encoded data removed]",
      "text/plain": [
       "<Figure size 432x288 with 1 Axes>"
      ]
     },
     "metadata": {
      "needs_background": "light"
     },
     "output_type": "display_data"
    }
   ],
   "source": [
    "plot_acf(df1['first_diff'])"
   ]
  },
  {
   "cell_type": "code",
   "execution_count": 27,
   "metadata": {
    "colab": {
     "base_uri": "https://localhost:8080/",
     "height": 545
    },
    "id": "9Z6ACxPmm3St",
    "outputId": "3eb8159b-47ca-4e44-fea7-8608456b8695"
   },
   "outputs": [
    {
     "data": {
      "image/png": "[encoded data removed]",
      "text/plain": [
       "<Figure size 432x288 with 1 Axes>"
      ]
     },
     "execution_count": 27,
     "metadata": {},
     "output_type": "execute_result"
    },
    {
     "data": {
      "image/png": "[encoded data removed]",
      "text/plain": [
       "<Figure size 432x288 with 1 Axes>"
      ]
     },
     "metadata": {
      "needs_background": "light"
     },
     "output_type": "display_data"
    }
   ],
   "source": [
    "plot_pacf(df1['first_diff'])"
   ]
  },
  {
   "cell_type": "code",
   "execution_count": 28,
   "metadata": {
    "id": "rOVkPI4HnYLd"
   },
   "outputs": [],
   "source": [
    "df1['first_diff']=df1['close']-df1['close'].shift(1)"
   ]
  },
  {
   "cell_type": "code",
   "execution_count": 29,
   "metadata": {
    "colab": {
     "base_uri": "https://localhost:8080/",
     "height": 545
    },
    "id": "C7pqomY_nZZD",
    "outputId": "998c2fd2-5e97-4be7-cee5-10f8cec91bd9"
   },
   "outputs": [
    {
     "data": {
      "image/png": "[encoded data removed]",
      "text/plain": [
       "<Figure size 432x288 with 1 Axes>"
      ]
     },
     "execution_count": 29,
     "metadata": {},
     "output_type": "execute_result"
    },
    {
     "data": {
      "image/png": "[encoded data removed]",
      "text/plain": [
       "<Figure size 432x288 with 1 Axes>"
      ]
     },
     "metadata": {
      "needs_background": "light"
     },
     "output_type": "display_data"
    }
   ],
   "source": [
    "plot_acf(df1['first_diff'])"
   ]
  },
  {
   "cell_type": "code",
   "execution_count": 30,
   "metadata": {
    "colab": {
     "base_uri": "https://localhost:8080/",
     "height": 545
    },
    "id": "6xmW-RTWndJH",
    "outputId": "8ce14856-743c-49ed-ba24-6941a578c7fa"
   },
   "outputs": [
    {
     "data": {
      "image/png": "[encoded data removed]",
      "text/plain": [
       "<Figure size 432x288 with 1 Axes>"
      ]
     },
     "execution_count": 30,
     "metadata": {},
     "output_type": "execute_result"
    },
    {
     "data": {
      "image/png": "[encoded data removed]",
      "text/plain": [
       "<Figure size 432x288 with 1 Axes>"
      ]
     },
     "metadata": {
      "needs_background": "light"
     },
     "output_type": "display_data"
    }
   ],
   "source": [
    "plot_pacf(df1['first_diff'])"
   ]
  },
  {
   "cell_type": "code",
   "execution_count": 31,
   "metadata": {
    "colab": {
     "base_uri": "https://localhost:8080/",
     "height": 286
    },
    "id": "cwk9wrxFnl3G",
    "outputId": "0c75c388-a939-4871-a38c-fe5b32aae11a"
   },
   "outputs": [
    {
     "data": {
      "text/plain": [
       "<matplotlib.axes._subplots.AxesSubplot at 0x7feae3788d30>"
      ]
     },
     "execution_count": 31,
     "metadata": {},
     "output_type": "execute_result"
    },
    {
     "data": {
      "image/png": "[encoded data removed]",
      "text/plain": [
       "<Figure size 432x288 with 1 Axes>"
      ]
     },
     "metadata": {
      "needs_background": "light"
     },
     "output_type": "display_data"
    }
   ],
   "source": [
    "df1['first_diff'].plot()"
   ]
  },
  {
   "cell_type": "code",
   "execution_count": 32,
   "metadata": {
    "colab": {
     "base_uri": "https://localhost:8080/"
    },
    "id": "sOdHp0yioj9q",
    "outputId": "e77531f5-ea47-4613-d4ca-35888aee43bb"
   },
   "outputs": [
    {
     "data": {
      "text/plain": [
       "0       177.00\n",
       "1       177.04\n",
       "2       174.22\n",
       "3       171.11\n",
       "4       171.51\n",
       "         ...  \n",
       "1252    133.49\n",
       "1253    133.41\n",
       "1254    134.76\n",
       "1255    135.94\n",
       "1256    135.21\n",
       "Name: close, Length: 1257, dtype: float64"
      ]
     },
     "execution_count": 32,
     "metadata": {},
     "output_type": "execute_result"
    }
   ],
   "source": [
    "df2=df1.reset_index()['close']\n",
    "df2"
   ]
  },
  {
   "cell_type": "code",
   "execution_count": 33,
   "metadata": {
    "id": "TOL3bJJHo3Ip"
   },
   "outputs": [],
   "source": [
    "from sklearn.preprocessing import MinMaxScaler\n",
    "scaler=MinMaxScaler(feature_range=(0,1))\n",
    "df2=scaler.fit_transform(np.array(df2).reshape(-1,1))"
   ]
  },
  {
   "cell_type": "code",
   "execution_count": 34,
   "metadata": {
    "id": "rCgqR9AipA_r"
   },
   "outputs": [],
   "source": [
    "##splitting dataset into train and test split\n",
    "training_size=int(len(df1)*0.75)\n",
    "test_size=len(df1)-training_size\n",
    "train_data,test_data=df2[0:training_size,:],df2[training_size:len(df2),:1]"
   ]
  },
  {
   "cell_type": "code",
   "execution_count": 35,
   "metadata": {
    "colab": {
     "base_uri": "https://localhost:8080/"
    },
    "id": "uKVtEeO_pMG1",
    "outputId": "2a2c73bd-4c21-41e0-b3df-1e3be8244a01"
   },
   "outputs": [
    {
     "data": {
      "text/plain": [
       "(942, 315)"
      ]
     },
     "execution_count": 35,
     "metadata": {},
     "output_type": "execute_result"
    }
   ],
   "source": [
    "training_size,test_size"
   ]
  },
  {
   "cell_type": "code",
   "execution_count": 36,
   "metadata": {
    "id": "JTnZa6SppMRF"
   },
   "outputs": [],
   "source": [
    "def create_dataset(dataset, time_step=1):\n",
    "\tdataX, dataY = [], []\n",
    "\tfor i in range(len(dataset)-time_step-1):\n",
    "\t\ta = dataset[i:(i+time_step), 0]   ###i=0, 0,1,2,3-----99   100 \n",
    "\t\tdataX.append(a)\n",
    "\t\tdataY.append(dataset[i + time_step, 0])\n",
    "\treturn np.array(dataX), np.array(dataY)"
   ]
  },
  {
   "cell_type": "code",
   "execution_count": 37,
   "metadata": {
    "id": "eyOKQzo-pbzc"
   },
   "outputs": [],
   "source": [
    "time_step = 50\n",
    "X_train, y_train = create_dataset(train_data, time_step)\n",
    "X_test, ytest = create_dataset(test_data, time_step)"
   ]
  },
  {
   "cell_type": "code",
   "execution_count": 38,
   "metadata": {
    "colab": {
     "base_uri": "https://localhost:8080/"
    },
    "id": "5QanoAYCpjfp",
    "outputId": "c1786249-9e5e-4307-b8b0-b4b965d55866"
   },
   "outputs": [
    {
     "name": "stdout",
     "output_type": "stream",
     "text": [
      "(891, 50)\n",
      "(891,)\n"
     ]
    },
    {
     "data": {
      "text/plain": [
       "(None, None)"
      ]
     },
     "execution_count": 38,
     "metadata": {},
     "output_type": "execute_result"
    }
   ],
   "source": [
    "print(X_train.shape), print(y_train.shape)"
   ]
  },
  {
   "cell_type": "code",
   "execution_count": 39,
   "metadata": {
    "id": "byxBCM4epMTH"
   },
   "outputs": [],
   "source": [
    "\n",
    "# reshape input to be [samples, time steps, features] which is required for LSTM\n",
    "X_train =X_train.reshape(X_train.shape[0],X_train.shape[1] , 1)\n",
    "X_test = X_test.reshape(X_test.shape[0],X_test.shape[1] , 1)"
   ]
  },
  {
   "cell_type": "code",
   "execution_count": 40,
   "metadata": {
    "id": "h24RDWn_pMVZ"
   },
   "outputs": [],
   "source": [
    "### Create the Stacked LSTM model\n",
    "from tensorflow.keras.models import Sequential\n",
    "from tensorflow.keras.layers import Dense\n",
    "from tensorflow.keras.layers import LSTM"
   ]
  },
  {
   "cell_type": "code",
   "execution_count": 41,
   "metadata": {
    "id": "phhsjxUapMY6"
   },
   "outputs": [],
   "source": [
    "model=Sequential()\n",
    "model.add(LSTM(50,return_sequences=True,input_shape=(50,1)))\n",
    "model.add(LSTM(50,return_sequences=True))\n",
    "model.add(LSTM(50))\n",
    "model.add(Dense(16))\n",
    "model.add(Dense(1))\n",
    "model.compile(loss='mean_squared_error',optimizer='adam')"
   ]
  },
  {
   "cell_type": "code",
   "execution_count": 42,
   "metadata": {
    "colab": {
     "base_uri": "https://localhost:8080/"
    },
    "id": "gwYLMLBFrlZf",
    "outputId": "47a5318b-d8b1-4f68-db6a-a73fe1419767"
   },
   "outputs": [
    {
     "name": "stdout",
     "output_type": "stream",
     "text": [
      "Epoch 1/100\n",
      "28/28 [==============================] - 11s 54ms/step - loss: 0.0170 - val_loss: 3.9669e-04\n",
      "Epoch 2/100\n",
      "28/28 [==============================] - 0s 12ms/step - loss: 0.0084 - val_loss: 3.7229e-04\n",
      "Epoch 3/100\n",
      "28/28 [==============================] - 0s 12ms/step - loss: 0.0072 - val_loss: 3.1496e-04\n",
      "Epoch 4/100\n",
      "28/28 [==============================] - 0s 12ms/step - loss: 0.0057 - val_loss: 4.6592e-04\n",
      "Epoch 5/100\n",
      "28/28 [==============================] - 0s 12ms/step - loss: 0.0048 - val_loss: 7.0629e-04\n",
      "Epoch 6/100\n",
      "28/28 [==============================] - 0s 13ms/step - loss: 0.0042 - val_loss: 0.0017\n",
      "Epoch 7/100\n",
      "28/28 [==============================] - 0s 12ms/step - loss: 0.0035 - val_loss: 3.9441e-04\n",
      "Epoch 8/100\n",
      "28/28 [==============================] - 0s 12ms/step - loss: 0.0032 - val_loss: 9.7546e-04\n",
      "Epoch 9/100\n",
      "28/28 [==============================] - 0s 12ms/step - loss: 0.0029 - val_loss: 0.0010\n",
      "Epoch 10/100\n",
      "28/28 [==============================] - 0s 12ms/step - loss: 0.0036 - val_loss: 0.0015\n",
      "Epoch 11/100\n",
      "28/28 [==============================] - 0s 12ms/step - loss: 0.0040 - val_loss: 6.9764e-04\n",
      "Epoch 12/100\n",
      "28/28 [==============================] - 0s 12ms/step - loss: 0.0030 - val_loss: 6.7068e-04\n",
      "Epoch 13/100\n",
      "28/28 [==============================] - 0s 12ms/step - loss: 0.0029 - val_loss: 0.0013\n",
      "Epoch 14/100\n",
      "28/28 [==============================] - 0s 12ms/step - loss: 0.0031 - val_loss: 4.3021e-04\n",
      "Epoch 15/100\n",
      "28/28 [==============================] - 0s 12ms/step - loss: 0.0026 - val_loss: 7.1507e-04\n",
      "Epoch 16/100\n",
      "28/28 [==============================] - 0s 12ms/step - loss: 0.0029 - val_loss: 5.9331e-04\n",
      "Epoch 17/100\n",
      "28/28 [==============================] - 0s 11ms/step - loss: 0.0024 - val_loss: 2.7279e-04\n",
      "Epoch 18/100\n",
      "28/28 [==============================] - 0s 12ms/step - loss: 0.0020 - val_loss: 2.5097e-04\n",
      "Epoch 19/100\n",
      "28/28 [==============================] - 0s 13ms/step - loss: 0.0025 - val_loss: 4.3540e-04\n",
      "Epoch 20/100\n",
      "28/28 [==============================] - 0s 12ms/step - loss: 0.0020 - val_loss: 6.0187e-04\n",
      "Epoch 21/100\n",
      "28/28 [==============================] - 0s 12ms/step - loss: 0.0018 - val_loss: 2.0833e-04\n",
      "Epoch 22/100\n",
      "28/28 [==============================] - 0s 12ms/step - loss: 0.0025 - val_loss: 4.5171e-04\n",
      "Epoch 23/100\n",
      "28/28 [==============================] - 0s 12ms/step - loss: 0.0017 - val_loss: 2.1128e-04\n",
      "Epoch 24/100\n",
      "28/28 [==============================] - 0s 12ms/step - loss: 0.0026 - val_loss: 5.1097e-04\n",
      "Epoch 25/100\n",
      "28/28 [==============================] - 0s 13ms/step - loss: 0.0019 - val_loss: 4.8227e-04\n",
      "Epoch 26/100\n",
      "28/28 [==============================] - 0s 12ms/step - loss: 0.0017 - val_loss: 3.2683e-04\n",
      "Epoch 27/100\n",
      "28/28 [==============================] - 0s 12ms/step - loss: 0.0018 - val_loss: 2.2052e-04\n",
      "Epoch 28/100\n",
      "28/28 [==============================] - 0s 12ms/step - loss: 0.0015 - val_loss: 4.6866e-04\n",
      "Epoch 29/100\n",
      "28/28 [==============================] - 0s 12ms/step - loss: 0.0016 - val_loss: 4.2144e-04\n",
      "Epoch 30/100\n",
      "28/28 [==============================] - 0s 12ms/step - loss: 0.0014 - val_loss: 1.9632e-04\n",
      "Epoch 31/100\n",
      "28/28 [==============================] - 0s 12ms/step - loss: 0.0020 - val_loss: 3.3999e-04\n",
      "Epoch 32/100\n",
      "28/28 [==============================] - 0s 12ms/step - loss: 0.0019 - val_loss: 3.7316e-04\n",
      "Epoch 33/100\n",
      "28/28 [==============================] - 0s 12ms/step - loss: 0.0014 - val_loss: 2.0535e-04\n",
      "Epoch 34/100\n",
      "28/28 [==============================] - 0s 12ms/step - loss: 0.0013 - val_loss: 1.9441e-04\n",
      "Epoch 35/100\n",
      "28/28 [==============================] - 0s 12ms/step - loss: 0.0014 - val_loss: 3.3584e-04\n",
      "Epoch 36/100\n",
      "28/28 [==============================] - 0s 12ms/step - loss: 0.0013 - val_loss: 2.0986e-04\n",
      "Epoch 37/100\n",
      "28/28 [==============================] - 0s 12ms/step - loss: 0.0016 - val_loss: 1.7918e-04\n",
      "Epoch 38/100\n",
      "28/28 [==============================] - 0s 12ms/step - loss: 0.0016 - val_loss: 3.7204e-04\n",
      "Epoch 39/100\n",
      "28/28 [==============================] - 0s 12ms/step - loss: 0.0015 - val_loss: 2.7896e-04\n",
      "Epoch 40/100\n",
      "28/28 [==============================] - 0s 12ms/step - loss: 0.0014 - val_loss: 2.2533e-04\n",
      "Epoch 41/100\n",
      "28/28 [==============================] - 0s 12ms/step - loss: 0.0013 - val_loss: 5.2440e-04\n",
      "Epoch 42/100\n",
      "28/28 [==============================] - 0s 12ms/step - loss: 0.0013 - val_loss: 2.2332e-04\n",
      "Epoch 43/100\n",
      "28/28 [==============================] - 0s 12ms/step - loss: 0.0011 - val_loss: 2.3695e-04\n",
      "Epoch 44/100\n",
      "28/28 [==============================] - 0s 12ms/step - loss: 0.0012 - val_loss: 2.3024e-04\n",
      "Epoch 45/100\n",
      "28/28 [==============================] - 0s 12ms/step - loss: 0.0011 - val_loss: 1.6431e-04\n",
      "Epoch 46/100\n",
      "28/28 [==============================] - 0s 12ms/step - loss: 0.0011 - val_loss: 2.1450e-04\n",
      "Epoch 47/100\n",
      "28/28 [==============================] - 0s 12ms/step - loss: 0.0011 - val_loss: 1.7844e-04\n",
      "Epoch 48/100\n",
      "28/28 [==============================] - 0s 12ms/step - loss: 0.0013 - val_loss: 2.5734e-04\n",
      "Epoch 49/100\n",
      "28/28 [==============================] - 0s 12ms/step - loss: 0.0015 - val_loss: 1.9750e-04\n",
      "Epoch 50/100\n",
      "28/28 [==============================] - 0s 12ms/step - loss: 0.0012 - val_loss: 4.0145e-04\n",
      "Epoch 51/100\n",
      "28/28 [==============================] - 0s 12ms/step - loss: 0.0012 - val_loss: 1.6762e-04\n",
      "Epoch 52/100\n",
      "28/28 [==============================] - 0s 12ms/step - loss: 0.0011 - val_loss: 3.6475e-04\n",
      "Epoch 53/100\n",
      "28/28 [==============================] - 0s 12ms/step - loss: 0.0012 - val_loss: 1.5541e-04\n",
      "Epoch 54/100\n",
      "28/28 [==============================] - 0s 12ms/step - loss: 0.0012 - val_loss: 4.1180e-04\n",
      "Epoch 55/100\n",
      "28/28 [==============================] - 0s 13ms/step - loss: 0.0012 - val_loss: 1.8820e-04\n",
      "Epoch 56/100\n",
      "28/28 [==============================] - 0s 12ms/step - loss: 0.0013 - val_loss: 4.3229e-04\n",
      "Epoch 57/100\n",
      "28/28 [==============================] - 0s 12ms/step - loss: 0.0011 - val_loss: 1.9396e-04\n",
      "Epoch 58/100\n",
      "28/28 [==============================] - 0s 12ms/step - loss: 0.0012 - val_loss: 2.1352e-04\n",
      "Epoch 59/100\n",
      "28/28 [==============================] - 0s 12ms/step - loss: 0.0011 - val_loss: 1.6808e-04\n",
      "Epoch 60/100\n",
      "28/28 [==============================] - 0s 12ms/step - loss: 0.0010 - val_loss: 2.0820e-04\n",
      "Epoch 61/100\n",
      "28/28 [==============================] - 0s 12ms/step - loss: 0.0010 - val_loss: 1.7531e-04\n",
      "Epoch 62/100\n",
      "28/28 [==============================] - 0s 12ms/step - loss: 0.0012 - val_loss: 1.7171e-04\n",
      "Epoch 63/100\n",
      "28/28 [==============================] - 0s 13ms/step - loss: 0.0012 - val_loss: 2.3047e-04\n",
      "Epoch 64/100\n",
      "28/28 [==============================] - 0s 12ms/step - loss: 0.0011 - val_loss: 1.5405e-04\n",
      "Epoch 65/100\n",
      "28/28 [==============================] - 0s 13ms/step - loss: 0.0010 - val_loss: 1.9678e-04\n",
      "Epoch 66/100\n",
      "28/28 [==============================] - 0s 12ms/step - loss: 0.0012 - val_loss: 3.0673e-04\n",
      "Epoch 67/100\n",
      "28/28 [==============================] - 0s 12ms/step - loss: 0.0013 - val_loss: 3.0776e-04\n",
      "Epoch 68/100\n",
      "28/28 [==============================] - 0s 13ms/step - loss: 0.0011 - val_loss: 1.5950e-04\n",
      "Epoch 69/100\n",
      "28/28 [==============================] - 0s 13ms/step - loss: 0.0013 - val_loss: 1.4578e-04\n",
      "Epoch 70/100\n",
      "28/28 [==============================] - 0s 12ms/step - loss: 0.0011 - val_loss: 1.4933e-04\n",
      "Epoch 71/100\n",
      "28/28 [==============================] - 0s 12ms/step - loss: 0.0011 - val_loss: 3.3281e-04\n",
      "Epoch 72/100\n",
      "28/28 [==============================] - 0s 12ms/step - loss: 0.0011 - val_loss: 1.6766e-04\n",
      "Epoch 73/100\n",
      "28/28 [==============================] - 1s 28ms/step - loss: 8.8912e-04 - val_loss: 1.5515e-04\n",
      "Epoch 74/100\n",
      "28/28 [==============================] - 0s 12ms/step - loss: 0.0010 - val_loss: 4.0817e-04\n",
      "Epoch 75/100\n",
      "28/28 [==============================] - 1s 23ms/step - loss: 0.0011 - val_loss: 1.8824e-04\n",
      "Epoch 76/100\n",
      "28/28 [==============================] - 0s 16ms/step - loss: 9.6886e-04 - val_loss: 1.4230e-04\n",
      "Epoch 77/100\n",
      "28/28 [==============================] - 0s 13ms/step - loss: 0.0012 - val_loss: 1.3658e-04\n",
      "Epoch 78/100\n",
      "28/28 [==============================] - 1s 23ms/step - loss: 0.0011 - val_loss: 1.6098e-04\n",
      "Epoch 79/100\n",
      "28/28 [==============================] - 0s 14ms/step - loss: 0.0010 - val_loss: 2.1353e-04\n",
      "Epoch 80/100\n",
      "28/28 [==============================] - 0s 13ms/step - loss: 0.0012 - val_loss: 1.4990e-04\n",
      "Epoch 81/100\n",
      "28/28 [==============================] - 0s 12ms/step - loss: 0.0010 - val_loss: 4.9850e-04\n",
      "Epoch 82/100\n",
      "28/28 [==============================] - 0s 12ms/step - loss: 9.7073e-04 - val_loss: 1.8918e-04\n",
      "Epoch 83/100\n",
      "28/28 [==============================] - 0s 12ms/step - loss: 9.2585e-04 - val_loss: 1.4786e-04\n",
      "Epoch 84/100\n",
      "28/28 [==============================] - 0s 12ms/step - loss: 9.1809e-04 - val_loss: 1.5539e-04\n",
      "Epoch 85/100\n",
      "28/28 [==============================] - 0s 13ms/step - loss: 9.6382e-04 - val_loss: 2.7834e-04\n",
      "Epoch 86/100\n",
      "28/28 [==============================] - 0s 12ms/step - loss: 9.1800e-04 - val_loss: 1.5952e-04\n",
      "Epoch 87/100\n",
      "28/28 [==============================] - 0s 12ms/step - loss: 0.0011 - val_loss: 2.1971e-04\n",
      "Epoch 88/100\n",
      "28/28 [==============================] - 0s 13ms/step - loss: 0.0012 - val_loss: 4.5526e-04\n",
      "Epoch 89/100\n",
      "28/28 [==============================] - 0s 12ms/step - loss: 0.0010 - val_loss: 1.9045e-04\n",
      "Epoch 90/100\n",
      "28/28 [==============================] - 0s 12ms/step - loss: 0.0010 - val_loss: 1.9357e-04\n",
      "Epoch 91/100\n",
      "28/28 [==============================] - 0s 12ms/step - loss: 0.0010 - val_loss: 2.4417e-04\n",
      "Epoch 92/100\n",
      "28/28 [==============================] - 0s 13ms/step - loss: 8.7573e-04 - val_loss: 1.4990e-04\n",
      "Epoch 93/100\n",
      "28/28 [==============================] - 0s 12ms/step - loss: 0.0011 - val_loss: 1.6420e-04\n",
      "Epoch 94/100\n",
      "28/28 [==============================] - 0s 13ms/step - loss: 9.2127e-04 - val_loss: 1.6367e-04\n",
      "Epoch 95/100\n",
      "28/28 [==============================] - 0s 12ms/step - loss: 8.7309e-04 - val_loss: 1.8778e-04\n",
      "Epoch 96/100\n",
      "28/28 [==============================] - 0s 12ms/step - loss: 8.9855e-04 - val_loss: 1.6151e-04\n",
      "Epoch 97/100\n",
      "28/28 [==============================] - 0s 13ms/step - loss: 9.0883e-04 - val_loss: 1.5256e-04\n",
      "Epoch 98/100\n",
      "28/28 [==============================] - 0s 13ms/step - loss: 8.4427e-04 - val_loss: 1.4025e-04\n",
      "Epoch 99/100\n",
      "28/28 [==============================] - 0s 12ms/step - loss: 7.5162e-04 - val_loss: 1.4297e-04\n",
      "Epoch 100/100\n",
      "28/28 [==============================] - 0s 12ms/step - loss: 9.2131e-04 - val_loss: 1.3788e-04\n"
     ]
    },
    {
     "data": {
      "text/plain": [
       "<keras.callbacks.History at 0x7fea266e89a0>"
      ]
     },
     "execution_count": 42,
     "metadata": {},
     "output_type": "execute_result"
    }
   ],
   "source": [
    "model.fit(X_train,y_train,validation_data=(X_test,ytest),epochs=100,batch_size=32,verbose=1)"
   ]
  },
  {
   "cell_type": "code",
   "execution_count": 43,
   "metadata": {
    "colab": {
     "base_uri": "https://localhost:8080/"
    },
    "id": "j5EgO4qhrrjh",
    "outputId": "d9f29131-a72c-4d57-ff2d-cc687eb22047"
   },
   "outputs": [
    {
     "name": "stdout",
     "output_type": "stream",
     "text": [
      "28/28 [==============================] - 1s 5ms/step\n",
      "9/9 [==============================] - 0s 5ms/step\n"
     ]
    }
   ],
   "source": [
    "train_predict=model.predict(X_train)\n",
    "test_predict=model.predict(X_test)"
   ]
  },
  {
   "cell_type": "code",
   "execution_count": 44,
   "metadata": {
    "id": "koCus7_Dr-NV"
   },
   "outputs": [],
   "source": [
    "train_predict=scaler.inverse_transform(train_predict)\n",
    "test_predict=scaler.inverse_transform(test_predict)"
   ]
  },
  {
   "cell_type": "code",
   "execution_count": 45,
   "metadata": {
    "colab": {
     "base_uri": "https://localhost:8080/"
    },
    "id": "OnAkLU5psFsj",
    "outputId": "540211aa-d060-45df-f68e-9c66aa2f88b0"
   },
   "outputs": [
    {
     "data": {
      "text/plain": [
       "215.35271323547005"
      ]
     },
     "execution_count": 45,
     "metadata": {},
     "output_type": "execute_result"
    }
   ],
   "source": [
    "import math\n",
    "from sklearn.metrics import mean_squared_error\n",
    "math.sqrt(mean_squared_error(y_train,train_predict))"
   ]
  },
  {
   "cell_type": "code",
   "execution_count": 46,
   "metadata": {
    "colab": {
     "base_uri": "https://localhost:8080/"
    },
    "id": "Mk8Mn_0SsGsy",
    "outputId": "dcec74b4-7da6-4bfa-8f04-f5ecbc20bcc8"
   },
   "outputs": [
    {
     "data": {
      "text/plain": [
       "154.7311714130224"
      ]
     },
     "execution_count": 46,
     "metadata": {},
     "output_type": "execute_result"
    }
   ],
   "source": [
    "### Test Data RMSE\n",
    "math.sqrt(mean_squared_error(ytest,test_predict))"
   ]
  },
  {
   "cell_type": "code",
   "execution_count": 47,
   "metadata": {
    "colab": {
     "base_uri": "https://localhost:8080/",
     "height": 265
    },
    "id": "51pb2IoCsKlD",
    "outputId": "51ff7e48-9198-4daa-ffda-7137f972cfba"
   },
   "outputs": [
    {
     "data": {
      "image/png": "[encoded data removed]",
      "text/plain": [
       "<Figure size 432x288 with 1 Axes>"
      ]
     },
     "metadata": {
      "needs_background": "light"
     },
     "output_type": "display_data"
    }
   ],
   "source": [
    "### Plotting \n",
    "# shift train predictions for plotting\n",
    "look_back=50\n",
    "trainPredictPlot = np.empty_like(df2)\n",
    "trainPredictPlot[:, :] = np.nan\n",
    "trainPredictPlot[look_back:len(train_predict)+look_back, :] = train_predict\n",
    "# shift test predictions for plotting\n",
    "testPredictPlot = np.empty_like(df2)\n",
    "testPredictPlot[:, :] = np.nan\n",
    "testPredictPlot[len(train_predict)+(look_back*2)+1:len(df2)-1, :] = test_predict\n",
    "# plot baseline and predictions\n",
    "plt.plot(scaler.inverse_transform(df2))\n",
    "plt.plot(trainPredictPlot)\n",
    "plt.plot(testPredictPlot)\n",
    "plt.show()"
   ]
  }
 ],
 "metadata": {
  "accelerator": "GPU",
  "colab": {
   "provenance": []
  },
  "gpuClass": "standard",
  "kernelspec": {
   "display_name": "Python 3 (ipykernel)",
   "language": "python",
   "name": "python3"
  },
  "language_info": {
   "codemirror_mode": {
    "name": "ipython",
    "version": 3
   },
   "file_extension": ".py",
   "mimetype": "text/x-python",
   "name": "python",
   "nbconvert_exporter": "python",
   "pygments_lexer": "ipython3",
   "version": "3.10.4"
  }
 },
 "nbformat": 4,
 "nbformat_minor": 1
}
