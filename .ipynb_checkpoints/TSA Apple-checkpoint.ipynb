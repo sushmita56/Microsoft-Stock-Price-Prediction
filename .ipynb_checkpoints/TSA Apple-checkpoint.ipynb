{
 "cells": [
  {
   "cell_type": "code",
   "execution_count": 1,
   "metadata": {
    "id": "LlF5KMWfaIHg"
   },
   "outputs": [],
   "source": [
    "import pandas_datareader as pdr\n",
    "key=\"a013a01247e6476f7b93bd452bb4d6fc5756788f\""
   ]
  },
  {
   "cell_type": "code",
   "execution_count": 2,
   "metadata": {
    "colab": {
     "base_uri": "https://localhost:8080/"
    },
    "id": "K6pfVxNpaUor",
    "outputId": "9e924e07-ef5f-4906-8f95-27ab80214fb8"
   },
   "outputs": [
    {
     "name": "stderr",
     "output_type": "stream",
     "text": [
      "/home/sushmita/anaconda3/envs/tfEnv/lib/python3.10/site-packages/pandas_datareader/tiingo.py:234: FutureWarning: In a future version of pandas all arguments of concat except for the argument 'objs' will be keyword-only.\n",
      "  return pd.concat(dfs, self._concat_axis)\n"
     ]
    }
   ],
   "source": [
    "df = pdr.get_data_tiingo('AAPL', api_key=key)"
   ]
  },
  {
   "cell_type": "code",
   "execution_count": 3,
   "metadata": {
    "colab": {
     "base_uri": "https://localhost:8080/"
    },
    "id": "lR9BuAGob6o5",
    "outputId": "30796a16-0da0-4e91-a9d8-83cfb67b1263"
   },
   "outputs": [
    {
     "name": "stdout",
     "output_type": "stream",
     "text": [
      "                                   close    high     low    open    volume  \\\n",
      "symbol date                                                                  \n",
      "AAPL   2018-01-25 00:00:00+00:00  171.11  174.95  170.53  174.51  39661804   \n",
      "       2018-01-26 00:00:00+00:00  171.51  172.00  170.06  172.00  37121805   \n",
      "       2018-01-29 00:00:00+00:00  167.96  170.16  167.07  170.16  48434424   \n",
      "       2018-01-30 00:00:00+00:00  166.97  167.37  164.70  165.53  45137026   \n",
      "       2018-01-31 00:00:00+00:00  167.43  168.44  166.50  166.87  30984099   \n",
      "\n",
      "                                   adjClose    adjHigh     adjLow    adjOpen  \\\n",
      "symbol date                                                                    \n",
      "AAPL   2018-01-25 00:00:00+00:00  40.623879  41.535548  40.486179  41.431086   \n",
      "       2018-01-26 00:00:00+00:00  40.718845  40.835178  40.374595  40.835178   \n",
      "       2018-01-29 00:00:00+00:00  39.876026  40.398336  39.664727  40.398336   \n",
      "       2018-01-30 00:00:00+00:00  39.640986  39.735952  39.102057  39.299110   \n",
      "       2018-01-31 00:00:00+00:00  39.750196  39.989984  39.529402  39.617245   \n",
      "\n",
      "                                  adjVolume  divCash  splitFactor  \n",
      "symbol date                                                        \n",
      "AAPL   2018-01-25 00:00:00+00:00  158647216      0.0          1.0  \n",
      "       2018-01-26 00:00:00+00:00  148487220      0.0          1.0  \n",
      "       2018-01-29 00:00:00+00:00  193737696      0.0          1.0  \n",
      "       2018-01-30 00:00:00+00:00  180548104      0.0          1.0  \n",
      "       2018-01-31 00:00:00+00:00  123936396      0.0          1.0  \n"
     ]
    }
   ],
   "source": [
    "print(df.head())"
   ]
  },
  {
   "cell_type": "code",
   "execution_count": 4,
   "metadata": {
    "id": "qht88CF8cFbo"
   },
   "outputs": [],
   "source": [
    "import pandas as pd\n",
    "df1=df['close']"
   ]
  },
  {
   "cell_type": "code",
   "execution_count": 5,
   "metadata": {
    "colab": {
     "base_uri": "https://localhost:8080/"
    },
    "id": "qYt6fjB7cknY",
    "outputId": "6eb68bd3-e165-44dc-8541-f744a701b593"
   },
   "outputs": [
    {
     "data": {
      "text/plain": [
       "[Timestamp('2018-01-25 00:00:00+0000', tz='UTC'),\n",
       " Timestamp('2018-01-26 00:00:00+0000', tz='UTC'),\n",
       " Timestamp('2018-01-29 00:00:00+0000', tz='UTC'),\n",
       " Timestamp('2018-01-30 00:00:00+0000', tz='UTC'),\n",
       " Timestamp('2018-01-31 00:00:00+0000', tz='UTC'),\n",
       " Timestamp('2018-02-01 00:00:00+0000', tz='UTC'),\n",
       " Timestamp('2018-02-02 00:00:00+0000', tz='UTC'),\n",
       " Timestamp('2018-02-05 00:00:00+0000', tz='UTC'),\n",
       " Timestamp('2018-02-06 00:00:00+0000', tz='UTC'),\n",
       " Timestamp('2018-02-07 00:00:00+0000', tz='UTC'),\n",
       " Timestamp('2018-02-08 00:00:00+0000', tz='UTC'),\n",
       " Timestamp('2018-02-09 00:00:00+0000', tz='UTC'),\n",
       " Timestamp('2018-02-12 00:00:00+0000', tz='UTC'),\n",
       " Timestamp('2018-02-13 00:00:00+0000', tz='UTC'),\n",
       " Timestamp('2018-02-14 00:00:00+0000', tz='UTC'),\n",
       " Timestamp('2018-02-15 00:00:00+0000', tz='UTC'),\n",
       " Timestamp('2018-02-16 00:00:00+0000', tz='UTC'),\n",
       " Timestamp('2018-02-20 00:00:00+0000', tz='UTC'),\n",
       " Timestamp('2018-02-21 00:00:00+0000', tz='UTC'),\n",
       " Timestamp('2018-02-22 00:00:00+0000', tz='UTC'),\n",
       " Timestamp('2018-02-23 00:00:00+0000', tz='UTC'),\n",
       " Timestamp('2018-02-26 00:00:00+0000', tz='UTC'),\n",
       " Timestamp('2018-02-27 00:00:00+0000', tz='UTC'),\n",
       " Timestamp('2018-02-28 00:00:00+0000', tz='UTC'),\n",
       " Timestamp('2018-03-01 00:00:00+0000', tz='UTC'),\n",
       " Timestamp('2018-03-02 00:00:00+0000', tz='UTC'),\n",
       " Timestamp('2018-03-05 00:00:00+0000', tz='UTC'),\n",
       " Timestamp('2018-03-06 00:00:00+0000', tz='UTC'),\n",
       " Timestamp('2018-03-07 00:00:00+0000', tz='UTC'),\n",
       " Timestamp('2018-03-08 00:00:00+0000', tz='UTC'),\n",
       " Timestamp('2018-03-09 00:00:00+0000', tz='UTC'),\n",
       " Timestamp('2018-03-12 00:00:00+0000', tz='UTC'),\n",
       " Timestamp('2018-03-13 00:00:00+0000', tz='UTC'),\n",
       " Timestamp('2018-03-14 00:00:00+0000', tz='UTC'),\n",
       " Timestamp('2018-03-15 00:00:00+0000', tz='UTC'),\n",
       " Timestamp('2018-03-16 00:00:00+0000', tz='UTC'),\n",
       " Timestamp('2018-03-19 00:00:00+0000', tz='UTC'),\n",
       " Timestamp('2018-03-20 00:00:00+0000', tz='UTC'),\n",
       " Timestamp('2018-03-21 00:00:00+0000', tz='UTC'),\n",
       " Timestamp('2018-03-22 00:00:00+0000', tz='UTC'),\n",
       " Timestamp('2018-03-23 00:00:00+0000', tz='UTC'),\n",
       " Timestamp('2018-03-26 00:00:00+0000', tz='UTC'),\n",
       " Timestamp('2018-03-27 00:00:00+0000', tz='UTC'),\n",
       " Timestamp('2018-03-28 00:00:00+0000', tz='UTC'),\n",
       " Timestamp('2018-03-29 00:00:00+0000', tz='UTC'),\n",
       " Timestamp('2018-04-02 00:00:00+0000', tz='UTC'),\n",
       " Timestamp('2018-04-03 00:00:00+0000', tz='UTC'),\n",
       " Timestamp('2018-04-04 00:00:00+0000', tz='UTC'),\n",
       " Timestamp('2018-04-05 00:00:00+0000', tz='UTC'),\n",
       " Timestamp('2018-04-06 00:00:00+0000', tz='UTC'),\n",
       " Timestamp('2018-04-09 00:00:00+0000', tz='UTC'),\n",
       " Timestamp('2018-04-10 00:00:00+0000', tz='UTC'),\n",
       " Timestamp('2018-04-11 00:00:00+0000', tz='UTC'),\n",
       " Timestamp('2018-04-12 00:00:00+0000', tz='UTC'),\n",
       " Timestamp('2018-04-13 00:00:00+0000', tz='UTC'),\n",
       " Timestamp('2018-04-16 00:00:00+0000', tz='UTC'),\n",
       " Timestamp('2018-04-17 00:00:00+0000', tz='UTC'),\n",
       " Timestamp('2018-04-18 00:00:00+0000', tz='UTC'),\n",
       " Timestamp('2018-04-19 00:00:00+0000', tz='UTC'),\n",
       " Timestamp('2018-04-20 00:00:00+0000', tz='UTC'),\n",
       " Timestamp('2018-04-23 00:00:00+0000', tz='UTC'),\n",
       " Timestamp('2018-04-24 00:00:00+0000', tz='UTC'),\n",
       " Timestamp('2018-04-25 00:00:00+0000', tz='UTC'),\n",
       " Timestamp('2018-04-26 00:00:00+0000', tz='UTC'),\n",
       " Timestamp('2018-04-27 00:00:00+0000', tz='UTC'),\n",
       " Timestamp('2018-04-30 00:00:00+0000', tz='UTC'),\n",
       " Timestamp('2018-05-01 00:00:00+0000', tz='UTC'),\n",
       " Timestamp('2018-05-02 00:00:00+0000', tz='UTC'),\n",
       " Timestamp('2018-05-03 00:00:00+0000', tz='UTC'),\n",
       " Timestamp('2018-05-04 00:00:00+0000', tz='UTC'),\n",
       " Timestamp('2018-05-07 00:00:00+0000', tz='UTC'),\n",
       " Timestamp('2018-05-08 00:00:00+0000', tz='UTC'),\n",
       " Timestamp('2018-05-09 00:00:00+0000', tz='UTC'),\n",
       " Timestamp('2018-05-10 00:00:00+0000', tz='UTC'),\n",
       " Timestamp('2018-05-11 00:00:00+0000', tz='UTC'),\n",
       " Timestamp('2018-05-14 00:00:00+0000', tz='UTC'),\n",
       " Timestamp('2018-05-15 00:00:00+0000', tz='UTC'),\n",
       " Timestamp('2018-05-16 00:00:00+0000', tz='UTC'),\n",
       " Timestamp('2018-05-17 00:00:00+0000', tz='UTC'),\n",
       " Timestamp('2018-05-18 00:00:00+0000', tz='UTC'),\n",
       " Timestamp('2018-05-21 00:00:00+0000', tz='UTC'),\n",
       " Timestamp('2018-05-22 00:00:00+0000', tz='UTC'),\n",
       " Timestamp('2018-05-23 00:00:00+0000', tz='UTC'),\n",
       " Timestamp('2018-05-24 00:00:00+0000', tz='UTC'),\n",
       " Timestamp('2018-05-25 00:00:00+0000', tz='UTC'),\n",
       " Timestamp('2018-05-29 00:00:00+0000', tz='UTC'),\n",
       " Timestamp('2018-05-30 00:00:00+0000', tz='UTC'),\n",
       " Timestamp('2018-05-31 00:00:00+0000', tz='UTC'),\n",
       " Timestamp('2018-06-01 00:00:00+0000', tz='UTC'),\n",
       " Timestamp('2018-06-04 00:00:00+0000', tz='UTC'),\n",
       " Timestamp('2018-06-05 00:00:00+0000', tz='UTC'),\n",
       " Timestamp('2018-06-06 00:00:00+0000', tz='UTC'),\n",
       " Timestamp('2018-06-07 00:00:00+0000', tz='UTC'),\n",
       " Timestamp('2018-06-08 00:00:00+0000', tz='UTC'),\n",
       " Timestamp('2018-06-11 00:00:00+0000', tz='UTC'),\n",
       " Timestamp('2018-06-12 00:00:00+0000', tz='UTC'),\n",
       " Timestamp('2018-06-13 00:00:00+0000', tz='UTC'),\n",
       " Timestamp('2018-06-14 00:00:00+0000', tz='UTC'),\n",
       " Timestamp('2018-06-15 00:00:00+0000', tz='UTC'),\n",
       " Timestamp('2018-06-18 00:00:00+0000', tz='UTC'),\n",
       " Timestamp('2018-06-19 00:00:00+0000', tz='UTC'),\n",
       " Timestamp('2018-06-20 00:00:00+0000', tz='UTC'),\n",
       " Timestamp('2018-06-21 00:00:00+0000', tz='UTC'),\n",
       " Timestamp('2018-06-22 00:00:00+0000', tz='UTC'),\n",
       " Timestamp('2018-06-25 00:00:00+0000', tz='UTC'),\n",
       " Timestamp('2018-06-26 00:00:00+0000', tz='UTC'),\n",
       " Timestamp('2018-06-27 00:00:00+0000', tz='UTC'),\n",
       " Timestamp('2018-06-28 00:00:00+0000', tz='UTC'),\n",
       " Timestamp('2018-06-29 00:00:00+0000', tz='UTC'),\n",
       " Timestamp('2018-07-02 00:00:00+0000', tz='UTC'),\n",
       " Timestamp('2018-07-03 00:00:00+0000', tz='UTC'),\n",
       " Timestamp('2018-07-05 00:00:00+0000', tz='UTC'),\n",
       " Timestamp('2018-07-06 00:00:00+0000', tz='UTC'),\n",
       " Timestamp('2018-07-09 00:00:00+0000', tz='UTC'),\n",
       " Timestamp('2018-07-10 00:00:00+0000', tz='UTC'),\n",
       " Timestamp('2018-07-11 00:00:00+0000', tz='UTC'),\n",
       " Timestamp('2018-07-12 00:00:00+0000', tz='UTC'),\n",
       " Timestamp('2018-07-13 00:00:00+0000', tz='UTC'),\n",
       " Timestamp('2018-07-16 00:00:00+0000', tz='UTC'),\n",
       " Timestamp('2018-07-17 00:00:00+0000', tz='UTC'),\n",
       " Timestamp('2018-07-18 00:00:00+0000', tz='UTC'),\n",
       " Timestamp('2018-07-19 00:00:00+0000', tz='UTC'),\n",
       " Timestamp('2018-07-20 00:00:00+0000', tz='UTC'),\n",
       " Timestamp('2018-07-23 00:00:00+0000', tz='UTC'),\n",
       " Timestamp('2018-07-24 00:00:00+0000', tz='UTC'),\n",
       " Timestamp('2018-07-25 00:00:00+0000', tz='UTC'),\n",
       " Timestamp('2018-07-26 00:00:00+0000', tz='UTC'),\n",
       " Timestamp('2018-07-27 00:00:00+0000', tz='UTC'),\n",
       " Timestamp('2018-07-30 00:00:00+0000', tz='UTC'),\n",
       " Timestamp('2018-07-31 00:00:00+0000', tz='UTC'),\n",
       " Timestamp('2018-08-01 00:00:00+0000', tz='UTC'),\n",
       " Timestamp('2018-08-02 00:00:00+0000', tz='UTC'),\n",
       " Timestamp('2018-08-03 00:00:00+0000', tz='UTC'),\n",
       " Timestamp('2018-08-06 00:00:00+0000', tz='UTC'),\n",
       " Timestamp('2018-08-07 00:00:00+0000', tz='UTC'),\n",
       " Timestamp('2018-08-08 00:00:00+0000', tz='UTC'),\n",
       " Timestamp('2018-08-09 00:00:00+0000', tz='UTC'),\n",
       " Timestamp('2018-08-10 00:00:00+0000', tz='UTC'),\n",
       " Timestamp('2018-08-13 00:00:00+0000', tz='UTC'),\n",
       " Timestamp('2018-08-14 00:00:00+0000', tz='UTC'),\n",
       " Timestamp('2018-08-15 00:00:00+0000', tz='UTC'),\n",
       " Timestamp('2018-08-16 00:00:00+0000', tz='UTC'),\n",
       " Timestamp('2018-08-17 00:00:00+0000', tz='UTC'),\n",
       " Timestamp('2018-08-20 00:00:00+0000', tz='UTC'),\n",
       " Timestamp('2018-08-21 00:00:00+0000', tz='UTC'),\n",
       " Timestamp('2018-08-22 00:00:00+0000', tz='UTC'),\n",
       " Timestamp('2018-08-23 00:00:00+0000', tz='UTC'),\n",
       " Timestamp('2018-08-24 00:00:00+0000', tz='UTC'),\n",
       " Timestamp('2018-08-27 00:00:00+0000', tz='UTC'),\n",
       " Timestamp('2018-08-28 00:00:00+0000', tz='UTC'),\n",
       " Timestamp('2018-08-29 00:00:00+0000', tz='UTC'),\n",
       " Timestamp('2018-08-30 00:00:00+0000', tz='UTC'),\n",
       " Timestamp('2018-08-31 00:00:00+0000', tz='UTC'),\n",
       " Timestamp('2018-09-04 00:00:00+0000', tz='UTC'),\n",
       " Timestamp('2018-09-05 00:00:00+0000', tz='UTC'),\n",
       " Timestamp('2018-09-06 00:00:00+0000', tz='UTC'),\n",
       " Timestamp('2018-09-07 00:00:00+0000', tz='UTC'),\n",
       " Timestamp('2018-09-10 00:00:00+0000', tz='UTC'),\n",
       " Timestamp('2018-09-11 00:00:00+0000', tz='UTC'),\n",
       " Timestamp('2018-09-12 00:00:00+0000', tz='UTC'),\n",
       " Timestamp('2018-09-13 00:00:00+0000', tz='UTC'),\n",
       " Timestamp('2018-09-14 00:00:00+0000', tz='UTC'),\n",
       " Timestamp('2018-09-17 00:00:00+0000', tz='UTC'),\n",
       " Timestamp('2018-09-18 00:00:00+0000', tz='UTC'),\n",
       " Timestamp('2018-09-19 00:00:00+0000', tz='UTC'),\n",
       " Timestamp('2018-09-20 00:00:00+0000', tz='UTC'),\n",
       " Timestamp('2018-09-21 00:00:00+0000', tz='UTC'),\n",
       " Timestamp('2018-09-24 00:00:00+0000', tz='UTC'),\n",
       " Timestamp('2018-09-25 00:00:00+0000', tz='UTC'),\n",
       " Timestamp('2018-09-26 00:00:00+0000', tz='UTC'),\n",
       " Timestamp('2018-09-27 00:00:00+0000', tz='UTC'),\n",
       " Timestamp('2018-09-28 00:00:00+0000', tz='UTC'),\n",
       " Timestamp('2018-10-01 00:00:00+0000', tz='UTC'),\n",
       " Timestamp('2018-10-02 00:00:00+0000', tz='UTC'),\n",
       " Timestamp('2018-10-03 00:00:00+0000', tz='UTC'),\n",
       " Timestamp('2018-10-04 00:00:00+0000', tz='UTC'),\n",
       " Timestamp('2018-10-05 00:00:00+0000', tz='UTC'),\n",
       " Timestamp('2018-10-08 00:00:00+0000', tz='UTC'),\n",
       " Timestamp('2018-10-09 00:00:00+0000', tz='UTC'),\n",
       " Timestamp('2018-10-10 00:00:00+0000', tz='UTC'),\n",
       " Timestamp('2018-10-11 00:00:00+0000', tz='UTC'),\n",
       " Timestamp('2018-10-12 00:00:00+0000', tz='UTC'),\n",
       " Timestamp('2018-10-15 00:00:00+0000', tz='UTC'),\n",
       " Timestamp('2018-10-16 00:00:00+0000', tz='UTC'),\n",
       " Timestamp('2018-10-17 00:00:00+0000', tz='UTC'),\n",
       " Timestamp('2018-10-18 00:00:00+0000', tz='UTC'),\n",
       " Timestamp('2018-10-19 00:00:00+0000', tz='UTC'),\n",
       " Timestamp('2018-10-22 00:00:00+0000', tz='UTC'),\n",
       " Timestamp('2018-10-23 00:00:00+0000', tz='UTC'),\n",
       " Timestamp('2018-10-24 00:00:00+0000', tz='UTC'),\n",
       " Timestamp('2018-10-25 00:00:00+0000', tz='UTC'),\n",
       " Timestamp('2018-10-26 00:00:00+0000', tz='UTC'),\n",
       " Timestamp('2018-10-29 00:00:00+0000', tz='UTC'),\n",
       " Timestamp('2018-10-30 00:00:00+0000', tz='UTC'),\n",
       " Timestamp('2018-10-31 00:00:00+0000', tz='UTC'),\n",
       " Timestamp('2018-11-01 00:00:00+0000', tz='UTC'),\n",
       " Timestamp('2018-11-02 00:00:00+0000', tz='UTC'),\n",
       " Timestamp('2018-11-05 00:00:00+0000', tz='UTC'),\n",
       " Timestamp('2018-11-06 00:00:00+0000', tz='UTC'),\n",
       " Timestamp('2018-11-07 00:00:00+0000', tz='UTC'),\n",
       " Timestamp('2018-11-08 00:00:00+0000', tz='UTC'),\n",
       " Timestamp('2018-11-09 00:00:00+0000', tz='UTC'),\n",
       " Timestamp('2018-11-12 00:00:00+0000', tz='UTC'),\n",
       " Timestamp('2018-11-13 00:00:00+0000', tz='UTC'),\n",
       " Timestamp('2018-11-14 00:00:00+0000', tz='UTC'),\n",
       " Timestamp('2018-11-15 00:00:00+0000', tz='UTC'),\n",
       " Timestamp('2018-11-16 00:00:00+0000', tz='UTC'),\n",
       " Timestamp('2018-11-19 00:00:00+0000', tz='UTC'),\n",
       " Timestamp('2018-11-20 00:00:00+0000', tz='UTC'),\n",
       " Timestamp('2018-11-21 00:00:00+0000', tz='UTC'),\n",
       " Timestamp('2018-11-23 00:00:00+0000', tz='UTC'),\n",
       " Timestamp('2018-11-26 00:00:00+0000', tz='UTC'),\n",
       " Timestamp('2018-11-27 00:00:00+0000', tz='UTC'),\n",
       " Timestamp('2018-11-28 00:00:00+0000', tz='UTC'),\n",
       " Timestamp('2018-11-29 00:00:00+0000', tz='UTC'),\n",
       " Timestamp('2018-11-30 00:00:00+0000', tz='UTC'),\n",
       " Timestamp('2018-12-03 00:00:00+0000', tz='UTC'),\n",
       " Timestamp('2018-12-04 00:00:00+0000', tz='UTC'),\n",
       " Timestamp('2018-12-06 00:00:00+0000', tz='UTC'),\n",
       " Timestamp('2018-12-07 00:00:00+0000', tz='UTC'),\n",
       " Timestamp('2018-12-10 00:00:00+0000', tz='UTC'),\n",
       " Timestamp('2018-12-11 00:00:00+0000', tz='UTC'),\n",
       " Timestamp('2018-12-12 00:00:00+0000', tz='UTC'),\n",
       " Timestamp('2018-12-13 00:00:00+0000', tz='UTC'),\n",
       " Timestamp('2018-12-14 00:00:00+0000', tz='UTC'),\n",
       " Timestamp('2018-12-17 00:00:00+0000', tz='UTC'),\n",
       " Timestamp('2018-12-18 00:00:00+0000', tz='UTC'),\n",
       " Timestamp('2018-12-19 00:00:00+0000', tz='UTC'),\n",
       " Timestamp('2018-12-20 00:00:00+0000', tz='UTC'),\n",
       " Timestamp('2018-12-21 00:00:00+0000', tz='UTC'),\n",
       " Timestamp('2018-12-24 00:00:00+0000', tz='UTC'),\n",
       " Timestamp('2018-12-26 00:00:00+0000', tz='UTC'),\n",
       " Timestamp('2018-12-27 00:00:00+0000', tz='UTC'),\n",
       " Timestamp('2018-12-28 00:00:00+0000', tz='UTC'),\n",
       " Timestamp('2018-12-31 00:00:00+0000', tz='UTC'),\n",
       " Timestamp('2019-01-02 00:00:00+0000', tz='UTC'),\n",
       " Timestamp('2019-01-03 00:00:00+0000', tz='UTC'),\n",
       " Timestamp('2019-01-04 00:00:00+0000', tz='UTC'),\n",
       " Timestamp('2019-01-07 00:00:00+0000', tz='UTC'),\n",
       " Timestamp('2019-01-08 00:00:00+0000', tz='UTC'),\n",
       " Timestamp('2019-01-09 00:00:00+0000', tz='UTC'),\n",
       " Timestamp('2019-01-10 00:00:00+0000', tz='UTC'),\n",
       " Timestamp('2019-01-11 00:00:00+0000', tz='UTC'),\n",
       " Timestamp('2019-01-14 00:00:00+0000', tz='UTC'),\n",
       " Timestamp('2019-01-15 00:00:00+0000', tz='UTC'),\n",
       " Timestamp('2019-01-16 00:00:00+0000', tz='UTC'),\n",
       " Timestamp('2019-01-17 00:00:00+0000', tz='UTC'),\n",
       " Timestamp('2019-01-18 00:00:00+0000', tz='UTC'),\n",
       " Timestamp('2019-01-22 00:00:00+0000', tz='UTC'),\n",
       " Timestamp('2019-01-23 00:00:00+0000', tz='UTC'),\n",
       " Timestamp('2019-01-24 00:00:00+0000', tz='UTC'),\n",
       " Timestamp('2019-01-25 00:00:00+0000', tz='UTC'),\n",
       " Timestamp('2019-01-28 00:00:00+0000', tz='UTC'),\n",
       " Timestamp('2019-01-29 00:00:00+0000', tz='UTC'),\n",
       " Timestamp('2019-01-30 00:00:00+0000', tz='UTC'),\n",
       " Timestamp('2019-01-31 00:00:00+0000', tz='UTC'),\n",
       " Timestamp('2019-02-01 00:00:00+0000', tz='UTC'),\n",
       " Timestamp('2019-02-04 00:00:00+0000', tz='UTC'),\n",
       " Timestamp('2019-02-05 00:00:00+0000', tz='UTC'),\n",
       " Timestamp('2019-02-06 00:00:00+0000', tz='UTC'),\n",
       " Timestamp('2019-02-07 00:00:00+0000', tz='UTC'),\n",
       " Timestamp('2019-02-08 00:00:00+0000', tz='UTC'),\n",
       " Timestamp('2019-02-11 00:00:00+0000', tz='UTC'),\n",
       " Timestamp('2019-02-12 00:00:00+0000', tz='UTC'),\n",
       " Timestamp('2019-02-13 00:00:00+0000', tz='UTC'),\n",
       " Timestamp('2019-02-14 00:00:00+0000', tz='UTC'),\n",
       " Timestamp('2019-02-15 00:00:00+0000', tz='UTC'),\n",
       " Timestamp('2019-02-19 00:00:00+0000', tz='UTC'),\n",
       " Timestamp('2019-02-20 00:00:00+0000', tz='UTC'),\n",
       " Timestamp('2019-02-21 00:00:00+0000', tz='UTC'),\n",
       " Timestamp('2019-02-22 00:00:00+0000', tz='UTC'),\n",
       " Timestamp('2019-02-25 00:00:00+0000', tz='UTC'),\n",
       " Timestamp('2019-02-26 00:00:00+0000', tz='UTC'),\n",
       " Timestamp('2019-02-27 00:00:00+0000', tz='UTC'),\n",
       " Timestamp('2019-02-28 00:00:00+0000', tz='UTC'),\n",
       " Timestamp('2019-03-01 00:00:00+0000', tz='UTC'),\n",
       " Timestamp('2019-03-04 00:00:00+0000', tz='UTC'),\n",
       " Timestamp('2019-03-05 00:00:00+0000', tz='UTC'),\n",
       " Timestamp('2019-03-06 00:00:00+0000', tz='UTC'),\n",
       " Timestamp('2019-03-07 00:00:00+0000', tz='UTC'),\n",
       " Timestamp('2019-03-08 00:00:00+0000', tz='UTC'),\n",
       " Timestamp('2019-03-11 00:00:00+0000', tz='UTC'),\n",
       " Timestamp('2019-03-12 00:00:00+0000', tz='UTC'),\n",
       " Timestamp('2019-03-13 00:00:00+0000', tz='UTC'),\n",
       " Timestamp('2019-03-14 00:00:00+0000', tz='UTC'),\n",
       " Timestamp('2019-03-15 00:00:00+0000', tz='UTC'),\n",
       " Timestamp('2019-03-18 00:00:00+0000', tz='UTC'),\n",
       " Timestamp('2019-03-19 00:00:00+0000', tz='UTC'),\n",
       " Timestamp('2019-03-20 00:00:00+0000', tz='UTC'),\n",
       " Timestamp('2019-03-21 00:00:00+0000', tz='UTC'),\n",
       " Timestamp('2019-03-22 00:00:00+0000', tz='UTC'),\n",
       " Timestamp('2019-03-25 00:00:00+0000', tz='UTC'),\n",
       " Timestamp('2019-03-26 00:00:00+0000', tz='UTC'),\n",
       " Timestamp('2019-03-27 00:00:00+0000', tz='UTC'),\n",
       " Timestamp('2019-03-28 00:00:00+0000', tz='UTC'),\n",
       " Timestamp('2019-03-29 00:00:00+0000', tz='UTC'),\n",
       " Timestamp('2019-04-01 00:00:00+0000', tz='UTC'),\n",
       " Timestamp('2019-04-02 00:00:00+0000', tz='UTC'),\n",
       " Timestamp('2019-04-03 00:00:00+0000', tz='UTC'),\n",
       " Timestamp('2019-04-04 00:00:00+0000', tz='UTC'),\n",
       " Timestamp('2019-04-05 00:00:00+0000', tz='UTC'),\n",
       " Timestamp('2019-04-08 00:00:00+0000', tz='UTC'),\n",
       " Timestamp('2019-04-09 00:00:00+0000', tz='UTC'),\n",
       " Timestamp('2019-04-10 00:00:00+0000', tz='UTC'),\n",
       " Timestamp('2019-04-11 00:00:00+0000', tz='UTC'),\n",
       " Timestamp('2019-04-12 00:00:00+0000', tz='UTC'),\n",
       " Timestamp('2019-04-15 00:00:00+0000', tz='UTC'),\n",
       " Timestamp('2019-04-16 00:00:00+0000', tz='UTC'),\n",
       " Timestamp('2019-04-17 00:00:00+0000', tz='UTC'),\n",
       " Timestamp('2019-04-18 00:00:00+0000', tz='UTC'),\n",
       " Timestamp('2019-04-22 00:00:00+0000', tz='UTC'),\n",
       " Timestamp('2019-04-23 00:00:00+0000', tz='UTC'),\n",
       " Timestamp('2019-04-24 00:00:00+0000', tz='UTC'),\n",
       " Timestamp('2019-04-25 00:00:00+0000', tz='UTC'),\n",
       " Timestamp('2019-04-26 00:00:00+0000', tz='UTC'),\n",
       " Timestamp('2019-04-29 00:00:00+0000', tz='UTC'),\n",
       " Timestamp('2019-04-30 00:00:00+0000', tz='UTC'),\n",
       " Timestamp('2019-05-01 00:00:00+0000', tz='UTC'),\n",
       " Timestamp('2019-05-02 00:00:00+0000', tz='UTC'),\n",
       " Timestamp('2019-05-03 00:00:00+0000', tz='UTC'),\n",
       " Timestamp('2019-05-06 00:00:00+0000', tz='UTC'),\n",
       " Timestamp('2019-05-07 00:00:00+0000', tz='UTC'),\n",
       " Timestamp('2019-05-08 00:00:00+0000', tz='UTC'),\n",
       " Timestamp('2019-05-09 00:00:00+0000', tz='UTC'),\n",
       " Timestamp('2019-05-10 00:00:00+0000', tz='UTC'),\n",
       " Timestamp('2019-05-13 00:00:00+0000', tz='UTC'),\n",
       " Timestamp('2019-05-14 00:00:00+0000', tz='UTC'),\n",
       " Timestamp('2019-05-15 00:00:00+0000', tz='UTC'),\n",
       " Timestamp('2019-05-16 00:00:00+0000', tz='UTC'),\n",
       " Timestamp('2019-05-17 00:00:00+0000', tz='UTC'),\n",
       " Timestamp('2019-05-20 00:00:00+0000', tz='UTC'),\n",
       " Timestamp('2019-05-21 00:00:00+0000', tz='UTC'),\n",
       " Timestamp('2019-05-22 00:00:00+0000', tz='UTC'),\n",
       " Timestamp('2019-05-23 00:00:00+0000', tz='UTC'),\n",
       " Timestamp('2019-05-24 00:00:00+0000', tz='UTC'),\n",
       " Timestamp('2019-05-28 00:00:00+0000', tz='UTC'),\n",
       " Timestamp('2019-05-29 00:00:00+0000', tz='UTC'),\n",
       " Timestamp('2019-05-30 00:00:00+0000', tz='UTC'),\n",
       " Timestamp('2019-05-31 00:00:00+0000', tz='UTC'),\n",
       " Timestamp('2019-06-03 00:00:00+0000', tz='UTC'),\n",
       " Timestamp('2019-06-04 00:00:00+0000', tz='UTC'),\n",
       " Timestamp('2019-06-05 00:00:00+0000', tz='UTC'),\n",
       " Timestamp('2019-06-06 00:00:00+0000', tz='UTC'),\n",
       " Timestamp('2019-06-07 00:00:00+0000', tz='UTC'),\n",
       " Timestamp('2019-06-10 00:00:00+0000', tz='UTC'),\n",
       " Timestamp('2019-06-11 00:00:00+0000', tz='UTC'),\n",
       " Timestamp('2019-06-12 00:00:00+0000', tz='UTC'),\n",
       " Timestamp('2019-06-13 00:00:00+0000', tz='UTC'),\n",
       " Timestamp('2019-06-14 00:00:00+0000', tz='UTC'),\n",
       " Timestamp('2019-06-17 00:00:00+0000', tz='UTC'),\n",
       " Timestamp('2019-06-18 00:00:00+0000', tz='UTC'),\n",
       " Timestamp('2019-06-19 00:00:00+0000', tz='UTC'),\n",
       " Timestamp('2019-06-20 00:00:00+0000', tz='UTC'),\n",
       " Timestamp('2019-06-21 00:00:00+0000', tz='UTC'),\n",
       " Timestamp('2019-06-24 00:00:00+0000', tz='UTC'),\n",
       " Timestamp('2019-06-25 00:00:00+0000', tz='UTC'),\n",
       " Timestamp('2019-06-26 00:00:00+0000', tz='UTC'),\n",
       " Timestamp('2019-06-27 00:00:00+0000', tz='UTC'),\n",
       " Timestamp('2019-06-28 00:00:00+0000', tz='UTC'),\n",
       " Timestamp('2019-07-01 00:00:00+0000', tz='UTC'),\n",
       " Timestamp('2019-07-02 00:00:00+0000', tz='UTC'),\n",
       " Timestamp('2019-07-03 00:00:00+0000', tz='UTC'),\n",
       " Timestamp('2019-07-05 00:00:00+0000', tz='UTC'),\n",
       " Timestamp('2019-07-08 00:00:00+0000', tz='UTC'),\n",
       " Timestamp('2019-07-09 00:00:00+0000', tz='UTC'),\n",
       " Timestamp('2019-07-10 00:00:00+0000', tz='UTC'),\n",
       " Timestamp('2019-07-11 00:00:00+0000', tz='UTC'),\n",
       " Timestamp('2019-07-12 00:00:00+0000', tz='UTC'),\n",
       " Timestamp('2019-07-15 00:00:00+0000', tz='UTC'),\n",
       " Timestamp('2019-07-16 00:00:00+0000', tz='UTC'),\n",
       " Timestamp('2019-07-17 00:00:00+0000', tz='UTC'),\n",
       " Timestamp('2019-07-18 00:00:00+0000', tz='UTC'),\n",
       " Timestamp('2019-07-19 00:00:00+0000', tz='UTC'),\n",
       " Timestamp('2019-07-22 00:00:00+0000', tz='UTC'),\n",
       " Timestamp('2019-07-23 00:00:00+0000', tz='UTC'),\n",
       " Timestamp('2019-07-24 00:00:00+0000', tz='UTC'),\n",
       " Timestamp('2019-07-25 00:00:00+0000', tz='UTC'),\n",
       " Timestamp('2019-07-26 00:00:00+0000', tz='UTC'),\n",
       " Timestamp('2019-07-29 00:00:00+0000', tz='UTC'),\n",
       " Timestamp('2019-07-30 00:00:00+0000', tz='UTC'),\n",
       " Timestamp('2019-07-31 00:00:00+0000', tz='UTC'),\n",
       " Timestamp('2019-08-01 00:00:00+0000', tz='UTC'),\n",
       " Timestamp('2019-08-02 00:00:00+0000', tz='UTC'),\n",
       " Timestamp('2019-08-05 00:00:00+0000', tz='UTC'),\n",
       " Timestamp('2019-08-06 00:00:00+0000', tz='UTC'),\n",
       " Timestamp('2019-08-07 00:00:00+0000', tz='UTC'),\n",
       " Timestamp('2019-08-08 00:00:00+0000', tz='UTC'),\n",
       " Timestamp('2019-08-09 00:00:00+0000', tz='UTC'),\n",
       " Timestamp('2019-08-12 00:00:00+0000', tz='UTC'),\n",
       " Timestamp('2019-08-13 00:00:00+0000', tz='UTC'),\n",
       " Timestamp('2019-08-14 00:00:00+0000', tz='UTC'),\n",
       " Timestamp('2019-08-15 00:00:00+0000', tz='UTC'),\n",
       " Timestamp('2019-08-16 00:00:00+0000', tz='UTC'),\n",
       " Timestamp('2019-08-19 00:00:00+0000', tz='UTC'),\n",
       " Timestamp('2019-08-20 00:00:00+0000', tz='UTC'),\n",
       " Timestamp('2019-08-21 00:00:00+0000', tz='UTC'),\n",
       " Timestamp('2019-08-22 00:00:00+0000', tz='UTC'),\n",
       " Timestamp('2019-08-23 00:00:00+0000', tz='UTC'),\n",
       " Timestamp('2019-08-26 00:00:00+0000', tz='UTC'),\n",
       " Timestamp('2019-08-27 00:00:00+0000', tz='UTC'),\n",
       " Timestamp('2019-08-28 00:00:00+0000', tz='UTC'),\n",
       " Timestamp('2019-08-29 00:00:00+0000', tz='UTC'),\n",
       " Timestamp('2019-08-30 00:00:00+0000', tz='UTC'),\n",
       " Timestamp('2019-09-03 00:00:00+0000', tz='UTC'),\n",
       " Timestamp('2019-09-04 00:00:00+0000', tz='UTC'),\n",
       " Timestamp('2019-09-05 00:00:00+0000', tz='UTC'),\n",
       " Timestamp('2019-09-06 00:00:00+0000', tz='UTC'),\n",
       " Timestamp('2019-09-09 00:00:00+0000', tz='UTC'),\n",
       " Timestamp('2019-09-10 00:00:00+0000', tz='UTC'),\n",
       " Timestamp('2019-09-11 00:00:00+0000', tz='UTC'),\n",
       " Timestamp('2019-09-12 00:00:00+0000', tz='UTC'),\n",
       " Timestamp('2019-09-13 00:00:00+0000', tz='UTC'),\n",
       " Timestamp('2019-09-16 00:00:00+0000', tz='UTC'),\n",
       " Timestamp('2019-09-17 00:00:00+0000', tz='UTC'),\n",
       " Timestamp('2019-09-18 00:00:00+0000', tz='UTC'),\n",
       " Timestamp('2019-09-19 00:00:00+0000', tz='UTC'),\n",
       " Timestamp('2019-09-20 00:00:00+0000', tz='UTC'),\n",
       " Timestamp('2019-09-23 00:00:00+0000', tz='UTC'),\n",
       " Timestamp('2019-09-24 00:00:00+0000', tz='UTC'),\n",
       " Timestamp('2019-09-25 00:00:00+0000', tz='UTC'),\n",
       " Timestamp('2019-09-26 00:00:00+0000', tz='UTC'),\n",
       " Timestamp('2019-09-27 00:00:00+0000', tz='UTC'),\n",
       " Timestamp('2019-09-30 00:00:00+0000', tz='UTC'),\n",
       " Timestamp('2019-10-01 00:00:00+0000', tz='UTC'),\n",
       " Timestamp('2019-10-02 00:00:00+0000', tz='UTC'),\n",
       " Timestamp('2019-10-03 00:00:00+0000', tz='UTC'),\n",
       " Timestamp('2019-10-04 00:00:00+0000', tz='UTC'),\n",
       " Timestamp('2019-10-07 00:00:00+0000', tz='UTC'),\n",
       " Timestamp('2019-10-08 00:00:00+0000', tz='UTC'),\n",
       " Timestamp('2019-10-09 00:00:00+0000', tz='UTC'),\n",
       " Timestamp('2019-10-10 00:00:00+0000', tz='UTC'),\n",
       " Timestamp('2019-10-11 00:00:00+0000', tz='UTC'),\n",
       " Timestamp('2019-10-14 00:00:00+0000', tz='UTC'),\n",
       " Timestamp('2019-10-15 00:00:00+0000', tz='UTC'),\n",
       " Timestamp('2019-10-16 00:00:00+0000', tz='UTC'),\n",
       " Timestamp('2019-10-17 00:00:00+0000', tz='UTC'),\n",
       " Timestamp('2019-10-18 00:00:00+0000', tz='UTC'),\n",
       " Timestamp('2019-10-21 00:00:00+0000', tz='UTC'),\n",
       " Timestamp('2019-10-22 00:00:00+0000', tz='UTC'),\n",
       " Timestamp('2019-10-23 00:00:00+0000', tz='UTC'),\n",
       " Timestamp('2019-10-24 00:00:00+0000', tz='UTC'),\n",
       " Timestamp('2019-10-25 00:00:00+0000', tz='UTC'),\n",
       " Timestamp('2019-10-28 00:00:00+0000', tz='UTC'),\n",
       " Timestamp('2019-10-29 00:00:00+0000', tz='UTC'),\n",
       " Timestamp('2019-10-30 00:00:00+0000', tz='UTC'),\n",
       " Timestamp('2019-10-31 00:00:00+0000', tz='UTC'),\n",
       " Timestamp('2019-11-01 00:00:00+0000', tz='UTC'),\n",
       " Timestamp('2019-11-04 00:00:00+0000', tz='UTC'),\n",
       " Timestamp('2019-11-05 00:00:00+0000', tz='UTC'),\n",
       " Timestamp('2019-11-06 00:00:00+0000', tz='UTC'),\n",
       " Timestamp('2019-11-07 00:00:00+0000', tz='UTC'),\n",
       " Timestamp('2019-11-08 00:00:00+0000', tz='UTC'),\n",
       " Timestamp('2019-11-11 00:00:00+0000', tz='UTC'),\n",
       " Timestamp('2019-11-12 00:00:00+0000', tz='UTC'),\n",
       " Timestamp('2019-11-13 00:00:00+0000', tz='UTC'),\n",
       " Timestamp('2019-11-14 00:00:00+0000', tz='UTC'),\n",
       " Timestamp('2019-11-15 00:00:00+0000', tz='UTC'),\n",
       " Timestamp('2019-11-18 00:00:00+0000', tz='UTC'),\n",
       " Timestamp('2019-11-19 00:00:00+0000', tz='UTC'),\n",
       " Timestamp('2019-11-20 00:00:00+0000', tz='UTC'),\n",
       " Timestamp('2019-11-21 00:00:00+0000', tz='UTC'),\n",
       " Timestamp('2019-11-22 00:00:00+0000', tz='UTC'),\n",
       " Timestamp('2019-11-25 00:00:00+0000', tz='UTC'),\n",
       " Timestamp('2019-11-26 00:00:00+0000', tz='UTC'),\n",
       " Timestamp('2019-11-27 00:00:00+0000', tz='UTC'),\n",
       " Timestamp('2019-11-29 00:00:00+0000', tz='UTC'),\n",
       " Timestamp('2019-12-02 00:00:00+0000', tz='UTC'),\n",
       " Timestamp('2019-12-03 00:00:00+0000', tz='UTC'),\n",
       " Timestamp('2019-12-04 00:00:00+0000', tz='UTC'),\n",
       " Timestamp('2019-12-05 00:00:00+0000', tz='UTC'),\n",
       " Timestamp('2019-12-06 00:00:00+0000', tz='UTC'),\n",
       " Timestamp('2019-12-09 00:00:00+0000', tz='UTC'),\n",
       " Timestamp('2019-12-10 00:00:00+0000', tz='UTC'),\n",
       " Timestamp('2019-12-11 00:00:00+0000', tz='UTC'),\n",
       " Timestamp('2019-12-12 00:00:00+0000', tz='UTC'),\n",
       " Timestamp('2019-12-13 00:00:00+0000', tz='UTC'),\n",
       " Timestamp('2019-12-16 00:00:00+0000', tz='UTC'),\n",
       " Timestamp('2019-12-17 00:00:00+0000', tz='UTC'),\n",
       " Timestamp('2019-12-18 00:00:00+0000', tz='UTC'),\n",
       " Timestamp('2019-12-19 00:00:00+0000', tz='UTC'),\n",
       " Timestamp('2019-12-20 00:00:00+0000', tz='UTC'),\n",
       " Timestamp('2019-12-23 00:00:00+0000', tz='UTC'),\n",
       " Timestamp('2019-12-24 00:00:00+0000', tz='UTC'),\n",
       " Timestamp('2019-12-26 00:00:00+0000', tz='UTC'),\n",
       " Timestamp('2019-12-27 00:00:00+0000', tz='UTC'),\n",
       " Timestamp('2019-12-30 00:00:00+0000', tz='UTC'),\n",
       " Timestamp('2019-12-31 00:00:00+0000', tz='UTC'),\n",
       " Timestamp('2020-01-02 00:00:00+0000', tz='UTC'),\n",
       " Timestamp('2020-01-03 00:00:00+0000', tz='UTC'),\n",
       " Timestamp('2020-01-06 00:00:00+0000', tz='UTC'),\n",
       " Timestamp('2020-01-07 00:00:00+0000', tz='UTC'),\n",
       " Timestamp('2020-01-08 00:00:00+0000', tz='UTC'),\n",
       " Timestamp('2020-01-09 00:00:00+0000', tz='UTC'),\n",
       " Timestamp('2020-01-10 00:00:00+0000', tz='UTC'),\n",
       " Timestamp('2020-01-13 00:00:00+0000', tz='UTC'),\n",
       " Timestamp('2020-01-14 00:00:00+0000', tz='UTC'),\n",
       " Timestamp('2020-01-15 00:00:00+0000', tz='UTC'),\n",
       " Timestamp('2020-01-16 00:00:00+0000', tz='UTC'),\n",
       " Timestamp('2020-01-17 00:00:00+0000', tz='UTC'),\n",
       " Timestamp('2020-01-21 00:00:00+0000', tz='UTC'),\n",
       " Timestamp('2020-01-22 00:00:00+0000', tz='UTC'),\n",
       " Timestamp('2020-01-23 00:00:00+0000', tz='UTC'),\n",
       " Timestamp('2020-01-24 00:00:00+0000', tz='UTC'),\n",
       " Timestamp('2020-01-27 00:00:00+0000', tz='UTC'),\n",
       " Timestamp('2020-01-28 00:00:00+0000', tz='UTC'),\n",
       " Timestamp('2020-01-29 00:00:00+0000', tz='UTC'),\n",
       " Timestamp('2020-01-30 00:00:00+0000', tz='UTC'),\n",
       " Timestamp('2020-01-31 00:00:00+0000', tz='UTC'),\n",
       " Timestamp('2020-02-03 00:00:00+0000', tz='UTC'),\n",
       " Timestamp('2020-02-04 00:00:00+0000', tz='UTC'),\n",
       " Timestamp('2020-02-05 00:00:00+0000', tz='UTC'),\n",
       " Timestamp('2020-02-06 00:00:00+0000', tz='UTC'),\n",
       " Timestamp('2020-02-07 00:00:00+0000', tz='UTC'),\n",
       " Timestamp('2020-02-10 00:00:00+0000', tz='UTC'),\n",
       " Timestamp('2020-02-11 00:00:00+0000', tz='UTC'),\n",
       " Timestamp('2020-02-12 00:00:00+0000', tz='UTC'),\n",
       " Timestamp('2020-02-13 00:00:00+0000', tz='UTC'),\n",
       " Timestamp('2020-02-14 00:00:00+0000', tz='UTC'),\n",
       " Timestamp('2020-02-18 00:00:00+0000', tz='UTC'),\n",
       " Timestamp('2020-02-19 00:00:00+0000', tz='UTC'),\n",
       " Timestamp('2020-02-20 00:00:00+0000', tz='UTC'),\n",
       " Timestamp('2020-02-21 00:00:00+0000', tz='UTC'),\n",
       " Timestamp('2020-02-24 00:00:00+0000', tz='UTC'),\n",
       " Timestamp('2020-02-25 00:00:00+0000', tz='UTC'),\n",
       " Timestamp('2020-02-26 00:00:00+0000', tz='UTC'),\n",
       " Timestamp('2020-02-27 00:00:00+0000', tz='UTC'),\n",
       " Timestamp('2020-02-28 00:00:00+0000', tz='UTC'),\n",
       " Timestamp('2020-03-02 00:00:00+0000', tz='UTC'),\n",
       " Timestamp('2020-03-03 00:00:00+0000', tz='UTC'),\n",
       " Timestamp('2020-03-04 00:00:00+0000', tz='UTC'),\n",
       " Timestamp('2020-03-05 00:00:00+0000', tz='UTC'),\n",
       " Timestamp('2020-03-06 00:00:00+0000', tz='UTC'),\n",
       " Timestamp('2020-03-09 00:00:00+0000', tz='UTC'),\n",
       " Timestamp('2020-03-10 00:00:00+0000', tz='UTC'),\n",
       " Timestamp('2020-03-11 00:00:00+0000', tz='UTC'),\n",
       " Timestamp('2020-03-12 00:00:00+0000', tz='UTC'),\n",
       " Timestamp('2020-03-13 00:00:00+0000', tz='UTC'),\n",
       " Timestamp('2020-03-16 00:00:00+0000', tz='UTC'),\n",
       " Timestamp('2020-03-17 00:00:00+0000', tz='UTC'),\n",
       " Timestamp('2020-03-18 00:00:00+0000', tz='UTC'),\n",
       " Timestamp('2020-03-19 00:00:00+0000', tz='UTC'),\n",
       " Timestamp('2020-03-20 00:00:00+0000', tz='UTC'),\n",
       " Timestamp('2020-03-23 00:00:00+0000', tz='UTC'),\n",
       " Timestamp('2020-03-24 00:00:00+0000', tz='UTC'),\n",
       " Timestamp('2020-03-25 00:00:00+0000', tz='UTC'),\n",
       " Timestamp('2020-03-26 00:00:00+0000', tz='UTC'),\n",
       " Timestamp('2020-03-27 00:00:00+0000', tz='UTC'),\n",
       " Timestamp('2020-03-30 00:00:00+0000', tz='UTC'),\n",
       " Timestamp('2020-03-31 00:00:00+0000', tz='UTC'),\n",
       " Timestamp('2020-04-01 00:00:00+0000', tz='UTC'),\n",
       " Timestamp('2020-04-02 00:00:00+0000', tz='UTC'),\n",
       " Timestamp('2020-04-03 00:00:00+0000', tz='UTC'),\n",
       " Timestamp('2020-04-06 00:00:00+0000', tz='UTC'),\n",
       " Timestamp('2020-04-07 00:00:00+0000', tz='UTC'),\n",
       " Timestamp('2020-04-08 00:00:00+0000', tz='UTC'),\n",
       " Timestamp('2020-04-09 00:00:00+0000', tz='UTC'),\n",
       " Timestamp('2020-04-13 00:00:00+0000', tz='UTC'),\n",
       " Timestamp('2020-04-14 00:00:00+0000', tz='UTC'),\n",
       " Timestamp('2020-04-15 00:00:00+0000', tz='UTC'),\n",
       " Timestamp('2020-04-16 00:00:00+0000', tz='UTC'),\n",
       " Timestamp('2020-04-17 00:00:00+0000', tz='UTC'),\n",
       " Timestamp('2020-04-20 00:00:00+0000', tz='UTC'),\n",
       " Timestamp('2020-04-21 00:00:00+0000', tz='UTC'),\n",
       " Timestamp('2020-04-22 00:00:00+0000', tz='UTC'),\n",
       " Timestamp('2020-04-23 00:00:00+0000', tz='UTC'),\n",
       " Timestamp('2020-04-24 00:00:00+0000', tz='UTC'),\n",
       " Timestamp('2020-04-27 00:00:00+0000', tz='UTC'),\n",
       " Timestamp('2020-04-28 00:00:00+0000', tz='UTC'),\n",
       " Timestamp('2020-04-29 00:00:00+0000', tz='UTC'),\n",
       " Timestamp('2020-04-30 00:00:00+0000', tz='UTC'),\n",
       " Timestamp('2020-05-01 00:00:00+0000', tz='UTC'),\n",
       " Timestamp('2020-05-04 00:00:00+0000', tz='UTC'),\n",
       " Timestamp('2020-05-05 00:00:00+0000', tz='UTC'),\n",
       " Timestamp('2020-05-06 00:00:00+0000', tz='UTC'),\n",
       " Timestamp('2020-05-07 00:00:00+0000', tz='UTC'),\n",
       " Timestamp('2020-05-08 00:00:00+0000', tz='UTC'),\n",
       " Timestamp('2020-05-11 00:00:00+0000', tz='UTC'),\n",
       " Timestamp('2020-05-12 00:00:00+0000', tz='UTC'),\n",
       " Timestamp('2020-05-13 00:00:00+0000', tz='UTC'),\n",
       " Timestamp('2020-05-14 00:00:00+0000', tz='UTC'),\n",
       " Timestamp('2020-05-15 00:00:00+0000', tz='UTC'),\n",
       " Timestamp('2020-05-18 00:00:00+0000', tz='UTC'),\n",
       " Timestamp('2020-05-19 00:00:00+0000', tz='UTC'),\n",
       " Timestamp('2020-05-20 00:00:00+0000', tz='UTC'),\n",
       " Timestamp('2020-05-21 00:00:00+0000', tz='UTC'),\n",
       " Timestamp('2020-05-22 00:00:00+0000', tz='UTC'),\n",
       " Timestamp('2020-05-26 00:00:00+0000', tz='UTC'),\n",
       " Timestamp('2020-05-27 00:00:00+0000', tz='UTC'),\n",
       " Timestamp('2020-05-28 00:00:00+0000', tz='UTC'),\n",
       " Timestamp('2020-05-29 00:00:00+0000', tz='UTC'),\n",
       " Timestamp('2020-06-01 00:00:00+0000', tz='UTC'),\n",
       " Timestamp('2020-06-02 00:00:00+0000', tz='UTC'),\n",
       " Timestamp('2020-06-03 00:00:00+0000', tz='UTC'),\n",
       " Timestamp('2020-06-04 00:00:00+0000', tz='UTC'),\n",
       " Timestamp('2020-06-05 00:00:00+0000', tz='UTC'),\n",
       " Timestamp('2020-06-08 00:00:00+0000', tz='UTC'),\n",
       " Timestamp('2020-06-09 00:00:00+0000', tz='UTC'),\n",
       " Timestamp('2020-06-10 00:00:00+0000', tz='UTC'),\n",
       " Timestamp('2020-06-11 00:00:00+0000', tz='UTC'),\n",
       " Timestamp('2020-06-12 00:00:00+0000', tz='UTC'),\n",
       " Timestamp('2020-06-15 00:00:00+0000', tz='UTC'),\n",
       " Timestamp('2020-06-16 00:00:00+0000', tz='UTC'),\n",
       " Timestamp('2020-06-17 00:00:00+0000', tz='UTC'),\n",
       " Timestamp('2020-06-18 00:00:00+0000', tz='UTC'),\n",
       " Timestamp('2020-06-19 00:00:00+0000', tz='UTC'),\n",
       " Timestamp('2020-06-22 00:00:00+0000', tz='UTC'),\n",
       " Timestamp('2020-06-23 00:00:00+0000', tz='UTC'),\n",
       " Timestamp('2020-06-24 00:00:00+0000', tz='UTC'),\n",
       " Timestamp('2020-06-25 00:00:00+0000', tz='UTC'),\n",
       " Timestamp('2020-06-26 00:00:00+0000', tz='UTC'),\n",
       " Timestamp('2020-06-29 00:00:00+0000', tz='UTC'),\n",
       " Timestamp('2020-06-30 00:00:00+0000', tz='UTC'),\n",
       " Timestamp('2020-07-01 00:00:00+0000', tz='UTC'),\n",
       " Timestamp('2020-07-02 00:00:00+0000', tz='UTC'),\n",
       " Timestamp('2020-07-06 00:00:00+0000', tz='UTC'),\n",
       " Timestamp('2020-07-07 00:00:00+0000', tz='UTC'),\n",
       " Timestamp('2020-07-08 00:00:00+0000', tz='UTC'),\n",
       " Timestamp('2020-07-09 00:00:00+0000', tz='UTC'),\n",
       " Timestamp('2020-07-10 00:00:00+0000', tz='UTC'),\n",
       " Timestamp('2020-07-13 00:00:00+0000', tz='UTC'),\n",
       " Timestamp('2020-07-14 00:00:00+0000', tz='UTC'),\n",
       " Timestamp('2020-07-15 00:00:00+0000', tz='UTC'),\n",
       " Timestamp('2020-07-16 00:00:00+0000', tz='UTC'),\n",
       " Timestamp('2020-07-17 00:00:00+0000', tz='UTC'),\n",
       " Timestamp('2020-07-20 00:00:00+0000', tz='UTC'),\n",
       " Timestamp('2020-07-21 00:00:00+0000', tz='UTC'),\n",
       " Timestamp('2020-07-22 00:00:00+0000', tz='UTC'),\n",
       " Timestamp('2020-07-23 00:00:00+0000', tz='UTC'),\n",
       " Timestamp('2020-07-24 00:00:00+0000', tz='UTC'),\n",
       " Timestamp('2020-07-27 00:00:00+0000', tz='UTC'),\n",
       " Timestamp('2020-07-28 00:00:00+0000', tz='UTC'),\n",
       " Timestamp('2020-07-29 00:00:00+0000', tz='UTC'),\n",
       " Timestamp('2020-07-30 00:00:00+0000', tz='UTC'),\n",
       " Timestamp('2020-07-31 00:00:00+0000', tz='UTC'),\n",
       " Timestamp('2020-08-03 00:00:00+0000', tz='UTC'),\n",
       " Timestamp('2020-08-04 00:00:00+0000', tz='UTC'),\n",
       " Timestamp('2020-08-05 00:00:00+0000', tz='UTC'),\n",
       " Timestamp('2020-08-06 00:00:00+0000', tz='UTC'),\n",
       " Timestamp('2020-08-07 00:00:00+0000', tz='UTC'),\n",
       " Timestamp('2020-08-10 00:00:00+0000', tz='UTC'),\n",
       " Timestamp('2020-08-11 00:00:00+0000', tz='UTC'),\n",
       " Timestamp('2020-08-12 00:00:00+0000', tz='UTC'),\n",
       " Timestamp('2020-08-13 00:00:00+0000', tz='UTC'),\n",
       " Timestamp('2020-08-14 00:00:00+0000', tz='UTC'),\n",
       " Timestamp('2020-08-17 00:00:00+0000', tz='UTC'),\n",
       " Timestamp('2020-08-18 00:00:00+0000', tz='UTC'),\n",
       " Timestamp('2020-08-19 00:00:00+0000', tz='UTC'),\n",
       " Timestamp('2020-08-20 00:00:00+0000', tz='UTC'),\n",
       " Timestamp('2020-08-21 00:00:00+0000', tz='UTC'),\n",
       " Timestamp('2020-08-24 00:00:00+0000', tz='UTC'),\n",
       " Timestamp('2020-08-25 00:00:00+0000', tz='UTC'),\n",
       " Timestamp('2020-08-26 00:00:00+0000', tz='UTC'),\n",
       " Timestamp('2020-08-27 00:00:00+0000', tz='UTC'),\n",
       " Timestamp('2020-08-28 00:00:00+0000', tz='UTC'),\n",
       " Timestamp('2020-08-31 00:00:00+0000', tz='UTC'),\n",
       " Timestamp('2020-09-01 00:00:00+0000', tz='UTC'),\n",
       " Timestamp('2020-09-02 00:00:00+0000', tz='UTC'),\n",
       " Timestamp('2020-09-03 00:00:00+0000', tz='UTC'),\n",
       " Timestamp('2020-09-04 00:00:00+0000', tz='UTC'),\n",
       " Timestamp('2020-09-08 00:00:00+0000', tz='UTC'),\n",
       " Timestamp('2020-09-09 00:00:00+0000', tz='UTC'),\n",
       " Timestamp('2020-09-10 00:00:00+0000', tz='UTC'),\n",
       " Timestamp('2020-09-11 00:00:00+0000', tz='UTC'),\n",
       " Timestamp('2020-09-14 00:00:00+0000', tz='UTC'),\n",
       " Timestamp('2020-09-15 00:00:00+0000', tz='UTC'),\n",
       " Timestamp('2020-09-16 00:00:00+0000', tz='UTC'),\n",
       " Timestamp('2020-09-17 00:00:00+0000', tz='UTC'),\n",
       " Timestamp('2020-09-18 00:00:00+0000', tz='UTC'),\n",
       " Timestamp('2020-09-21 00:00:00+0000', tz='UTC'),\n",
       " Timestamp('2020-09-22 00:00:00+0000', tz='UTC'),\n",
       " Timestamp('2020-09-23 00:00:00+0000', tz='UTC'),\n",
       " Timestamp('2020-09-24 00:00:00+0000', tz='UTC'),\n",
       " Timestamp('2020-09-25 00:00:00+0000', tz='UTC'),\n",
       " Timestamp('2020-09-28 00:00:00+0000', tz='UTC'),\n",
       " Timestamp('2020-09-29 00:00:00+0000', tz='UTC'),\n",
       " Timestamp('2020-09-30 00:00:00+0000', tz='UTC'),\n",
       " Timestamp('2020-10-01 00:00:00+0000', tz='UTC'),\n",
       " Timestamp('2020-10-02 00:00:00+0000', tz='UTC'),\n",
       " Timestamp('2020-10-05 00:00:00+0000', tz='UTC'),\n",
       " Timestamp('2020-10-06 00:00:00+0000', tz='UTC'),\n",
       " Timestamp('2020-10-07 00:00:00+0000', tz='UTC'),\n",
       " Timestamp('2020-10-08 00:00:00+0000', tz='UTC'),\n",
       " Timestamp('2020-10-09 00:00:00+0000', tz='UTC'),\n",
       " Timestamp('2020-10-12 00:00:00+0000', tz='UTC'),\n",
       " Timestamp('2020-10-13 00:00:00+0000', tz='UTC'),\n",
       " Timestamp('2020-10-14 00:00:00+0000', tz='UTC'),\n",
       " Timestamp('2020-10-15 00:00:00+0000', tz='UTC'),\n",
       " Timestamp('2020-10-16 00:00:00+0000', tz='UTC'),\n",
       " Timestamp('2020-10-19 00:00:00+0000', tz='UTC'),\n",
       " Timestamp('2020-10-20 00:00:00+0000', tz='UTC'),\n",
       " Timestamp('2020-10-21 00:00:00+0000', tz='UTC'),\n",
       " Timestamp('2020-10-22 00:00:00+0000', tz='UTC'),\n",
       " Timestamp('2020-10-23 00:00:00+0000', tz='UTC'),\n",
       " Timestamp('2020-10-26 00:00:00+0000', tz='UTC'),\n",
       " Timestamp('2020-10-27 00:00:00+0000', tz='UTC'),\n",
       " Timestamp('2020-10-28 00:00:00+0000', tz='UTC'),\n",
       " Timestamp('2020-10-29 00:00:00+0000', tz='UTC'),\n",
       " Timestamp('2020-10-30 00:00:00+0000', tz='UTC'),\n",
       " Timestamp('2020-11-02 00:00:00+0000', tz='UTC'),\n",
       " Timestamp('2020-11-03 00:00:00+0000', tz='UTC'),\n",
       " Timestamp('2020-11-04 00:00:00+0000', tz='UTC'),\n",
       " Timestamp('2020-11-05 00:00:00+0000', tz='UTC'),\n",
       " Timestamp('2020-11-06 00:00:00+0000', tz='UTC'),\n",
       " Timestamp('2020-11-09 00:00:00+0000', tz='UTC'),\n",
       " Timestamp('2020-11-10 00:00:00+0000', tz='UTC'),\n",
       " Timestamp('2020-11-11 00:00:00+0000', tz='UTC'),\n",
       " Timestamp('2020-11-12 00:00:00+0000', tz='UTC'),\n",
       " Timestamp('2020-11-13 00:00:00+0000', tz='UTC'),\n",
       " Timestamp('2020-11-16 00:00:00+0000', tz='UTC'),\n",
       " Timestamp('2020-11-17 00:00:00+0000', tz='UTC'),\n",
       " Timestamp('2020-11-18 00:00:00+0000', tz='UTC'),\n",
       " Timestamp('2020-11-19 00:00:00+0000', tz='UTC'),\n",
       " Timestamp('2020-11-20 00:00:00+0000', tz='UTC'),\n",
       " Timestamp('2020-11-23 00:00:00+0000', tz='UTC'),\n",
       " Timestamp('2020-11-24 00:00:00+0000', tz='UTC'),\n",
       " Timestamp('2020-11-25 00:00:00+0000', tz='UTC'),\n",
       " Timestamp('2020-11-27 00:00:00+0000', tz='UTC'),\n",
       " Timestamp('2020-11-30 00:00:00+0000', tz='UTC'),\n",
       " Timestamp('2020-12-01 00:00:00+0000', tz='UTC'),\n",
       " Timestamp('2020-12-02 00:00:00+0000', tz='UTC'),\n",
       " Timestamp('2020-12-03 00:00:00+0000', tz='UTC'),\n",
       " Timestamp('2020-12-04 00:00:00+0000', tz='UTC'),\n",
       " Timestamp('2020-12-07 00:00:00+0000', tz='UTC'),\n",
       " Timestamp('2020-12-08 00:00:00+0000', tz='UTC'),\n",
       " Timestamp('2020-12-09 00:00:00+0000', tz='UTC'),\n",
       " Timestamp('2020-12-10 00:00:00+0000', tz='UTC'),\n",
       " Timestamp('2020-12-11 00:00:00+0000', tz='UTC'),\n",
       " Timestamp('2020-12-14 00:00:00+0000', tz='UTC'),\n",
       " Timestamp('2020-12-15 00:00:00+0000', tz='UTC'),\n",
       " Timestamp('2020-12-16 00:00:00+0000', tz='UTC'),\n",
       " Timestamp('2020-12-17 00:00:00+0000', tz='UTC'),\n",
       " Timestamp('2020-12-18 00:00:00+0000', tz='UTC'),\n",
       " Timestamp('2020-12-21 00:00:00+0000', tz='UTC'),\n",
       " Timestamp('2020-12-22 00:00:00+0000', tz='UTC'),\n",
       " Timestamp('2020-12-23 00:00:00+0000', tz='UTC'),\n",
       " Timestamp('2020-12-24 00:00:00+0000', tz='UTC'),\n",
       " Timestamp('2020-12-28 00:00:00+0000', tz='UTC'),\n",
       " Timestamp('2020-12-29 00:00:00+0000', tz='UTC'),\n",
       " Timestamp('2020-12-30 00:00:00+0000', tz='UTC'),\n",
       " Timestamp('2020-12-31 00:00:00+0000', tz='UTC'),\n",
       " Timestamp('2021-01-04 00:00:00+0000', tz='UTC'),\n",
       " Timestamp('2021-01-05 00:00:00+0000', tz='UTC'),\n",
       " Timestamp('2021-01-06 00:00:00+0000', tz='UTC'),\n",
       " Timestamp('2021-01-07 00:00:00+0000', tz='UTC'),\n",
       " Timestamp('2021-01-08 00:00:00+0000', tz='UTC'),\n",
       " Timestamp('2021-01-11 00:00:00+0000', tz='UTC'),\n",
       " Timestamp('2021-01-12 00:00:00+0000', tz='UTC'),\n",
       " Timestamp('2021-01-13 00:00:00+0000', tz='UTC'),\n",
       " Timestamp('2021-01-14 00:00:00+0000', tz='UTC'),\n",
       " Timestamp('2021-01-15 00:00:00+0000', tz='UTC'),\n",
       " Timestamp('2021-01-19 00:00:00+0000', tz='UTC'),\n",
       " Timestamp('2021-01-20 00:00:00+0000', tz='UTC'),\n",
       " Timestamp('2021-01-21 00:00:00+0000', tz='UTC'),\n",
       " Timestamp('2021-01-22 00:00:00+0000', tz='UTC'),\n",
       " Timestamp('2021-01-25 00:00:00+0000', tz='UTC'),\n",
       " Timestamp('2021-01-26 00:00:00+0000', tz='UTC'),\n",
       " Timestamp('2021-01-27 00:00:00+0000', tz='UTC'),\n",
       " Timestamp('2021-01-28 00:00:00+0000', tz='UTC'),\n",
       " Timestamp('2021-01-29 00:00:00+0000', tz='UTC'),\n",
       " Timestamp('2021-02-01 00:00:00+0000', tz='UTC'),\n",
       " Timestamp('2021-02-02 00:00:00+0000', tz='UTC'),\n",
       " Timestamp('2021-02-03 00:00:00+0000', tz='UTC'),\n",
       " Timestamp('2021-02-04 00:00:00+0000', tz='UTC'),\n",
       " Timestamp('2021-02-05 00:00:00+0000', tz='UTC'),\n",
       " Timestamp('2021-02-08 00:00:00+0000', tz='UTC'),\n",
       " Timestamp('2021-02-09 00:00:00+0000', tz='UTC'),\n",
       " Timestamp('2021-02-10 00:00:00+0000', tz='UTC'),\n",
       " Timestamp('2021-02-11 00:00:00+0000', tz='UTC'),\n",
       " Timestamp('2021-02-12 00:00:00+0000', tz='UTC'),\n",
       " Timestamp('2021-02-16 00:00:00+0000', tz='UTC'),\n",
       " Timestamp('2021-02-17 00:00:00+0000', tz='UTC'),\n",
       " Timestamp('2021-02-18 00:00:00+0000', tz='UTC'),\n",
       " Timestamp('2021-02-19 00:00:00+0000', tz='UTC'),\n",
       " Timestamp('2021-02-22 00:00:00+0000', tz='UTC'),\n",
       " Timestamp('2021-02-23 00:00:00+0000', tz='UTC'),\n",
       " Timestamp('2021-02-24 00:00:00+0000', tz='UTC'),\n",
       " Timestamp('2021-02-25 00:00:00+0000', tz='UTC'),\n",
       " Timestamp('2021-02-26 00:00:00+0000', tz='UTC'),\n",
       " Timestamp('2021-03-01 00:00:00+0000', tz='UTC'),\n",
       " Timestamp('2021-03-02 00:00:00+0000', tz='UTC'),\n",
       " Timestamp('2021-03-03 00:00:00+0000', tz='UTC'),\n",
       " Timestamp('2021-03-04 00:00:00+0000', tz='UTC'),\n",
       " Timestamp('2021-03-05 00:00:00+0000', tz='UTC'),\n",
       " Timestamp('2021-03-08 00:00:00+0000', tz='UTC'),\n",
       " Timestamp('2021-03-09 00:00:00+0000', tz='UTC'),\n",
       " Timestamp('2021-03-10 00:00:00+0000', tz='UTC'),\n",
       " Timestamp('2021-03-11 00:00:00+0000', tz='UTC'),\n",
       " Timestamp('2021-03-12 00:00:00+0000', tz='UTC'),\n",
       " Timestamp('2021-03-15 00:00:00+0000', tz='UTC'),\n",
       " Timestamp('2021-03-16 00:00:00+0000', tz='UTC'),\n",
       " Timestamp('2021-03-17 00:00:00+0000', tz='UTC'),\n",
       " Timestamp('2021-03-18 00:00:00+0000', tz='UTC'),\n",
       " Timestamp('2021-03-19 00:00:00+0000', tz='UTC'),\n",
       " Timestamp('2021-03-22 00:00:00+0000', tz='UTC'),\n",
       " Timestamp('2021-03-23 00:00:00+0000', tz='UTC'),\n",
       " Timestamp('2021-03-24 00:00:00+0000', tz='UTC'),\n",
       " Timestamp('2021-03-25 00:00:00+0000', tz='UTC'),\n",
       " Timestamp('2021-03-26 00:00:00+0000', tz='UTC'),\n",
       " Timestamp('2021-03-29 00:00:00+0000', tz='UTC'),\n",
       " Timestamp('2021-03-30 00:00:00+0000', tz='UTC'),\n",
       " Timestamp('2021-03-31 00:00:00+0000', tz='UTC'),\n",
       " Timestamp('2021-04-01 00:00:00+0000', tz='UTC'),\n",
       " Timestamp('2021-04-05 00:00:00+0000', tz='UTC'),\n",
       " Timestamp('2021-04-06 00:00:00+0000', tz='UTC'),\n",
       " Timestamp('2021-04-07 00:00:00+0000', tz='UTC'),\n",
       " Timestamp('2021-04-08 00:00:00+0000', tz='UTC'),\n",
       " Timestamp('2021-04-09 00:00:00+0000', tz='UTC'),\n",
       " Timestamp('2021-04-12 00:00:00+0000', tz='UTC'),\n",
       " Timestamp('2021-04-13 00:00:00+0000', tz='UTC'),\n",
       " Timestamp('2021-04-14 00:00:00+0000', tz='UTC'),\n",
       " Timestamp('2021-04-15 00:00:00+0000', tz='UTC'),\n",
       " Timestamp('2021-04-16 00:00:00+0000', tz='UTC'),\n",
       " Timestamp('2021-04-19 00:00:00+0000', tz='UTC'),\n",
       " Timestamp('2021-04-20 00:00:00+0000', tz='UTC'),\n",
       " Timestamp('2021-04-21 00:00:00+0000', tz='UTC'),\n",
       " Timestamp('2021-04-22 00:00:00+0000', tz='UTC'),\n",
       " Timestamp('2021-04-23 00:00:00+0000', tz='UTC'),\n",
       " Timestamp('2021-04-26 00:00:00+0000', tz='UTC'),\n",
       " Timestamp('2021-04-27 00:00:00+0000', tz='UTC'),\n",
       " Timestamp('2021-04-28 00:00:00+0000', tz='UTC'),\n",
       " Timestamp('2021-04-29 00:00:00+0000', tz='UTC'),\n",
       " Timestamp('2021-04-30 00:00:00+0000', tz='UTC'),\n",
       " Timestamp('2021-05-03 00:00:00+0000', tz='UTC'),\n",
       " Timestamp('2021-05-04 00:00:00+0000', tz='UTC'),\n",
       " Timestamp('2021-05-05 00:00:00+0000', tz='UTC'),\n",
       " Timestamp('2021-05-06 00:00:00+0000', tz='UTC'),\n",
       " Timestamp('2021-05-07 00:00:00+0000', tz='UTC'),\n",
       " Timestamp('2021-05-10 00:00:00+0000', tz='UTC'),\n",
       " Timestamp('2021-05-11 00:00:00+0000', tz='UTC'),\n",
       " Timestamp('2021-05-12 00:00:00+0000', tz='UTC'),\n",
       " Timestamp('2021-05-13 00:00:00+0000', tz='UTC'),\n",
       " Timestamp('2021-05-14 00:00:00+0000', tz='UTC'),\n",
       " Timestamp('2021-05-17 00:00:00+0000', tz='UTC'),\n",
       " Timestamp('2021-05-18 00:00:00+0000', tz='UTC'),\n",
       " Timestamp('2021-05-19 00:00:00+0000', tz='UTC'),\n",
       " Timestamp('2021-05-20 00:00:00+0000', tz='UTC'),\n",
       " Timestamp('2021-05-21 00:00:00+0000', tz='UTC'),\n",
       " Timestamp('2021-05-24 00:00:00+0000', tz='UTC'),\n",
       " Timestamp('2021-05-25 00:00:00+0000', tz='UTC'),\n",
       " Timestamp('2021-05-26 00:00:00+0000', tz='UTC'),\n",
       " Timestamp('2021-05-27 00:00:00+0000', tz='UTC'),\n",
       " Timestamp('2021-05-28 00:00:00+0000', tz='UTC'),\n",
       " Timestamp('2021-06-01 00:00:00+0000', tz='UTC'),\n",
       " Timestamp('2021-06-02 00:00:00+0000', tz='UTC'),\n",
       " Timestamp('2021-06-03 00:00:00+0000', tz='UTC'),\n",
       " Timestamp('2021-06-04 00:00:00+0000', tz='UTC'),\n",
       " Timestamp('2021-06-07 00:00:00+0000', tz='UTC'),\n",
       " Timestamp('2021-06-08 00:00:00+0000', tz='UTC'),\n",
       " Timestamp('2021-06-09 00:00:00+0000', tz='UTC'),\n",
       " Timestamp('2021-06-10 00:00:00+0000', tz='UTC'),\n",
       " Timestamp('2021-06-11 00:00:00+0000', tz='UTC'),\n",
       " Timestamp('2021-06-14 00:00:00+0000', tz='UTC'),\n",
       " Timestamp('2021-06-15 00:00:00+0000', tz='UTC'),\n",
       " Timestamp('2021-06-16 00:00:00+0000', tz='UTC'),\n",
       " Timestamp('2021-06-17 00:00:00+0000', tz='UTC'),\n",
       " Timestamp('2021-06-18 00:00:00+0000', tz='UTC'),\n",
       " Timestamp('2021-06-21 00:00:00+0000', tz='UTC'),\n",
       " Timestamp('2021-06-22 00:00:00+0000', tz='UTC'),\n",
       " Timestamp('2021-06-23 00:00:00+0000', tz='UTC'),\n",
       " Timestamp('2021-06-24 00:00:00+0000', tz='UTC'),\n",
       " Timestamp('2021-06-25 00:00:00+0000', tz='UTC'),\n",
       " Timestamp('2021-06-28 00:00:00+0000', tz='UTC'),\n",
       " Timestamp('2021-06-29 00:00:00+0000', tz='UTC'),\n",
       " Timestamp('2021-06-30 00:00:00+0000', tz='UTC'),\n",
       " Timestamp('2021-07-01 00:00:00+0000', tz='UTC'),\n",
       " Timestamp('2021-07-02 00:00:00+0000', tz='UTC'),\n",
       " Timestamp('2021-07-06 00:00:00+0000', tz='UTC'),\n",
       " Timestamp('2021-07-07 00:00:00+0000', tz='UTC'),\n",
       " Timestamp('2021-07-08 00:00:00+0000', tz='UTC'),\n",
       " Timestamp('2021-07-09 00:00:00+0000', tz='UTC'),\n",
       " Timestamp('2021-07-12 00:00:00+0000', tz='UTC'),\n",
       " Timestamp('2021-07-13 00:00:00+0000', tz='UTC'),\n",
       " Timestamp('2021-07-14 00:00:00+0000', tz='UTC'),\n",
       " Timestamp('2021-07-15 00:00:00+0000', tz='UTC'),\n",
       " Timestamp('2021-07-16 00:00:00+0000', tz='UTC'),\n",
       " Timestamp('2021-07-19 00:00:00+0000', tz='UTC'),\n",
       " Timestamp('2021-07-20 00:00:00+0000', tz='UTC'),\n",
       " Timestamp('2021-07-21 00:00:00+0000', tz='UTC'),\n",
       " Timestamp('2021-07-22 00:00:00+0000', tz='UTC'),\n",
       " Timestamp('2021-07-23 00:00:00+0000', tz='UTC'),\n",
       " Timestamp('2021-07-26 00:00:00+0000', tz='UTC'),\n",
       " Timestamp('2021-07-27 00:00:00+0000', tz='UTC'),\n",
       " Timestamp('2021-07-28 00:00:00+0000', tz='UTC'),\n",
       " Timestamp('2021-07-29 00:00:00+0000', tz='UTC'),\n",
       " Timestamp('2021-07-30 00:00:00+0000', tz='UTC'),\n",
       " Timestamp('2021-08-02 00:00:00+0000', tz='UTC'),\n",
       " Timestamp('2021-08-03 00:00:00+0000', tz='UTC'),\n",
       " Timestamp('2021-08-04 00:00:00+0000', tz='UTC'),\n",
       " Timestamp('2021-08-05 00:00:00+0000', tz='UTC'),\n",
       " Timestamp('2021-08-06 00:00:00+0000', tz='UTC'),\n",
       " Timestamp('2021-08-09 00:00:00+0000', tz='UTC'),\n",
       " Timestamp('2021-08-10 00:00:00+0000', tz='UTC'),\n",
       " Timestamp('2021-08-11 00:00:00+0000', tz='UTC'),\n",
       " Timestamp('2021-08-12 00:00:00+0000', tz='UTC'),\n",
       " Timestamp('2021-08-13 00:00:00+0000', tz='UTC'),\n",
       " Timestamp('2021-08-16 00:00:00+0000', tz='UTC'),\n",
       " Timestamp('2021-08-17 00:00:00+0000', tz='UTC'),\n",
       " Timestamp('2021-08-18 00:00:00+0000', tz='UTC'),\n",
       " Timestamp('2021-08-19 00:00:00+0000', tz='UTC'),\n",
       " Timestamp('2021-08-20 00:00:00+0000', tz='UTC'),\n",
       " Timestamp('2021-08-23 00:00:00+0000', tz='UTC'),\n",
       " Timestamp('2021-08-24 00:00:00+0000', tz='UTC'),\n",
       " Timestamp('2021-08-25 00:00:00+0000', tz='UTC'),\n",
       " Timestamp('2021-08-26 00:00:00+0000', tz='UTC'),\n",
       " Timestamp('2021-08-27 00:00:00+0000', tz='UTC'),\n",
       " Timestamp('2021-08-30 00:00:00+0000', tz='UTC'),\n",
       " Timestamp('2021-08-31 00:00:00+0000', tz='UTC'),\n",
       " Timestamp('2021-09-01 00:00:00+0000', tz='UTC'),\n",
       " Timestamp('2021-09-02 00:00:00+0000', tz='UTC'),\n",
       " Timestamp('2021-09-03 00:00:00+0000', tz='UTC'),\n",
       " Timestamp('2021-09-07 00:00:00+0000', tz='UTC'),\n",
       " Timestamp('2021-09-08 00:00:00+0000', tz='UTC'),\n",
       " Timestamp('2021-09-09 00:00:00+0000', tz='UTC'),\n",
       " Timestamp('2021-09-10 00:00:00+0000', tz='UTC'),\n",
       " Timestamp('2021-09-13 00:00:00+0000', tz='UTC'),\n",
       " Timestamp('2021-09-14 00:00:00+0000', tz='UTC'),\n",
       " Timestamp('2021-09-15 00:00:00+0000', tz='UTC'),\n",
       " Timestamp('2021-09-16 00:00:00+0000', tz='UTC'),\n",
       " Timestamp('2021-09-17 00:00:00+0000', tz='UTC'),\n",
       " Timestamp('2021-09-20 00:00:00+0000', tz='UTC'),\n",
       " Timestamp('2021-09-21 00:00:00+0000', tz='UTC'),\n",
       " Timestamp('2021-09-22 00:00:00+0000', tz='UTC'),\n",
       " Timestamp('2021-09-23 00:00:00+0000', tz='UTC'),\n",
       " Timestamp('2021-09-24 00:00:00+0000', tz='UTC'),\n",
       " Timestamp('2021-09-27 00:00:00+0000', tz='UTC'),\n",
       " Timestamp('2021-09-28 00:00:00+0000', tz='UTC'),\n",
       " Timestamp('2021-09-29 00:00:00+0000', tz='UTC'),\n",
       " Timestamp('2021-09-30 00:00:00+0000', tz='UTC'),\n",
       " Timestamp('2021-10-01 00:00:00+0000', tz='UTC'),\n",
       " Timestamp('2021-10-04 00:00:00+0000', tz='UTC'),\n",
       " Timestamp('2021-10-05 00:00:00+0000', tz='UTC'),\n",
       " Timestamp('2021-10-06 00:00:00+0000', tz='UTC'),\n",
       " Timestamp('2021-10-07 00:00:00+0000', tz='UTC'),\n",
       " Timestamp('2021-10-08 00:00:00+0000', tz='UTC'),\n",
       " Timestamp('2021-10-11 00:00:00+0000', tz='UTC'),\n",
       " Timestamp('2021-10-12 00:00:00+0000', tz='UTC'),\n",
       " Timestamp('2021-10-13 00:00:00+0000', tz='UTC'),\n",
       " Timestamp('2021-10-14 00:00:00+0000', tz='UTC'),\n",
       " Timestamp('2021-10-15 00:00:00+0000', tz='UTC'),\n",
       " Timestamp('2021-10-18 00:00:00+0000', tz='UTC'),\n",
       " Timestamp('2021-10-19 00:00:00+0000', tz='UTC'),\n",
       " Timestamp('2021-10-20 00:00:00+0000', tz='UTC'),\n",
       " Timestamp('2021-10-21 00:00:00+0000', tz='UTC'),\n",
       " Timestamp('2021-10-22 00:00:00+0000', tz='UTC'),\n",
       " Timestamp('2021-10-25 00:00:00+0000', tz='UTC'),\n",
       " Timestamp('2021-10-26 00:00:00+0000', tz='UTC'),\n",
       " Timestamp('2021-10-27 00:00:00+0000', tz='UTC'),\n",
       " Timestamp('2021-10-28 00:00:00+0000', tz='UTC'),\n",
       " Timestamp('2021-10-29 00:00:00+0000', tz='UTC'),\n",
       " Timestamp('2021-11-01 00:00:00+0000', tz='UTC'),\n",
       " Timestamp('2021-11-02 00:00:00+0000', tz='UTC'),\n",
       " Timestamp('2021-11-03 00:00:00+0000', tz='UTC'),\n",
       " Timestamp('2021-11-04 00:00:00+0000', tz='UTC'),\n",
       " Timestamp('2021-11-05 00:00:00+0000', tz='UTC'),\n",
       " Timestamp('2021-11-08 00:00:00+0000', tz='UTC'),\n",
       " Timestamp('2021-11-09 00:00:00+0000', tz='UTC'),\n",
       " Timestamp('2021-11-10 00:00:00+0000', tz='UTC'),\n",
       " Timestamp('2021-11-11 00:00:00+0000', tz='UTC'),\n",
       " Timestamp('2021-11-12 00:00:00+0000', tz='UTC'),\n",
       " Timestamp('2021-11-15 00:00:00+0000', tz='UTC'),\n",
       " Timestamp('2021-11-16 00:00:00+0000', tz='UTC'),\n",
       " Timestamp('2021-11-17 00:00:00+0000', tz='UTC'),\n",
       " Timestamp('2021-11-18 00:00:00+0000', tz='UTC'),\n",
       " Timestamp('2021-11-19 00:00:00+0000', tz='UTC'),\n",
       " Timestamp('2021-11-22 00:00:00+0000', tz='UTC'),\n",
       " Timestamp('2021-11-23 00:00:00+0000', tz='UTC'),\n",
       " Timestamp('2021-11-24 00:00:00+0000', tz='UTC'),\n",
       " Timestamp('2021-11-26 00:00:00+0000', tz='UTC'),\n",
       " Timestamp('2021-11-29 00:00:00+0000', tz='UTC'),\n",
       " Timestamp('2021-11-30 00:00:00+0000', tz='UTC'),\n",
       " Timestamp('2021-12-01 00:00:00+0000', tz='UTC'),\n",
       " Timestamp('2021-12-02 00:00:00+0000', tz='UTC'),\n",
       " Timestamp('2021-12-03 00:00:00+0000', tz='UTC'),\n",
       " Timestamp('2021-12-06 00:00:00+0000', tz='UTC'),\n",
       " Timestamp('2021-12-07 00:00:00+0000', tz='UTC'),\n",
       " Timestamp('2021-12-08 00:00:00+0000', tz='UTC'),\n",
       " Timestamp('2021-12-09 00:00:00+0000', tz='UTC'),\n",
       " Timestamp('2021-12-10 00:00:00+0000', tz='UTC'),\n",
       " Timestamp('2021-12-13 00:00:00+0000', tz='UTC'),\n",
       " Timestamp('2021-12-14 00:00:00+0000', tz='UTC'),\n",
       " Timestamp('2021-12-15 00:00:00+0000', tz='UTC'),\n",
       " Timestamp('2021-12-16 00:00:00+0000', tz='UTC'),\n",
       " Timestamp('2021-12-17 00:00:00+0000', tz='UTC'),\n",
       " Timestamp('2021-12-20 00:00:00+0000', tz='UTC'),\n",
       " Timestamp('2021-12-21 00:00:00+0000', tz='UTC'),\n",
       " Timestamp('2021-12-22 00:00:00+0000', tz='UTC'),\n",
       " Timestamp('2021-12-23 00:00:00+0000', tz='UTC'),\n",
       " Timestamp('2021-12-27 00:00:00+0000', tz='UTC'),\n",
       " Timestamp('2021-12-28 00:00:00+0000', tz='UTC'),\n",
       " Timestamp('2021-12-29 00:00:00+0000', tz='UTC'),\n",
       " Timestamp('2021-12-30 00:00:00+0000', tz='UTC'),\n",
       " Timestamp('2021-12-31 00:00:00+0000', tz='UTC'),\n",
       " Timestamp('2022-01-03 00:00:00+0000', tz='UTC'),\n",
       " Timestamp('2022-01-04 00:00:00+0000', tz='UTC'),\n",
       " Timestamp('2022-01-05 00:00:00+0000', tz='UTC'),\n",
       " Timestamp('2022-01-06 00:00:00+0000', tz='UTC'),\n",
       " Timestamp('2022-01-07 00:00:00+0000', tz='UTC'),\n",
       " Timestamp('2022-01-10 00:00:00+0000', tz='UTC'),\n",
       " Timestamp('2022-01-11 00:00:00+0000', tz='UTC'),\n",
       " Timestamp('2022-01-12 00:00:00+0000', tz='UTC'),\n",
       " ...]"
      ]
     },
     "execution_count": 5,
     "metadata": {},
     "output_type": "execute_result"
    }
   ],
   "source": [
    "dates=[]\n",
    "for i in range(len(df1)):\n",
    "  dates.append(df.index[i][1])\n",
    "dates\n"
   ]
  },
  {
   "cell_type": "code",
   "execution_count": 6,
   "metadata": {
    "id": "NFIeNixsdL5d"
   },
   "outputs": [],
   "source": [
    "df1=df1.reset_index()"
   ]
  },
  {
   "cell_type": "code",
   "execution_count": 7,
   "metadata": {
    "id": "WzcdlCLNcoPC"
   },
   "outputs": [],
   "source": [
    "df1['date']=dates\n",
    "df1.drop('symbol',inplace=True,axis=1)"
   ]
  },
  {
   "cell_type": "code",
   "execution_count": 8,
   "metadata": {
    "colab": {
     "base_uri": "https://localhost:8080/"
    },
    "id": "PEadzn-WhUnw",
    "outputId": "8699689b-1e09-4046-f9d4-2914580783a0"
   },
   "outputs": [
    {
     "data": {
      "text/plain": [
       "date     0\n",
       "close    0\n",
       "dtype: int64"
      ]
     },
     "execution_count": 8,
     "metadata": {},
     "output_type": "execute_result"
    }
   ],
   "source": [
    "df1.isnull().sum()"
   ]
  },
  {
   "cell_type": "code",
   "execution_count": 9,
   "metadata": {
    "id": "Avwe9OC-i5-A"
   },
   "outputs": [],
   "source": [
    "df1['date']=pd.to_datetime(df1['date'])"
   ]
  },
  {
   "cell_type": "code",
   "execution_count": 10,
   "metadata": {
    "colab": {
     "base_uri": "https://localhost:8080/",
     "height": 455
    },
    "id": "RkLKRCO4iJaJ",
    "outputId": "611276ad-50fa-4f0b-8484-3e2e548b7703"
   },
   "outputs": [
    {
     "data": {
      "text/html": [
       "<div>\n",
       "<style scoped>\n",
       "    .dataframe tbody tr th:only-of-type {\n",
       "        vertical-align: middle;\n",
       "    }\n",
       "\n",
       "    .dataframe tbody tr th {\n",
       "        vertical-align: top;\n",
       "    }\n",
       "\n",
       "    .dataframe thead th {\n",
       "        text-align: right;\n",
       "    }\n",
       "</style>\n",
       "<table border=\"1\" class=\"dataframe\">\n",
       "  <thead>\n",
       "    <tr style=\"text-align: right;\">\n",
       "      <th></th>\n",
       "      <th>close</th>\n",
       "    </tr>\n",
       "    <tr>\n",
       "      <th>date</th>\n",
       "      <th></th>\n",
       "    </tr>\n",
       "  </thead>\n",
       "  <tbody>\n",
       "    <tr>\n",
       "      <th>2018-01-25 00:00:00+00:00</th>\n",
       "      <td>171.11</td>\n",
       "    </tr>\n",
       "    <tr>\n",
       "      <th>2018-01-26 00:00:00+00:00</th>\n",
       "      <td>171.51</td>\n",
       "    </tr>\n",
       "    <tr>\n",
       "      <th>2018-01-29 00:00:00+00:00</th>\n",
       "      <td>167.96</td>\n",
       "    </tr>\n",
       "    <tr>\n",
       "      <th>2018-01-30 00:00:00+00:00</th>\n",
       "      <td>166.97</td>\n",
       "    </tr>\n",
       "    <tr>\n",
       "      <th>2018-01-31 00:00:00+00:00</th>\n",
       "      <td>167.43</td>\n",
       "    </tr>\n",
       "    <tr>\n",
       "      <th>...</th>\n",
       "      <td>...</td>\n",
       "    </tr>\n",
       "    <tr>\n",
       "      <th>2023-01-17 00:00:00+00:00</th>\n",
       "      <td>135.94</td>\n",
       "    </tr>\n",
       "    <tr>\n",
       "      <th>2023-01-18 00:00:00+00:00</th>\n",
       "      <td>135.21</td>\n",
       "    </tr>\n",
       "    <tr>\n",
       "      <th>2023-01-19 00:00:00+00:00</th>\n",
       "      <td>135.27</td>\n",
       "    </tr>\n",
       "    <tr>\n",
       "      <th>2023-01-20 00:00:00+00:00</th>\n",
       "      <td>137.87</td>\n",
       "    </tr>\n",
       "    <tr>\n",
       "      <th>2023-01-23 00:00:00+00:00</th>\n",
       "      <td>141.11</td>\n",
       "    </tr>\n",
       "  </tbody>\n",
       "</table>\n",
       "<p>1257 rows × 1 columns</p>\n",
       "</div>"
      ],
      "text/plain": [
       "                            close\n",
       "date                             \n",
       "2018-01-25 00:00:00+00:00  171.11\n",
       "2018-01-26 00:00:00+00:00  171.51\n",
       "2018-01-29 00:00:00+00:00  167.96\n",
       "2018-01-30 00:00:00+00:00  166.97\n",
       "2018-01-31 00:00:00+00:00  167.43\n",
       "...                           ...\n",
       "2023-01-17 00:00:00+00:00  135.94\n",
       "2023-01-18 00:00:00+00:00  135.21\n",
       "2023-01-19 00:00:00+00:00  135.27\n",
       "2023-01-20 00:00:00+00:00  137.87\n",
       "2023-01-23 00:00:00+00:00  141.11\n",
       "\n",
       "[1257 rows x 1 columns]"
      ]
     },
     "execution_count": 10,
     "metadata": {},
     "output_type": "execute_result"
    }
   ],
   "source": [
    "df1.set_index('date',inplace=True)\n",
    "df1"
   ]
  },
  {
   "cell_type": "code",
   "execution_count": 11,
   "metadata": {
    "colab": {
     "base_uri": "https://localhost:8080/",
     "height": 286
    },
    "id": "AfkXJOnijC38",
    "outputId": "0dfcc144-16c1-49e1-8a46-0c8903fe29ce"
   },
   "outputs": [
    {
     "data": {
      "text/plain": [
       "<AxesSubplot:xlabel='date'>"
      ]
     },
     "execution_count": 11,
     "metadata": {},
     "output_type": "execute_result"
    },
    {
     "data": {
      "image/png": "[encoded data removed]",
      "text/plain": [
       "<Figure size 432x288 with 1 Axes>"
      ]
     },
     "metadata": {
      "needs_background": "light"
     },
     "output_type": "display_data"
    }
   ],
   "source": [
    "df1.plot()"
   ]
  },
  {
   "cell_type": "code",
   "execution_count": 12,
   "metadata": {
    "id": "s_7xHdrYjJYv"
   },
   "outputs": [
    {
     "name": "stderr",
     "output_type": "stream",
     "text": [
      "/home/sushmita/anaconda3/envs/tfEnv/lib/python3.10/site-packages/scipy/__init__.py:146: UserWarning: A NumPy version >=1.16.5 and <1.23.0 is required for this version of SciPy (detected version 1.23.1\n",
      "  warnings.warn(f\"A NumPy version >={np_minversion} and <{np_maxversion}\"\n"
     ]
    }
   ],
   "source": [
    "import numpy as np\n",
    "import matplotlib.pyplot as plt\n",
    "import statsmodels.api as sms\n",
    "from statsmodels.tsa.stattools import adfuller"
   ]
  },
  {
   "cell_type": "code",
   "execution_count": 13,
   "metadata": {
    "id": "v5xCVlm5jXuy"
   },
   "outputs": [],
   "source": [
    "def adf_test(series):\n",
    "    result=adfuller(series)\n",
    "    print('ADF Statistics: {}'.format(result[0]))\n",
    "    print('p- value: {}'.format(result[1]))\n",
    "    if result[1] <= 0.05:\n",
    "        print(\"strong evidence against the null hypothesis, reject the null hypothesis. Data has no unit root and is stationary\")\n",
    "    else:\n",
    "        print(\"weak evidence against null hypothesis, time series has a unit root, indicating it is non-stationary \")"
   ]
  },
  {
   "cell_type": "code",
   "execution_count": 14,
   "metadata": {
    "colab": {
     "base_uri": "https://localhost:8080/"
    },
    "id": "XkGY_Nt2jbfs",
    "outputId": "fae16225-dea7-4645-f75b-4941ef28d4b0"
   },
   "outputs": [
    {
     "name": "stdout",
     "output_type": "stream",
     "text": [
      "ADF Statistics: -2.8764648259453804\n",
      "p- value: 0.04815406675929664\n",
      "strong evidence against the null hypothesis, reject the null hypothesis. Data has no unit root and is stationary\n"
     ]
    }
   ],
   "source": [
    "adf_test(df1['close'])"
   ]
  },
  {
   "cell_type": "code",
   "execution_count": 15,
   "metadata": {
    "colab": {
     "base_uri": "https://localhost:8080/",
     "height": 545
    },
    "id": "pKS0kpddjlTc",
    "outputId": "c3300452-f2df-4311-d600-f8b38494f38d"
   },
   "outputs": [
    {
     "data": {
      "image/png": "[encoded data removed]",
      "text/plain": [
       "<Figure size 432x288 with 1 Axes>"
      ]
     },
     "execution_count": 15,
     "metadata": {},
     "output_type": "execute_result"
    },
    {
     "data": {
      "image/png": "[encoded data removed]",
      "text/plain": [
       "<Figure size 432x288 with 1 Axes>"
      ]
     },
     "metadata": {
      "needs_background": "light"
     },
     "output_type": "display_data"
    }
   ],
   "source": [
    "from statsmodels.graphics.tsaplots import plot_acf,plot_pacf\n",
    "plot_acf(df1['close'])"
   ]
  },
  {
   "cell_type": "code",
   "execution_count": 16,
   "metadata": {
    "colab": {
     "base_uri": "https://localhost:8080/",
     "height": 545
    },
    "id": "K56PAQAFkJ2a",
    "outputId": "31b14ccb-ebae-458d-d00a-9e73de0f8a49"
   },
   "outputs": [
    {
     "name": "stderr",
     "output_type": "stream",
     "text": [
      "/home/sushmita/anaconda3/envs/tfEnv/lib/python3.10/site-packages/statsmodels/graphics/tsaplots.py:348: FutureWarning: The default method 'yw' can produce PACF values outside of the [-1,1] interval. After 0.13, the default will change tounadjusted Yule-Walker ('ywm'). You can use this method now by setting method='ywm'.\n",
      "  warnings.warn(\n"
     ]
    },
    {
     "data": {
      "image/png": "[encoded data removed]",
      "text/plain": [
       "<Figure size 432x288 with 1 Axes>"
      ]
     },
     "execution_count": 16,
     "metadata": {},
     "output_type": "execute_result"
    },
    {
     "data": {
      "image/png": "[encoded data removed]",
      "text/plain": [
       "<Figure size 432x288 with 1 Axes>"
      ]
     },
     "metadata": {
      "needs_background": "light"
     },
     "output_type": "display_data"
    }
   ],
   "source": [
    "plot_pacf(df['close'])"
   ]
  },
  {
   "cell_type": "code",
   "execution_count": 17,
   "metadata": {
    "id": "rY0Yu1lhkV74"
   },
   "outputs": [],
   "source": [
    "df1['first_diff']=df1['close']-df1['close'].shift(1)"
   ]
  },
  {
   "cell_type": "code",
   "execution_count": 18,
   "metadata": {
    "colab": {
     "base_uri": "https://localhost:8080/"
    },
    "id": "YgY0fCo-ltrR",
    "outputId": "7166e542-a7fc-4870-cd27-70d478eb2d2b"
   },
   "outputs": [
    {
     "name": "stdout",
     "output_type": "stream",
     "text": [
      "ADF Statistics: -36.495283520290045\n",
      "p- value: 0.0\n",
      "strong evidence against the null hypothesis, reject the null hypothesis. Data has no unit root and is stationary\n"
     ]
    }
   ],
   "source": [
    "adf_test(df1['first_diff'].dropna())"
   ]
  },
  {
   "cell_type": "code",
   "execution_count": 19,
   "metadata": {
    "colab": {
     "base_uri": "https://localhost:8080/",
     "height": 286
    },
    "id": "has_-Vw4l6Hm",
    "outputId": "e18b250f-4c58-45d4-aa71-dc0ee301e67c"
   },
   "outputs": [
    {
     "data": {
      "text/plain": [
       "<AxesSubplot:xlabel='date'>"
      ]
     },
     "execution_count": 19,
     "metadata": {},
     "output_type": "execute_result"
    },
    {
     "data": {
      "image/png": "[encoded data removed]",
      "text/plain": [
       "<Figure size 432x288 with 1 Axes>"
      ]
     },
     "metadata": {
      "needs_background": "light"
     },
     "output_type": "display_data"
    }
   ],
   "source": [
    "df1['first_diff'].plot()"
   ]
  },
  {
   "cell_type": "code",
   "execution_count": 20,
   "metadata": {
    "colab": {
     "base_uri": "https://localhost:8080/"
    },
    "id": "3-aPX3CsmFDN",
    "outputId": "051768f3-07be-4340-c7a0-fc09f341aa8b"
   },
   "outputs": [
    {
     "name": "stderr",
     "output_type": "stream",
     "text": [
      "/home/sushmita/anaconda3/envs/tfEnv/lib/python3.10/site-packages/pandas/core/arraylike.py:397: RuntimeWarning: divide by zero encountered in log2\n",
      "  result = getattr(ufunc, method)(*inputs, **kwargs)\n",
      "/home/sushmita/anaconda3/envs/tfEnv/lib/python3.10/site-packages/pandas/core/arraylike.py:397: RuntimeWarning: invalid value encountered in log2\n",
      "  result = getattr(ufunc, method)(*inputs, **kwargs)\n"
     ]
    }
   ],
   "source": [
    "df1['first_diff']=np.log2(df1['first_diff'])"
   ]
  },
  {
   "cell_type": "code",
   "execution_count": 21,
   "metadata": {
    "colab": {
     "base_uri": "https://localhost:8080/"
    },
    "id": "6FOVBYuCm_Kc",
    "outputId": "7612b058-ef8d-4353-a257-9b75eb4b13a1"
   },
   "outputs": [
    {
     "data": {
      "text/plain": [
       "date\n",
       "2018-01-25 00:00:00+00:00         NaN\n",
       "2018-01-26 00:00:00+00:00   -1.321928\n",
       "2018-01-29 00:00:00+00:00         NaN\n",
       "2018-01-30 00:00:00+00:00         NaN\n",
       "2018-01-31 00:00:00+00:00   -1.120294\n",
       "                               ...   \n",
       "2023-01-17 00:00:00+00:00    0.238787\n",
       "2023-01-18 00:00:00+00:00         NaN\n",
       "2023-01-19 00:00:00+00:00   -4.058894\n",
       "2023-01-20 00:00:00+00:00    1.378512\n",
       "2023-01-23 00:00:00+00:00    1.695994\n",
       "Name: first_diff, Length: 1257, dtype: float64"
      ]
     },
     "execution_count": 21,
     "metadata": {},
     "output_type": "execute_result"
    }
   ],
   "source": [
    "df1['first_diff']"
   ]
  },
  {
   "cell_type": "code",
   "execution_count": 22,
   "metadata": {
    "colab": {
     "base_uri": "https://localhost:8080/",
     "height": 286
    },
    "id": "RBvmU2wamphd",
    "outputId": "87aff345-c53c-4876-eb13-fe5fedf1b758"
   },
   "outputs": [
    {
     "data": {
      "text/plain": [
       "<AxesSubplot:xlabel='date'>"
      ]
     },
     "execution_count": 22,
     "metadata": {},
     "output_type": "execute_result"
    },
    {
     "data": {
      "image/png": "[encoded data removed]",
      "text/plain": [
       "<Figure size 432x288 with 1 Axes>"
      ]
     },
     "metadata": {
      "needs_background": "light"
     },
     "output_type": "display_data"
    }
   ],
   "source": [
    "df1['first_diff'].plot()"
   ]
  },
  {
   "cell_type": "code",
   "execution_count": 23,
   "metadata": {
    "colab": {
     "base_uri": "https://localhost:8080/",
     "height": 545
    },
    "id": "AjBszu8JmuhE",
    "outputId": "2c7e4d7d-1f5c-49ed-bb14-696b402683e1"
   },
   "outputs": [
    {
     "name": "stderr",
     "output_type": "stream",
     "text": [
      "/home/sushmita/anaconda3/envs/tfEnv/lib/python3.10/site-packages/matplotlib/axes/_base.py:2480: UserWarning: Warning: converting a masked element to nan.\n",
      "  xys = np.asarray(xys)\n"
     ]
    },
    {
     "data": {
      "image/png": "[encoded data removed]",
      "text/plain": [
       "<Figure size 432x288 with 1 Axes>"
      ]
     },
     "execution_count": 23,
     "metadata": {},
     "output_type": "execute_result"
    },
    {
     "data": {
      "image/png": "[encoded data removed]",
      "text/plain": [
       "<Figure size 432x288 with 1 Axes>"
      ]
     },
     "metadata": {
      "needs_background": "light"
     },
     "output_type": "display_data"
    }
   ],
   "source": [
    "plot_acf(df1['first_diff'])"
   ]
  },
  {
   "cell_type": "code",
   "execution_count": 24,
   "metadata": {
    "colab": {
     "base_uri": "https://localhost:8080/",
     "height": 545
    },
    "id": "9Z6ACxPmm3St",
    "outputId": "3eb8159b-47ca-4e44-fea7-8608456b8695"
   },
   "outputs": [
    {
     "name": "stderr",
     "output_type": "stream",
     "text": [
      "/home/sushmita/anaconda3/envs/tfEnv/lib/python3.10/site-packages/statsmodels/graphics/tsaplots.py:348: FutureWarning: The default method 'yw' can produce PACF values outside of the [-1,1] interval. After 0.13, the default will change tounadjusted Yule-Walker ('ywm'). You can use this method now by setting method='ywm'.\n",
      "  warnings.warn(\n"
     ]
    },
    {
     "data": {
      "image/png": "[encoded data removed]",
      "text/plain": [
       "<Figure size 432x288 with 1 Axes>"
      ]
     },
     "execution_count": 24,
     "metadata": {},
     "output_type": "execute_result"
    },
    {
     "data": {
      "image/png": "[encoded data removed]",
      "text/plain": [
       "<Figure size 432x288 with 1 Axes>"
      ]
     },
     "metadata": {
      "needs_background": "light"
     },
     "output_type": "display_data"
    }
   ],
   "source": [
    "plot_pacf(df1['first_diff'])"
   ]
  },
  {
   "cell_type": "code",
   "execution_count": 25,
   "metadata": {
    "id": "rOVkPI4HnYLd"
   },
   "outputs": [],
   "source": [
    "df1['first_diff']=df1['close']-df1['close'].shift(1)"
   ]
  },
  {
   "cell_type": "code",
   "execution_count": 26,
   "metadata": {
    "colab": {
     "base_uri": "https://localhost:8080/",
     "height": 545
    },
    "id": "C7pqomY_nZZD",
    "outputId": "998c2fd2-5e97-4be7-cee5-10f8cec91bd9"
   },
   "outputs": [
    {
     "data": {
      "image/png": "[encoded data removed]",
      "text/plain": [
       "<Figure size 432x288 with 1 Axes>"
      ]
     },
     "execution_count": 26,
     "metadata": {},
     "output_type": "execute_result"
    },
    {
     "data": {
      "image/png": "[encoded data removed]",
      "text/plain": [
       "<Figure size 432x288 with 1 Axes>"
      ]
     },
     "metadata": {
      "needs_background": "light"
     },
     "output_type": "display_data"
    }
   ],
   "source": [
    "plot_acf(df1['first_diff'])"
   ]
  },
  {
   "cell_type": "code",
   "execution_count": 27,
   "metadata": {
    "colab": {
     "base_uri": "https://localhost:8080/",
     "height": 545
    },
    "id": "6xmW-RTWndJH",
    "outputId": "8ce14856-743c-49ed-ba24-6941a578c7fa"
   },
   "outputs": [
    {
     "data": {
      "image/png": "[encoded data removed]",
      "text/plain": [
       "<Figure size 432x288 with 1 Axes>"
      ]
     },
     "execution_count": 27,
     "metadata": {},
     "output_type": "execute_result"
    },
    {
     "data": {
      "image/png": "[encoded data removed]",
      "text/plain": [
       "<Figure size 432x288 with 1 Axes>"
      ]
     },
     "metadata": {
      "needs_background": "light"
     },
     "output_type": "display_data"
    }
   ],
   "source": [
    "plot_pacf(df1['first_diff'])"
   ]
  },
  {
   "cell_type": "code",
   "execution_count": 28,
   "metadata": {
    "colab": {
     "base_uri": "https://localhost:8080/",
     "height": 286
    },
    "id": "cwk9wrxFnl3G",
    "outputId": "0c75c388-a939-4871-a38c-fe5b32aae11a"
   },
   "outputs": [
    {
     "data": {
      "text/plain": [
       "<AxesSubplot:xlabel='date'>"
      ]
     },
     "execution_count": 28,
     "metadata": {},
     "output_type": "execute_result"
    },
    {
     "data": {
      "image/png": "[encoded data removed]",
      "text/plain": [
       "<Figure size 432x288 with 1 Axes>"
      ]
     },
     "metadata": {
      "needs_background": "light"
     },
     "output_type": "display_data"
    }
   ],
   "source": [
    "df1['first_diff'].plot()"
   ]
  },
  {
   "cell_type": "code",
   "execution_count": 29,
   "metadata": {
    "colab": {
     "base_uri": "https://localhost:8080/"
    },
    "id": "sOdHp0yioj9q",
    "outputId": "e77531f5-ea47-4613-d4ca-35888aee43bb"
   },
   "outputs": [
    {
     "data": {
      "text/plain": [
       "0       171.11\n",
       "1       171.51\n",
       "2       167.96\n",
       "3       166.97\n",
       "4       167.43\n",
       "         ...  \n",
       "1252    135.94\n",
       "1253    135.21\n",
       "1254    135.27\n",
       "1255    137.87\n",
       "1256    141.11\n",
       "Name: close, Length: 1257, dtype: float64"
      ]
     },
     "execution_count": 29,
     "metadata": {},
     "output_type": "execute_result"
    }
   ],
   "source": [
    "df2=df1.reset_index()['close']\n",
    "df2"
   ]
  },
  {
   "cell_type": "code",
   "execution_count": 30,
   "metadata": {
    "id": "TOL3bJJHo3Ip"
   },
   "outputs": [],
   "source": [
    "from sklearn.preprocessing import MinMaxScaler\n",
    "scaler=MinMaxScaler(feature_range=(0,1))\n",
    "df2=scaler.fit_transform(np.array(df2).reshape(-1,1))"
   ]
  },
  {
   "cell_type": "code",
   "execution_count": 31,
   "metadata": {
    "id": "rCgqR9AipA_r"
   },
   "outputs": [],
   "source": [
    "##splitting dataset into train and test split\n",
    "training_size=int(len(df1)*0.75)\n",
    "test_size=len(df1)-training_size\n",
    "train_data,test_data=df2[0:training_size,:],df2[training_size:len(df2),:1]"
   ]
  },
  {
   "cell_type": "code",
   "execution_count": 32,
   "metadata": {
    "colab": {
     "base_uri": "https://localhost:8080/"
    },
    "id": "uKVtEeO_pMG1",
    "outputId": "2a2c73bd-4c21-41e0-b3df-1e3be8244a01"
   },
   "outputs": [
    {
     "data": {
      "text/plain": [
       "(942, 315)"
      ]
     },
     "execution_count": 32,
     "metadata": {},
     "output_type": "execute_result"
    }
   ],
   "source": [
    "training_size,test_size"
   ]
  },
  {
   "cell_type": "code",
   "execution_count": 33,
   "metadata": {
    "id": "JTnZa6SppMRF"
   },
   "outputs": [],
   "source": [
    "def create_dataset(dataset, time_step=1):\n",
    "\tdataX, dataY = [], []\n",
    "\tfor i in range(len(dataset)-time_step-1):\n",
    "\t\ta = dataset[i:(i+time_step), 0]   ###i=0, 0,1,2,3-----99   100 \n",
    "\t\tdataX.append(a)\n",
    "\t\tdataY.append(dataset[i + time_step, 0])\n",
    "\treturn np.array(dataX), np.array(dataY)"
   ]
  },
  {
   "cell_type": "code",
   "execution_count": 34,
   "metadata": {
    "id": "eyOKQzo-pbzc"
   },
   "outputs": [],
   "source": [
    "time_step = 50\n",
    "X_train, y_train = create_dataset(train_data, time_step)\n",
    "X_test, ytest = create_dataset(test_data, time_step)"
   ]
  },
  {
   "cell_type": "code",
   "execution_count": 35,
   "metadata": {
    "colab": {
     "base_uri": "https://localhost:8080/"
    },
    "id": "5QanoAYCpjfp",
    "outputId": "c1786249-9e5e-4307-b8b0-b4b965d55866"
   },
   "outputs": [
    {
     "name": "stdout",
     "output_type": "stream",
     "text": [
      "(891, 50)\n",
      "(891,)\n"
     ]
    },
    {
     "data": {
      "text/plain": [
       "(None, None)"
      ]
     },
     "execution_count": 35,
     "metadata": {},
     "output_type": "execute_result"
    }
   ],
   "source": [
    "print(X_train.shape), print(y_train.shape)"
   ]
  },
  {
   "cell_type": "code",
   "execution_count": 36,
   "metadata": {
    "id": "byxBCM4epMTH"
   },
   "outputs": [],
   "source": [
    "\n",
    "# reshape input to be [samples, time steps, features] which is required for LSTM\n",
    "X_train =X_train.reshape(X_train.shape[0],X_train.shape[1] , 1)\n",
    "X_test = X_test.reshape(X_test.shape[0],X_test.shape[1] , 1)"
   ]
  },
  {
   "cell_type": "code",
   "execution_count": 37,
   "metadata": {
    "id": "h24RDWn_pMVZ"
   },
   "outputs": [
    {
     "name": "stderr",
     "output_type": "stream",
     "text": [
      "2023-01-24 14:21:02.129885: I tensorflow/core/platform/cpu_feature_guard.cc:193] This TensorFlow binary is optimized with oneAPI Deep Neural Network Library (oneDNN) to use the following CPU instructions in performance-critical operations:  AVX2 FMA\n",
      "To enable them in other operations, rebuild TensorFlow with the appropriate compiler flags.\n",
      "2023-01-24 14:21:02.263578: W tensorflow/compiler/xla/stream_executor/platform/default/dso_loader.cc:64] Could not load dynamic library 'libcudart.so.11.0'; dlerror: libcudart.so.11.0: cannot open shared object file: No such file or directory\n",
      "2023-01-24 14:21:02.263594: I tensorflow/compiler/xla/stream_executor/cuda/cudart_stub.cc:29] Ignore above cudart dlerror if you do not have a GPU set up on your machine.\n",
      "2023-01-24 14:21:02.782031: W tensorflow/compiler/xla/stream_executor/platform/default/dso_loader.cc:64] Could not load dynamic library 'libnvinfer.so.7'; dlerror: libnvinfer.so.7: cannot open shared object file: No such file or directory\n",
      "2023-01-24 14:21:02.782106: W tensorflow/compiler/xla/stream_executor/platform/default/dso_loader.cc:64] Could not load dynamic library 'libnvinfer_plugin.so.7'; dlerror: libnvinfer_plugin.so.7: cannot open shared object file: No such file or directory\n",
      "2023-01-24 14:21:02.782113: W tensorflow/compiler/tf2tensorrt/utils/py_utils.cc:38] TF-TRT Warning: Cannot dlopen some TensorRT libraries. If you would like to use Nvidia GPU with TensorRT, please make sure the missing libraries mentioned above are installed properly.\n"
     ]
    }
   ],
   "source": [
    "### Create the Stacked LSTM model\n",
    "from tensorflow.keras.models import Sequential\n",
    "from tensorflow.keras.layers import Dense\n",
    "from tensorflow.keras.layers import LSTM"
   ]
  },
  {
   "cell_type": "code",
   "execution_count": 38,
   "metadata": {
    "id": "phhsjxUapMY6"
   },
   "outputs": [
    {
     "name": "stderr",
     "output_type": "stream",
     "text": [
      "2023-01-24 14:21:03.278143: I tensorflow/compiler/xla/stream_executor/cuda/cuda_gpu_executor.cc:981] successful NUMA node read from SysFS had negative value (-1), but there must be at least one NUMA node, so returning NUMA node zero\n",
      "2023-01-24 14:21:03.278444: W tensorflow/compiler/xla/stream_executor/platform/default/dso_loader.cc:64] Could not load dynamic library 'libcudart.so.11.0'; dlerror: libcudart.so.11.0: cannot open shared object file: No such file or directory\n",
      "2023-01-24 14:21:03.278527: W tensorflow/compiler/xla/stream_executor/platform/default/dso_loader.cc:64] Could not load dynamic library 'libcublas.so.11'; dlerror: libcublas.so.11: cannot open shared object file: No such file or directory\n",
      "2023-01-24 14:21:03.278601: W tensorflow/compiler/xla/stream_executor/platform/default/dso_loader.cc:64] Could not load dynamic library 'libcublasLt.so.11'; dlerror: libcublasLt.so.11: cannot open shared object file: No such file or directory\n",
      "2023-01-24 14:21:03.278672: W tensorflow/compiler/xla/stream_executor/platform/default/dso_loader.cc:64] Could not load dynamic library 'libcufft.so.10'; dlerror: libcufft.so.10: cannot open shared object file: No such file or directory\n",
      "2023-01-24 14:21:03.278742: W tensorflow/compiler/xla/stream_executor/platform/default/dso_loader.cc:64] Could not load dynamic library 'libcurand.so.10'; dlerror: libcurand.so.10: cannot open shared object file: No such file or directory\n",
      "2023-01-24 14:21:03.278812: W tensorflow/compiler/xla/stream_executor/platform/default/dso_loader.cc:64] Could not load dynamic library 'libcusolver.so.11'; dlerror: libcusolver.so.11: cannot open shared object file: No such file or directory\n",
      "2023-01-24 14:21:03.278891: W tensorflow/compiler/xla/stream_executor/platform/default/dso_loader.cc:64] Could not load dynamic library 'libcusparse.so.11'; dlerror: libcusparse.so.11: cannot open shared object file: No such file or directory\n",
      "2023-01-24 14:21:03.279000: W tensorflow/compiler/xla/stream_executor/platform/default/dso_loader.cc:64] Could not load dynamic library 'libcudnn.so.8'; dlerror: libcudnn.so.8: cannot open shared object file: No such file or directory\n",
      "2023-01-24 14:21:03.279014: W tensorflow/core/common_runtime/gpu/gpu_device.cc:1934] Cannot dlopen some GPU libraries. Please make sure the missing libraries mentioned above are installed properly if you would like to use GPU. Follow the guide at https://www.tensorflow.org/install/gpu for how to download and setup the required libraries for your platform.\n",
      "Skipping registering GPU devices...\n",
      "2023-01-24 14:21:03.279719: I tensorflow/core/platform/cpu_feature_guard.cc:193] This TensorFlow binary is optimized with oneAPI Deep Neural Network Library (oneDNN) to use the following CPU instructions in performance-critical operations:  AVX2 FMA\n",
      "To enable them in other operations, rebuild TensorFlow with the appropriate compiler flags.\n"
     ]
    }
   ],
   "source": [
    "model=Sequential()\n",
    "model.add(LSTM(50,return_sequences=True,input_shape=(50,1)))\n",
    "model.add(LSTM(50,return_sequences=True))\n",
    "model.add(LSTM(50))\n",
    "model.add(Dense(16))\n",
    "model.add(Dense(1))\n",
    "model.compile(loss='mean_squared_error',optimizer='adam')"
   ]
  },
  {
   "cell_type": "code",
   "execution_count": 40,
   "metadata": {
    "colab": {
     "base_uri": "https://localhost:8080/"
    },
    "id": "gwYLMLBFrlZf",
    "outputId": "47a5318b-d8b1-4f68-db6a-a73fe1419767"
   },
   "outputs": [
    {
     "name": "stdout",
     "output_type": "stream",
     "text": [
      "Epoch 1/10\n",
      "28/28 [==============================] - 1s 49ms/step - loss: 0.0060 - val_loss: 0.0013\n",
      "Epoch 2/10\n",
      "28/28 [==============================] - 1s 47ms/step - loss: 0.0046 - val_loss: 3.8300e-04\n",
      "Epoch 3/10\n",
      "28/28 [==============================] - 1s 44ms/step - loss: 0.0037 - val_loss: 0.0010\n",
      "Epoch 4/10\n",
      "28/28 [==============================] - 1s 45ms/step - loss: 0.0040 - val_loss: 0.0017\n",
      "Epoch 5/10\n",
      "28/28 [==============================] - 1s 48ms/step - loss: 0.0037 - val_loss: 5.0613e-04\n",
      "Epoch 6/10\n",
      "28/28 [==============================] - 1s 51ms/step - loss: 0.0027 - val_loss: 4.7102e-04\n",
      "Epoch 7/10\n",
      "28/28 [==============================] - 1s 50ms/step - loss: 0.0030 - val_loss: 4.3921e-04\n",
      "Epoch 8/10\n",
      "28/28 [==============================] - 1s 51ms/step - loss: 0.0027 - val_loss: 2.3271e-04\n",
      "Epoch 9/10\n",
      "28/28 [==============================] - 1s 47ms/step - loss: 0.0031 - val_loss: 2.3992e-04\n",
      "Epoch 10/10\n",
      "28/28 [==============================] - 1s 44ms/step - loss: 0.0025 - val_loss: 3.6779e-04\n"
     ]
    },
    {
     "data": {
      "text/plain": [
       "<keras.callbacks.History at 0x7ff8b4193ee0>"
      ]
     },
     "execution_count": 40,
     "metadata": {},
     "output_type": "execute_result"
    }
   ],
   "source": [
    "model.fit(X_train,y_train,validation_data=(X_test,ytest),epochs=10,batch_size=32,verbose=1)"
   ]
  },
  {
   "cell_type": "code",
   "execution_count": 41,
   "metadata": {
    "colab": {
     "base_uri": "https://localhost:8080/"
    },
    "id": "j5EgO4qhrrjh",
    "outputId": "d9f29131-a72c-4d57-ff2d-cc687eb22047"
   },
   "outputs": [
    {
     "name": "stdout",
     "output_type": "stream",
     "text": [
      "28/28 [==============================] - 1s 15ms/step\n",
      "9/9 [==============================] - 0s 15ms/step\n"
     ]
    }
   ],
   "source": [
    "train_predict=model.predict(X_train)\n",
    "test_predict=model.predict(X_test)"
   ]
  },
  {
   "cell_type": "code",
   "execution_count": 42,
   "metadata": {
    "id": "koCus7_Dr-NV"
   },
   "outputs": [],
   "source": [
    "train_predict=scaler.inverse_transform(train_predict)\n",
    "test_predict=scaler.inverse_transform(test_predict)"
   ]
  },
  {
   "cell_type": "code",
   "execution_count": 43,
   "metadata": {
    "colab": {
     "base_uri": "https://localhost:8080/"
    },
    "id": "OnAkLU5psFsj",
    "outputId": "540211aa-d060-45df-f68e-9c66aa2f88b0"
   },
   "outputs": [
    {
     "data": {
      "text/plain": [
       "215.30698601163974"
      ]
     },
     "execution_count": 43,
     "metadata": {},
     "output_type": "execute_result"
    }
   ],
   "source": [
    "import math\n",
    "from sklearn.metrics import mean_squared_error\n",
    "math.sqrt(mean_squared_error(y_train,train_predict))"
   ]
  },
  {
   "cell_type": "code",
   "execution_count": 44,
   "metadata": {
    "colab": {
     "base_uri": "https://localhost:8080/"
    },
    "id": "Mk8Mn_0SsGsy",
    "outputId": "dcec74b4-7da6-4bfa-8f04-f5ecbc20bcc8"
   },
   "outputs": [
    {
     "data": {
      "text/plain": [
       "158.90912152704027"
      ]
     },
     "execution_count": 44,
     "metadata": {},
     "output_type": "execute_result"
    }
   ],
   "source": [
    "### Test Data RMSE\n",
    "math.sqrt(mean_squared_error(ytest,test_predict))"
   ]
  },
  {
   "cell_type": "code",
   "execution_count": 46,
   "metadata": {
    "colab": {
     "base_uri": "https://localhost:8080/",
     "height": 265
    },
    "id": "51pb2IoCsKlD",
    "outputId": "51ff7e48-9198-4daa-ffda-7137f972cfba"
   },
   "outputs": [
    {
     "data": {
      "image/png": "[encoded data removed]",
      "text/plain": [
       "<Figure size 432x288 with 1 Axes>"
      ]
     },
     "metadata": {
      "needs_background": "light"
     },
     "output_type": "display_data"
    }
   ],
   "source": [
    "### Plotting \n",
    "# shift train predictions for plotting\n",
    "look_back=50\n",
    "trainPredictPlot = np.empty_like(df2)\n",
    "trainPredictPlot[:, :] = np.nan\n",
    "trainPredictPlot[look_back:len(train_predict)+look_back, :] = train_predict\n",
    "# shift test predictions for plotting\n",
    "testPredictPlot = np.empty_like(df2)\n",
    "testPredictPlot[:, :] = np.nan\n",
    "testPredictPlot[len(train_predict)+(look_back*2)+1:len(df2)-1, :] = test_predict\n",
    "# plot baseline and predictions\n",
    "plt.plot(scaler.inverse_transform(df2))\n",
    "plt.plot(trainPredictPlot)\n",
    "plt.plot(testPredictPlot)\n",
    "plt.show()"
   ]
  },
  {
   "cell_type": "code",
   "execution_count": null,
   "metadata": {},
   "outputs": [],
   "source": [
    "### Plotting \n",
    "# shift train predictions for plotting\n",
    "look_back=50\n",
    "trainPredictPlot = np.empty_like(df2)\n",
    "trainPredictPlot[:, :] = np.nan\n",
    "trainPredictPlot[look_back:len(train_predict)+look_back, :] = train_predict\n",
    "# shift test predictions for plotting\n",
    "testPredictPlot = np.empty_like(df2)\n",
    "testPredictPlot[:, :] = np.nan\n",
    "testPredictPlot[len(train_predict)+(look_back*2)+1:len(df2)-1, :] = test_predict\n",
    "# plot baseline and predictions\n",
    "plt.plot(scaler.inverse_transform(df2))\n",
    "plt.plot(trainPredictPlot)\n",
    "plt.plot(testPredictPlot)\n",
    "plt.show()"
   ]
  }
 ],
 "metadata": {
  "accelerator": "GPU",
  "colab": {
   "provenance": []
  },
  "gpuClass": "standard",
  "kernelspec": {
   "display_name": "Python 3 (ipykernel)",
   "language": "python",
   "name": "python3"
  },
  "language_info": {
   "codemirror_mode": {
    "name": "ipython",
    "version": 3
   },
   "file_extension": ".py",
   "mimetype": "text/x-python",
   "name": "python",
   "nbconvert_exporter": "python",
   "pygments_lexer": "ipython3",
   "version": "3.10.4"
  }
 },
 "nbformat": 4,
 "nbformat_minor": 1
}
